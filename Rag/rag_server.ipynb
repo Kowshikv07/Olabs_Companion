{
 "cells": [
  {
   "cell_type": "code",
   "execution_count": null,
   "metadata": {},
   "outputs": [
    {
     "name": "stderr",
     "output_type": "stream",
     "text": [
      "INFO:sentence_transformers.SentenceTransformer:Use pytorch device_name: cuda\n",
      "INFO:sentence_transformers.SentenceTransformer:Load pretrained SentenceTransformer: all-MiniLM-L6-v2\n"
     ]
    },
    {
     "name": "stdout",
     "output_type": "stream",
     "text": [
      " * Serving Flask app '__main__'\n",
      " * Debug mode: off\n"
     ]
    },
    {
     "name": "stderr",
     "output_type": "stream",
     "text": [
      "INFO:werkzeug:\u001b[31m\u001b[1mWARNING: This is a development server. Do not use it in a production deployment. Use a production WSGI server instead.\u001b[0m\n",
      " * Running on all addresses (0.0.0.0)\n",
      " * Running on http://127.0.0.1:5001\n",
      " * Running on http://192.168.191.180:5001\n",
      "INFO:werkzeug:\u001b[33mPress CTRL+C to quit\u001b[0m\n",
      "INFO:werkzeug:127.0.0.1 - - [01/Mar/2025 14:33:42] \"OPTIONS /search HTTP/1.1\" 200 -\n"
     ]
    },
    {
     "data": {
      "application/vnd.jupyter.widget-view+json": {
       "model_id": "48c6f5f89dab49739ea1c1184360270e",
       "version_major": 2,
       "version_minor": 0
      },
      "text/plain": [
       "Batches:   0%|          | 0/1 [00:00<?, ?it/s]"
      ]
     },
     "metadata": {},
     "output_type": "display_data"
    },
    {
     "name": "stderr",
     "output_type": "stream",
     "text": [
      "C:\\Users\\MATHAN\\AppData\\Local\\Temp\\ipykernel_20744\\1716164557.py:27: DeprecationWarning: `search` method is deprecated and will be removed in the future. Use `query_points` instead.\n",
      "  search_results = client.search(\n",
      "ERROR:root:Search failed: [WinError 10061] No connection could be made because the target machine actively refused it\n",
      "INFO:werkzeug:127.0.0.1 - - [01/Mar/2025 14:33:47] \"POST /search HTTP/1.1\" 200 -\n",
      "INFO:werkzeug:127.0.0.1 - - [01/Mar/2025 14:38:12] \"OPTIONS /search HTTP/1.1\" 200 -\n"
     ]
    },
    {
     "data": {
      "application/vnd.jupyter.widget-view+json": {
       "model_id": "585e9b5a75d04323a53bf1ef465851d7",
       "version_major": 2,
       "version_minor": 0
      },
      "text/plain": [
       "Batches:   0%|          | 0/1 [00:00<?, ?it/s]"
      ]
     },
     "metadata": {},
     "output_type": "display_data"
    },
    {
     "name": "stderr",
     "output_type": "stream",
     "text": [
      "ERROR:root:Search failed: [WinError 10061] No connection could be made because the target machine actively refused it\n",
      "INFO:werkzeug:127.0.0.1 - - [01/Mar/2025 14:38:16] \"POST /search HTTP/1.1\" 200 -\n",
      "INFO:werkzeug:127.0.0.1 - - [01/Mar/2025 14:38:36] \"OPTIONS /search HTTP/1.1\" 200 -\n"
     ]
    },
    {
     "data": {
      "application/vnd.jupyter.widget-view+json": {
       "model_id": "7be154cb9bc64165b57a357230b266aa",
       "version_major": 2,
       "version_minor": 0
      },
      "text/plain": [
       "Batches:   0%|          | 0/1 [00:00<?, ?it/s]"
      ]
     },
     "metadata": {},
     "output_type": "display_data"
    },
    {
     "name": "stderr",
     "output_type": "stream",
     "text": [
      "ERROR:root:Search failed: [WinError 10061] No connection could be made because the target machine actively refused it\n",
      "INFO:werkzeug:127.0.0.1 - - [01/Mar/2025 14:38:40] \"POST /search HTTP/1.1\" 200 -\n"
     ]
    }
   ],
   "source": [
    "from flask import Flask, request, jsonify\n",
    "from flask_cors import CORS\n",
    "from sentence_transformers import SentenceTransformer\n",
    "from qdrant_client import QdrantClient\n",
    "import logging\n",
    "\n",
    "# Configure logging\n",
    "logging.basicConfig(level=logging.INFO)\n",
    "\n",
    "# Initialize Flask app\n",
    "app = Flask(__name__)\n",
    "CORS(app)\n",
    "\n",
    "# Initialize components\n",
    "try:\n",
    "    model = SentenceTransformer('all-MiniLM-L6-v2')\n",
    "    client = QdrantClient(host='localhost', port=6333)\n",
    "    collection_name = \"Olabs_final\"\n",
    "except Exception as e:\n",
    "    logging.error(f\"Initialization failed: {str(e)}\")\n",
    "    raise\n",
    "\n",
    "def simple_retrieval(query: str, top_k: int = 5) -> list:\n",
    "    \"\"\"Perform vector retrieval without metadata filtering\"\"\"\n",
    "    try:\n",
    "        query_embedding = model.encode(query).tolist()\n",
    "        search_results = client.search(\n",
    "            collection_name=collection_name,\n",
    "            query_vector=query_embedding,\n",
    "            limit=top_k\n",
    "        )\n",
    "        return [{\n",
    "            \"score\": hit.score,\n",
    "            \"text\": hit.payload.get(\"chunk_text\", \"\"),\n",
    "        } for hit in search_results]\n",
    "    except Exception as e:\n",
    "        logging.error(f\"Search failed: {str(e)}\")\n",
    "        return []\n",
    "\n",
    "@app.route('/search', methods=['POST'])\n",
    "def handle_search():\n",
    "    try:\n",
    "        data = request.get_json()\n",
    "        if not data or 'query' not in data:\n",
    "            return jsonify({\"error\": \"Missing query parameter\"}), 400\n",
    "            \n",
    "        query = data['query']\n",
    "        top_k = int(data.get('top_k', 5))\n",
    "        results = simple_retrieval(query, top_k)\n",
    "        \n",
    "        return jsonify({\n",
    "            \"results\": results,\n",
    "            \"collection\": collection_name,\n",
    "            \"status\": \"success\"\n",
    "        })\n",
    "        \n",
    "    except Exception as e:\n",
    "        logging.error(f\"API error: {str(e)}\")\n",
    "        return jsonify({\"error\": str(e), \"status\": \"error\"}), 500\n",
    "\n",
    "@app.route('/health', methods=['GET'])\n",
    "def health_check():\n",
    "    try:\n",
    "        # Check Qdrant connection\n",
    "        client.get_collections()\n",
    "        return jsonify({\n",
    "            \"status\": \"healthy\",\n",
    "            \"qdrant\": \"connected\",\n",
    "            \"model\": \"loaded\"\n",
    "        })\n",
    "    except Exception as e:\n",
    "        return jsonify({\n",
    "            \"status\": \"degraded\",\n",
    "            \"qdrant\": \"disconnected\",\n",
    "            \"error\": str(e)\n",
    "        }), 500\n",
    "\n",
    "if __name__ == '__main__':\n",
    "    app.run(host='0.0.0.0', port=5001, debug=False, use_reloader=False)"
   ]
  },
  {
   "cell_type": "code",
   "execution_count": null,
   "metadata": {},
   "outputs": [],
   "source": []
  }
 ],
 "metadata": {
  "kernelspec": {
   "display_name": "Python 3",
   "language": "python",
   "name": "python3"
  },
  "language_info": {
   "codemirror_mode": {
    "name": "ipython",
    "version": 3
   },
   "file_extension": ".py",
   "mimetype": "text/x-python",
   "name": "python",
   "nbconvert_exporter": "python",
   "pygments_lexer": "ipython3",
   "version": "3.12.4"
  }
 },
 "nbformat": 4,
 "nbformat_minor": 2
}
