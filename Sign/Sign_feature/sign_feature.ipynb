{
  "cells": [
    {
      "cell_type": "code",
      "execution_count": 2,
      "metadata": {},
      "outputs": [
        {
          "name": "stderr",
          "output_type": "stream",
          "text": [
            "[2025-03-01 14:53:59,618] INFO in 1940395012: ISL_VIDEOS_PATH: N:\\CAI\\hackathon\\Olabs_Final\\Sign\\words, exists: False\n"
          ]
        },
        {
          "name": "stdout",
          "output_type": "stream",
          "text": [
            "ISL_VIDEOS_PATH: N:\\CAI\\hackathon\\Olabs_Final\\Sign\\words, exists: False\n",
            "ISL_VIDEOS_PATH: N:\\CAI\\hackathon\\Olabs_Final\\Sign\\words, exists: False\n"
          ]
        },
        {
          "name": "stderr",
          "output_type": "stream",
          "text": [
            "[2025-03-01 14:53:59,618] INFO in 1940395012: ALPHABET_VIDEOS_PATH: N:\\CAI\\hackathon\\Olabs_Final\\Sign\\words\\alphabet_clips, exists: False\n"
          ]
        },
        {
          "name": "stdout",
          "output_type": "stream",
          "text": [
            "ALPHABET_VIDEOS_PATH: N:\\CAI\\hackathon\\Olabs_Final\\Sign\\words\\alphabet_clips, exists: False\n",
            "ALPHABET_VIDEOS_PATH: N:\\CAI\\hackathon\\Olabs_Final\\Sign\\words\\alphabet_clips, exists: False\n"
          ]
        },
        {
          "name": "stderr",
          "output_type": "stream",
          "text": [
            "[2025-03-01 14:53:59,618] INFO in 1940395012: Temporary directory created at: C:\\Users\\MATHAN\\AppData\\Local\\Temp\\isl_videos\n"
          ]
        },
        {
          "name": "stdout",
          "output_type": "stream",
          "text": [
            "Temporary directory created at: C:\\Users\\MATHAN\\AppData\\Local\\Temp\\isl_videos\n",
            "Temporary directory created at: C:\\Users\\MATHAN\\AppData\\Local\\Temp\\isl_videos\n"
          ]
        },
        {
          "name": "stderr",
          "output_type": "stream",
          "text": [
            "[2025-03-01 14:53:59,618] INFO in 1940395012: Starting Flask application...\n"
          ]
        },
        {
          "name": "stdout",
          "output_type": "stream",
          "text": [
            "Starting Flask application...\n",
            "Starting Flask application...\n",
            " * Serving Flask app '__main__'\n",
            " * Debug mode: off\n"
          ]
        },
        {
          "name": "stderr",
          "output_type": "stream",
          "text": [
            "WARNING: This is a development server. Do not use it in a production deployment. Use a production WSGI server instead.\n",
            " * Running on http://127.0.0.1:5002\n",
            "Press CTRL+C to quit\n",
            "127.0.0.1 - - [01/Mar/2025 14:54:01] \"GET / HTTP/1.1\" 200 -\n",
            "127.0.0.1 - - [01/Mar/2025 14:54:02] \"GET /hybridaction/zybTrackerStatisticsAction?data={}&__callback__=__cb__zybTrackerStatisticsAction__c6a82d2e_7d28_4baf_a48b_4c734c46a34b__0 HTTP/1.1\" 404 -\n",
            "127.0.0.1 - - [01/Mar/2025 14:54:02] \"GET /hybridaction/zybTrackerStatisticsAction?data={}&__callback__=__cb__zybTrackerStatisticsAction__4e290751_f689_4dc9_b724_bb0442068260__1 HTTP/1.1\" 404 -\n",
            "127.0.0.1 - - [01/Mar/2025 14:54:02] \"GET /hybridaction/zybTrackerStatisticsAction?data={}&__callback__=__cb__zybTrackerStatisticsAction__2586b07c_45cf_4d00_940a_6eeb17d4f157__2 HTTP/1.1\" 404 -\n",
            "127.0.0.1 - - [01/Mar/2025 14:54:02] \"GET /hybridaction/zybTrackerStatisticsAction?data={}&__callback__=__cb__zybTrackerStatisticsAction__073cf533_c34c_4adc_acb3_ef4c7576d74f__3 HTTP/1.1\" 404 -\n",
            "127.0.0.1 - - [01/Mar/2025 14:54:02] \"GET /hybridaction/zybTrackerStatisticsAction?data={}&__callback__=__cb__zybTrackerStatisticsAction__520c1978_448d_458f_9f6f_7d2eb5f6834b__4 HTTP/1.1\" 404 -\n",
            "127.0.0.1 - - [01/Mar/2025 14:54:02] \"GET /hybridaction/zybTrackerStatisticsAction?data={}&__callback__=__cb__zybTrackerStatisticsAction__da351da9_9ebc_43b0_8c53_4cdd88f846c6__5 HTTP/1.1\" 404 -\n",
            "127.0.0.1 - - [01/Mar/2025 14:54:03] \"GET /hybridaction/zybTrackerStatisticsAction?data={}&__callback__=__cb__zybTrackerStatisticsAction__4704ac8d_a86a_4ad0_a639_812e0b654d41__0 HTTP/1.1\" 404 -\n",
            "127.0.0.1 - - [01/Mar/2025 14:54:03] \"GET /hybridaction/zybTrackerStatisticsAction?data={}&__callback__=__cb__zybTrackerStatisticsAction__a4ca4fed_8795_40fa_b2fd_24e7f3009b84__1 HTTP/1.1\" 404 -\n",
            "127.0.0.1 - - [01/Mar/2025 14:54:03] \"GET /hybridaction/zybTrackerStatisticsAction?data={}&__callback__=__cb__zybTrackerStatisticsAction__1f586164_6edb_42ca_b7cc_5c66fc108ba2__2 HTTP/1.1\" 404 -\n",
            "127.0.0.1 - - [01/Mar/2025 14:54:03] \"GET /hybridaction/zybTrackerStatisticsAction?data={}&__callback__=__cb__zybTrackerStatisticsAction__91562495_16ad_47ad_9ef2_de54302e1a35__0 HTTP/1.1\" 404 -\n",
            "127.0.0.1 - - [01/Mar/2025 14:54:03] \"GET /hybridaction/zybTrackerStatisticsAction?data={}&__callback__=__cb__zybTrackerStatisticsAction__e8c35c13_6130_4029_8912_188b092fd3b6__1 HTTP/1.1\" 404 -\n",
            "127.0.0.1 - - [01/Mar/2025 14:54:03] \"GET /hybridaction/zybTrackerStatisticsAction?data={}&__callback__=__cb__zybTrackerStatisticsAction__29fc591a_84fc_40c2_a59b_6f13f7a5ef4f__2 HTTP/1.1\" 404 -\n",
            "127.0.0.1 - - [01/Mar/2025 14:54:03] \"GET /hybridaction/zybTrackerStatisticsAction?data={}&__callback__=__cb__zybTrackerStatisticsAction__d104c038_1be3_4c55_b2f7_b76c511a94dd__0 HTTP/1.1\" 404 -\n",
            "127.0.0.1 - - [01/Mar/2025 14:54:03] \"GET /hybridaction/zybTrackerStatisticsAction?data={}&__callback__=__cb__zybTrackerStatisticsAction__b728fb75_5ec7_4aa2_92bc_bd329d3daa12__1 HTTP/1.1\" 404 -\n",
            "127.0.0.1 - - [01/Mar/2025 14:54:03] \"GET /hybridaction/zybTrackerStatisticsAction?data={}&__callback__=__cb__zybTrackerStatisticsAction__a1eed074_158f_41ae_b707_1d0ae62e5b5f__2 HTTP/1.1\" 404 -\n",
            "127.0.0.1 - - [01/Mar/2025 14:54:03] \"GET /hybridaction/zybTrackerStatisticsAction?data={}&__callback__=__cb__zybTrackerStatisticsAction__7a0ed4ab_4265_4f56_b7f6_3a62974f293a__0 HTTP/1.1\" 404 -\n",
            "127.0.0.1 - - [01/Mar/2025 14:54:03] \"GET /hybridaction/zybTrackerStatisticsAction?data={}&__callback__=__cb__zybTrackerStatisticsAction__99d97860_cf93_427f_ab79_97de56dca421__1 HTTP/1.1\" 404 -\n",
            "127.0.0.1 - - [01/Mar/2025 14:54:03] \"GET /hybridaction/zybTrackerStatisticsAction?data={}&__callback__=__cb__zybTrackerStatisticsAction__8854ab27_e2ad_434a_b8e0_e428cd69d018__2 HTTP/1.1\" 404 -\n",
            "127.0.0.1 - - [01/Mar/2025 14:54:03] \"GET /hybridaction/zybTrackerStatisticsAction?data={}&__callback__=__cb__zybTrackerStatisticsAction__fbe8cb1e_3c0d_4ba7_ae8c_b9108e256dda__0 HTTP/1.1\" 404 -\n",
            "127.0.0.1 - - [01/Mar/2025 14:54:03] \"GET /hybridaction/zybTrackerStatisticsAction?data={}&__callback__=__cb__zybTrackerStatisticsAction__8e1f1d65_37dd_4af3_971d_2cd470c0dddf__1 HTTP/1.1\" 404 -\n",
            "127.0.0.1 - - [01/Mar/2025 14:54:03] \"GET /hybridaction/zybTrackerStatisticsAction?data={}&__callback__=__cb__zybTrackerStatisticsAction__2aa6eb46_baaa_4efe_a488_eb665c1163bc__2 HTTP/1.1\" 404 -\n",
            "127.0.0.1 - - [01/Mar/2025 14:54:03] \"GET /hybridaction/zybTrackerStatisticsAction?data={}&__callback__=__cb__zybTrackerStatisticsAction__5d276da1_d3ee_4f2c_816b_3e498b28cdec__0 HTTP/1.1\" 404 -\n",
            "127.0.0.1 - - [01/Mar/2025 14:54:03] \"GET /hybridaction/zybTrackerStatisticsAction?data={}&__callback__=__cb__zybTrackerStatisticsAction__0224bc37_f9aa_400b_b20f_6703e761e917__1 HTTP/1.1\" 404 -\n",
            "127.0.0.1 - - [01/Mar/2025 14:54:03] \"GET /hybridaction/zybTrackerStatisticsAction?data={}&__callback__=__cb__zybTrackerStatisticsAction__4d77286d_147e_4e7f_b72c_17e6022ff83f__2 HTTP/1.1\" 404 -\n",
            "127.0.0.1 - - [01/Mar/2025 14:54:05] \"GET /hybridaction/zybTrackerStatisticsAction?data={}&__callback__=__cb__zybTrackerStatisticsAction__1bd730d1_6115_46c0_a889_9582622b442b__0 HTTP/1.1\" 404 -\n",
            "127.0.0.1 - - [01/Mar/2025 14:54:05] \"GET /hybridaction/zybTrackerStatisticsAction?data={}&__callback__=__cb__zybTrackerStatisticsAction__0b3a104d_d48f_4f82_805f_45fdd9150f5b__1 HTTP/1.1\" 404 -\n",
            "127.0.0.1 - - [01/Mar/2025 14:54:05] \"GET /hybridaction/zybTrackerStatisticsAction?data={}&__callback__=__cb__zybTrackerStatisticsAction__1a26eb6f_a3a2_4bb9_af5d_f09a02f89742__2 HTTP/1.1\" 404 -\n",
            "127.0.0.1 - - [01/Mar/2025 14:54:05] \"GET /hybridaction/zybTrackerStatisticsAction?data={}&__callback__=__cb__zybTrackerStatisticsAction__f6c37ca6_2f3f_4879_8eae_e14bfc8badde__0 HTTP/1.1\" 404 -\n",
            "127.0.0.1 - - [01/Mar/2025 14:54:05] \"GET /hybridaction/zybTrackerStatisticsAction?data={}&__callback__=__cb__zybTrackerStatisticsAction__5f07c6f2_313c_4e51_882f_aa72e5292b59__1 HTTP/1.1\" 404 -\n",
            "127.0.0.1 - - [01/Mar/2025 14:54:05] \"GET /hybridaction/zybTrackerStatisticsAction?data={}&__callback__=__cb__zybTrackerStatisticsAction__1331565a_4334_466a_bdb6_1872a7a4fe75__2 HTTP/1.1\" 404 -\n",
            "127.0.0.1 - - [01/Mar/2025 14:54:05] \"GET /hybridaction/zybTrackerStatisticsAction?data={}&__callback__=__cb__zybTrackerStatisticsAction__d641b18a_efa6_45bf_a448_1fd7b48b0e5a__0 HTTP/1.1\" 404 -\n",
            "127.0.0.1 - - [01/Mar/2025 14:54:05] \"GET /hybridaction/zybTrackerStatisticsAction?data={}&__callback__=__cb__zybTrackerStatisticsAction__408400b1_aaec_4599_a5b9_7bc0650fa2b2__1 HTTP/1.1\" 404 -\n",
            "127.0.0.1 - - [01/Mar/2025 14:54:05] \"GET /hybridaction/zybTrackerStatisticsAction?data={}&__callback__=__cb__zybTrackerStatisticsAction__1fcc259e_3599_4b5e_beb2_37111c5cca91__2 HTTP/1.1\" 404 -\n",
            "127.0.0.1 - - [01/Mar/2025 14:54:05] \"GET /hybridaction/zybTrackerStatisticsAction?data={}&__callback__=__cb__zybTrackerStatisticsAction__c847ac92_fb7a_45c2_8f97_f277dc6945c7__0 HTTP/1.1\" 404 -\n",
            "127.0.0.1 - - [01/Mar/2025 14:54:05] \"GET /hybridaction/zybTrackerStatisticsAction?data={}&__callback__=__cb__zybTrackerStatisticsAction__32c124ea_db5b_4489_8983_b0276d206c5e__1 HTTP/1.1\" 404 -\n",
            "127.0.0.1 - - [01/Mar/2025 14:54:05] \"GET /hybridaction/zybTrackerStatisticsAction?data={}&__callback__=__cb__zybTrackerStatisticsAction__8c067a24_ca6d_4901_8caa_09a5dc37a382__2 HTTP/1.1\" 404 -\n",
            "127.0.0.1 - - [01/Mar/2025 14:54:05] \"GET /hybridaction/zybTrackerStatisticsAction?data={}&__callback__=__cb__zybTrackerStatisticsAction__deb6c49c_38e1_4d83_9b7f_f91b759d794b__0 HTTP/1.1\" 404 -\n",
            "127.0.0.1 - - [01/Mar/2025 14:54:05] \"GET /hybridaction/zybTrackerStatisticsAction?data={}&__callback__=__cb__zybTrackerStatisticsAction__7c4afaa3_2ccd_4137_b99f_6cadf314b4dd__1 HTTP/1.1\" 404 -\n",
            "127.0.0.1 - - [01/Mar/2025 14:54:05] \"GET /hybridaction/zybTrackerStatisticsAction?data={}&__callback__=__cb__zybTrackerStatisticsAction__a56cfbaf_07e4_450b_9425_0d6ba84779af__2 HTTP/1.1\" 404 -\n",
            "127.0.0.1 - - [01/Mar/2025 14:54:05] \"GET /hybridaction/zybTrackerStatisticsAction?data={}&__callback__=__cb__zybTrackerStatisticsAction__aa3bd680_12a2_42c3_bdda_c4f1bbe8aaf1__0 HTTP/1.1\" 404 -\n",
            "127.0.0.1 - - [01/Mar/2025 14:54:05] \"GET /hybridaction/zybTrackerStatisticsAction?data={}&__callback__=__cb__zybTrackerStatisticsAction__ce5b0ed3_1a8b_45af_b807_df1ccbb6d2d4__1 HTTP/1.1\" 404 -\n",
            "127.0.0.1 - - [01/Mar/2025 14:54:05] \"GET /hybridaction/zybTrackerStatisticsAction?data={}&__callback__=__cb__zybTrackerStatisticsAction__d344e0bb_c500_48d1_9968_315f1e6d8e5b__2 HTTP/1.1\" 404 -\n",
            "127.0.0.1 - - [01/Mar/2025 14:54:05] \"GET /hybridaction/zybTrackerStatisticsAction?data={}&__callback__=__cb__zybTrackerStatisticsAction__e0d74123_97c8_4327_8b8f_294a97ba2bf3__0 HTTP/1.1\" 404 -\n",
            "127.0.0.1 - - [01/Mar/2025 14:54:05] \"GET /hybridaction/zybTrackerStatisticsAction?data={}&__callback__=__cb__zybTrackerStatisticsAction__3ef87590_d66c_4ee6_841c_fb967b4bbb77__1 HTTP/1.1\" 404 -\n",
            "127.0.0.1 - - [01/Mar/2025 14:54:05] \"GET /hybridaction/zybTrackerStatisticsAction?data={}&__callback__=__cb__zybTrackerStatisticsAction__7e5f55bf_1da7_498f_abab_16cc41c4966a__2 HTTP/1.1\" 404 -\n",
            "127.0.0.1 - - [01/Mar/2025 14:54:05] \"GET /hybridaction/zybTrackerStatisticsAction?data={}&__callback__=__cb__zybTrackerStatisticsAction__74d47d21_465a_4898_bf36_8f509b05b861__0 HTTP/1.1\" 404 -\n",
            "127.0.0.1 - - [01/Mar/2025 14:54:05] \"GET /hybridaction/zybTrackerStatisticsAction?data={}&__callback__=__cb__zybTrackerStatisticsAction__a83d956f_4049_46de_9042_88df1d3710a3__1 HTTP/1.1\" 404 -\n",
            "127.0.0.1 - - [01/Mar/2025 14:54:05] \"GET /hybridaction/zybTrackerStatisticsAction?data={}&__callback__=__cb__zybTrackerStatisticsAction__841a5a82_edc5_4c20_832f_f8afa41f63ea__2 HTTP/1.1\" 404 -\n",
            "127.0.0.1 - - [01/Mar/2025 14:54:05] \"GET /hybridaction/zybTrackerStatisticsAction?data={}&__callback__=__cb__zybTrackerStatisticsAction__dc5424ba_79c3_46c1_a544_d778ffdb01be__0 HTTP/1.1\" 404 -\n",
            "127.0.0.1 - - [01/Mar/2025 14:54:05] \"GET /hybridaction/zybTrackerStatisticsAction?data={}&__callback__=__cb__zybTrackerStatisticsAction__6f50f504_5fb4_4d38_98d7_15fe100c1138__1 HTTP/1.1\" 404 -\n",
            "127.0.0.1 - - [01/Mar/2025 14:54:05] \"GET /hybridaction/zybTrackerStatisticsAction?data={}&__callback__=__cb__zybTrackerStatisticsAction__9584ddfe_4e91_4c47_8586_a2d9cf726904__2 HTTP/1.1\" 404 -\n",
            "127.0.0.1 - - [01/Mar/2025 14:54:05] \"GET /hybridaction/zybTrackerStatisticsAction?data={}&__callback__=__cb__zybTrackerStatisticsAction__cdb75701_cf0f_4b2e_924d_161ee5529b50__0 HTTP/1.1\" 404 -\n",
            "127.0.0.1 - - [01/Mar/2025 14:54:05] \"GET /hybridaction/zybTrackerStatisticsAction?data={}&__callback__=__cb__zybTrackerStatisticsAction__0c15da69_1440_410c_bce9_4febff209235__1 HTTP/1.1\" 404 -\n",
            "127.0.0.1 - - [01/Mar/2025 14:54:05] \"GET /hybridaction/zybTrackerStatisticsAction?data={}&__callback__=__cb__zybTrackerStatisticsAction__5d95aaf4_9f59_47f1_a30d_0b2ea00d1754__2 HTTP/1.1\" 404 -\n",
            "127.0.0.1 - - [01/Mar/2025 14:54:05] \"GET /hybridaction/zybTrackerStatisticsAction?data={}&__callback__=__cb__zybTrackerStatisticsAction__5ffd0ca3_8844_4a2c_b6ed_d62d4dcda862__0 HTTP/1.1\" 404 -\n",
            "127.0.0.1 - - [01/Mar/2025 14:54:05] \"GET /hybridaction/zybTrackerStatisticsAction?data={}&__callback__=__cb__zybTrackerStatisticsAction__9d03c627_3245_4b79_87f8_7fd72bcd7c82__1 HTTP/1.1\" 404 -\n",
            "127.0.0.1 - - [01/Mar/2025 14:54:05] \"GET /hybridaction/zybTrackerStatisticsAction?data={}&__callback__=__cb__zybTrackerStatisticsAction__5d4892a8_37f7_4ce2_89a4_36392b428a99__2 HTTP/1.1\" 404 -\n",
            "127.0.0.1 - - [01/Mar/2025 14:54:05] \"GET /hybridaction/zybTrackerStatisticsAction?data={}&__callback__=__cb__zybTrackerStatisticsAction__50c2ee84_7810_44dd_b232_8de4f316a6a4__0 HTTP/1.1\" 404 -\n",
            "127.0.0.1 - - [01/Mar/2025 14:54:05] \"GET /hybridaction/zybTrackerStatisticsAction?data={}&__callback__=__cb__zybTrackerStatisticsAction__697df898_931e_4063_a285_aa78cd9a9a95__1 HTTP/1.1\" 404 -\n",
            "127.0.0.1 - - [01/Mar/2025 14:54:05] \"GET /hybridaction/zybTrackerStatisticsAction?data={}&__callback__=__cb__zybTrackerStatisticsAction__57ff7549_69a2_4eef_b96c_be1a5734551a__2 HTTP/1.1\" 404 -\n",
            "127.0.0.1 - - [01/Mar/2025 14:54:05] \"GET /hybridaction/zybTrackerStatisticsAction?data={}&__callback__=__cb__zybTrackerStatisticsAction__be0960b0_f6bf_4dab_aec5_0f5ef90a994c__0 HTTP/1.1\" 404 -\n",
            "127.0.0.1 - - [01/Mar/2025 14:54:05] \"GET /hybridaction/zybTrackerStatisticsAction?data={}&__callback__=__cb__zybTrackerStatisticsAction__d2408331_85e9_42a4_a5e5_0c643db3ee95__1 HTTP/1.1\" 404 -\n",
            "127.0.0.1 - - [01/Mar/2025 14:54:05] \"GET /hybridaction/zybTrackerStatisticsAction?data={}&__callback__=__cb__zybTrackerStatisticsAction__0a1a9543_4e34_4223_89f2_cd6e7a875238__2 HTTP/1.1\" 404 -\n",
            "127.0.0.1 - - [01/Mar/2025 14:54:05] \"GET /hybridaction/zybTrackerStatisticsAction?data={}&__callback__=__cb__zybTrackerStatisticsAction__1c2304e3_b0b2_4370_aca2_dc3f105531bb__0 HTTP/1.1\" 404 -\n",
            "127.0.0.1 - - [01/Mar/2025 14:54:05] \"GET /hybridaction/zybTrackerStatisticsAction?data={}&__callback__=__cb__zybTrackerStatisticsAction__2ce51e8a_3ba1_44d9_85a1_37c06ff8f735__1 HTTP/1.1\" 404 -\n",
            "127.0.0.1 - - [01/Mar/2025 14:54:05] \"GET /hybridaction/zybTrackerStatisticsAction?data={}&__callback__=__cb__zybTrackerStatisticsAction__8c8676d8_ebdb_4a77_a2ac_0dbecc478c4d__2 HTTP/1.1\" 404 -\n",
            "127.0.0.1 - - [01/Mar/2025 14:54:05] \"GET /hybridaction/zybTrackerStatisticsAction?data={}&__callback__=__cb__zybTrackerStatisticsAction__07a51e14_f5c6_411a_bcf4_0e2ac2739e44__0 HTTP/1.1\" 404 -\n",
            "127.0.0.1 - - [01/Mar/2025 14:54:05] \"GET /hybridaction/zybTrackerStatisticsAction?data={}&__callback__=__cb__zybTrackerStatisticsAction__1fa382cb_fe7b_4d91_86b7_0dbed13087dc__1 HTTP/1.1\" 404 -\n",
            "127.0.0.1 - - [01/Mar/2025 14:54:05] \"GET /hybridaction/zybTrackerStatisticsAction?data={}&__callback__=__cb__zybTrackerStatisticsAction__5aa8fd50_f720_4329_9e80_920ced4080fe__2 HTTP/1.1\" 404 -\n",
            "127.0.0.1 - - [01/Mar/2025 14:54:05] \"GET /hybridaction/zybTrackerStatisticsAction?data={}&__callback__=__cb__zybTrackerStatisticsAction__9bdbaf4d_81f2_41b7_ac05_64bc47b5176f__0 HTTP/1.1\" 404 -\n",
            "127.0.0.1 - - [01/Mar/2025 14:54:05] \"GET /hybridaction/zybTrackerStatisticsAction?data={}&__callback__=__cb__zybTrackerStatisticsAction__1620d5dc_3b7a_41b4_a7a2_e00b058fcce9__1 HTTP/1.1\" 404 -\n",
            "127.0.0.1 - - [01/Mar/2025 14:54:05] \"GET /hybridaction/zybTrackerStatisticsAction?data={}&__callback__=__cb__zybTrackerStatisticsAction__53af4cde_56ba_4e39_b7c7_79ae3c22a243__2 HTTP/1.1\" 404 -\n",
            "127.0.0.1 - - [01/Mar/2025 14:54:05] \"GET /hybridaction/zybTrackerStatisticsAction?data={}&__callback__=__cb__zybTrackerStatisticsAction__624a87bb_49ad_4ce9_bb61_2ef94710a5e5__0 HTTP/1.1\" 404 -\n",
            "127.0.0.1 - - [01/Mar/2025 14:54:05] \"GET /hybridaction/zybTrackerStatisticsAction?data={}&__callback__=__cb__zybTrackerStatisticsAction__2ced9624_ae5e_48b3_8f3e_66d6ba111445__1 HTTP/1.1\" 404 -\n",
            "127.0.0.1 - - [01/Mar/2025 14:54:05] \"GET /hybridaction/zybTrackerStatisticsAction?data={}&__callback__=__cb__zybTrackerStatisticsAction__79d48cad_9a9d_4fbc_ab35_d4be080a14e4__2 HTTP/1.1\" 404 -\n",
            "127.0.0.1 - - [01/Mar/2025 14:54:05] \"GET /hybridaction/zybTrackerStatisticsAction?data={}&__callback__=__cb__zybTrackerStatisticsAction__4cb2702e_661d_4aec_a339_5c681f5124f2__0 HTTP/1.1\" 404 -\n",
            "127.0.0.1 - - [01/Mar/2025 14:54:05] \"GET /hybridaction/zybTrackerStatisticsAction?data={}&__callback__=__cb__zybTrackerStatisticsAction__bcb9cbad_907e_4e47_bf9c_926b7a50f2a0__1 HTTP/1.1\" 404 -\n",
            "127.0.0.1 - - [01/Mar/2025 14:54:05] \"GET /hybridaction/zybTrackerStatisticsAction?data={}&__callback__=__cb__zybTrackerStatisticsAction__1461ca25_dfe5_4bf3_b58f_059d11f6ee88__2 HTTP/1.1\" 404 -\n",
            "127.0.0.1 - - [01/Mar/2025 14:54:06] \"GET /favicon.ico HTTP/1.1\" 404 -\n",
            "[2025-03-01 14:55:02,115] INFO in 1940395012: Received conversion request\n"
          ]
        },
        {
          "name": "stdout",
          "output_type": "stream",
          "text": [
            "Received conversion request\n",
            "Received conversion request\n"
          ]
        },
        {
          "name": "stderr",
          "output_type": "stream",
          "text": [
            "[2025-03-01 14:55:02,119] INFO in 1940395012: Converting text: 'Hello'\n"
          ]
        },
        {
          "name": "stdout",
          "output_type": "stream",
          "text": [
            "Converting text: 'Hello'\n",
            "Converting text: 'Hello'\n"
          ]
        },
        {
          "name": "stderr",
          "output_type": "stream",
          "text": [
            "[2025-03-01 14:55:02,119] INFO in 1940395012: Extracted words: ['hello']\n"
          ]
        },
        {
          "name": "stdout",
          "output_type": "stream",
          "text": [
            "Extracted words: ['hello']\n",
            "Extracted words: ['hello']\n"
          ]
        },
        {
          "name": "stderr",
          "output_type": "stream",
          "text": [
            "[2025-03-01 14:55:02,119] INFO in 1940395012: Missing ISL clip for: hello\n"
          ]
        },
        {
          "name": "stdout",
          "output_type": "stream",
          "text": [
            "Missing ISL clip for: hello\n",
            "Missing ISL clip for: hello\n"
          ]
        },
        {
          "name": "stderr",
          "output_type": "stream",
          "text": [
            "[2025-03-01 14:55:02,129] INFO in 1940395012: Missing alphabet clip for: H\n"
          ]
        },
        {
          "name": "stdout",
          "output_type": "stream",
          "text": [
            "Missing alphabet clip for: H\n",
            "Missing alphabet clip for: H\n"
          ]
        },
        {
          "name": "stderr",
          "output_type": "stream",
          "text": [
            "[2025-03-01 14:55:02,131] INFO in 1940395012: Missing alphabet clip for: E\n"
          ]
        },
        {
          "name": "stdout",
          "output_type": "stream",
          "text": [
            "Missing alphabet clip for: E\n",
            "Missing alphabet clip for: E\n"
          ]
        },
        {
          "name": "stderr",
          "output_type": "stream",
          "text": [
            "[2025-03-01 14:55:02,132] INFO in 1940395012: Missing alphabet clip for: L\n"
          ]
        },
        {
          "name": "stdout",
          "output_type": "stream",
          "text": [
            "Missing alphabet clip for: L\n",
            "Missing alphabet clip for: L\n"
          ]
        },
        {
          "name": "stderr",
          "output_type": "stream",
          "text": [
            "[2025-03-01 14:55:02,133] INFO in 1940395012: Missing alphabet clip for: L\n"
          ]
        },
        {
          "name": "stdout",
          "output_type": "stream",
          "text": [
            "Missing alphabet clip for: L\n",
            "Missing alphabet clip for: L\n"
          ]
        },
        {
          "name": "stderr",
          "output_type": "stream",
          "text": [
            "[2025-03-01 14:55:02,133] INFO in 1940395012: Missing alphabet clip for: O\n"
          ]
        },
        {
          "name": "stdout",
          "output_type": "stream",
          "text": [
            "Missing alphabet clip for: O\n",
            "Missing alphabet clip for: O\n"
          ]
        },
        {
          "name": "stderr",
          "output_type": "stream",
          "text": [
            "[2025-03-01 14:55:02,133] WARNING in 1940395012: No clips found for any words\n"
          ]
        },
        {
          "name": "stdout",
          "output_type": "stream",
          "text": [
            "No clips found for any words\n",
            "No clips found for any words\n"
          ]
        },
        {
          "name": "stderr",
          "output_type": "stream",
          "text": [
            "127.0.0.1 - - [01/Mar/2025 14:55:02] \"POST /convert HTTP/1.1\" 500 -\n",
            "[2025-03-01 14:55:26,665] INFO in 1940395012: Received conversion request\n"
          ]
        },
        {
          "name": "stdout",
          "output_type": "stream",
          "text": [
            "Received conversion request\n",
            "Received conversion request\n"
          ]
        },
        {
          "name": "stderr",
          "output_type": "stream",
          "text": [
            "[2025-03-01 14:55:26,670] INFO in 1940395012: Converting text: 'Hello'\n"
          ]
        },
        {
          "name": "stdout",
          "output_type": "stream",
          "text": [
            "Converting text: 'Hello'\n",
            "Converting text: 'Hello'\n"
          ]
        },
        {
          "name": "stderr",
          "output_type": "stream",
          "text": [
            "[2025-03-01 14:55:26,676] INFO in 1940395012: Extracted words: ['hello']\n"
          ]
        },
        {
          "name": "stdout",
          "output_type": "stream",
          "text": [
            "Extracted words: ['hello']\n",
            "Extracted words: ['hello']\n"
          ]
        },
        {
          "name": "stderr",
          "output_type": "stream",
          "text": [
            "[2025-03-01 14:55:26,678] INFO in 1940395012: Missing ISL clip for: hello\n"
          ]
        },
        {
          "name": "stdout",
          "output_type": "stream",
          "text": [
            "Missing ISL clip for: hello\n",
            "Missing ISL clip for: hello\n"
          ]
        },
        {
          "name": "stderr",
          "output_type": "stream",
          "text": [
            "[2025-03-01 14:55:26,678] INFO in 1940395012: Missing alphabet clip for: H\n"
          ]
        },
        {
          "name": "stdout",
          "output_type": "stream",
          "text": [
            "Missing alphabet clip for: H\n",
            "Missing alphabet clip for: H\n"
          ]
        },
        {
          "name": "stderr",
          "output_type": "stream",
          "text": [
            "[2025-03-01 14:55:26,679] INFO in 1940395012: Missing alphabet clip for: E\n"
          ]
        },
        {
          "name": "stdout",
          "output_type": "stream",
          "text": [
            "Missing alphabet clip for: E\n",
            "Missing alphabet clip for: E\n"
          ]
        },
        {
          "name": "stderr",
          "output_type": "stream",
          "text": [
            "[2025-03-01 14:55:26,681] INFO in 1940395012: Missing alphabet clip for: L\n"
          ]
        },
        {
          "name": "stdout",
          "output_type": "stream",
          "text": [
            "Missing alphabet clip for: L\n",
            "Missing alphabet clip for: L\n"
          ]
        },
        {
          "name": "stderr",
          "output_type": "stream",
          "text": [
            "[2025-03-01 14:55:26,683] INFO in 1940395012: Missing alphabet clip for: L\n"
          ]
        },
        {
          "name": "stdout",
          "output_type": "stream",
          "text": [
            "Missing alphabet clip for: L\n",
            "Missing alphabet clip for: L\n"
          ]
        },
        {
          "name": "stderr",
          "output_type": "stream",
          "text": [
            "[2025-03-01 14:55:26,684] INFO in 1940395012: Missing alphabet clip for: O\n"
          ]
        },
        {
          "name": "stdout",
          "output_type": "stream",
          "text": [
            "Missing alphabet clip for: O\n",
            "Missing alphabet clip for: O\n"
          ]
        },
        {
          "name": "stderr",
          "output_type": "stream",
          "text": [
            "[2025-03-01 14:55:26,685] WARNING in 1940395012: No clips found for any words\n"
          ]
        },
        {
          "name": "stdout",
          "output_type": "stream",
          "text": [
            "No clips found for any words\n",
            "No clips found for any words\n"
          ]
        },
        {
          "name": "stderr",
          "output_type": "stream",
          "text": [
            "127.0.0.1 - - [01/Mar/2025 14:55:26] \"POST /convert HTTP/1.1\" 500 -\n",
            "[2025-03-01 14:57:04,395] INFO in 1940395012: Received conversion request\n"
          ]
        },
        {
          "name": "stdout",
          "output_type": "stream",
          "text": [
            "Received conversion request\n",
            "Received conversion request\n"
          ]
        },
        {
          "name": "stderr",
          "output_type": "stream",
          "text": [
            "[2025-03-01 14:57:04,401] INFO in 1940395012: Converting text: 'Hello'\n"
          ]
        },
        {
          "name": "stdout",
          "output_type": "stream",
          "text": [
            "Converting text: 'Hello'\n",
            "Converting text: 'Hello'\n"
          ]
        },
        {
          "name": "stderr",
          "output_type": "stream",
          "text": [
            "[2025-03-01 14:57:04,407] INFO in 1940395012: Extracted words: ['hello']\n"
          ]
        },
        {
          "name": "stdout",
          "output_type": "stream",
          "text": [
            "Extracted words: ['hello']\n",
            "Extracted words: ['hello']\n"
          ]
        },
        {
          "name": "stderr",
          "output_type": "stream",
          "text": [
            "[2025-03-01 14:57:04,408] INFO in 1940395012: Missing ISL clip for: hello\n"
          ]
        },
        {
          "name": "stdout",
          "output_type": "stream",
          "text": [
            "Missing ISL clip for: hello\n",
            "Missing ISL clip for: hello\n",
            "{'video_found': True, 'audio_found': False, 'metadata': {'major_brand': 'isom', 'minor_version': '512', 'compatible_brands': 'isomiso2avc1mp41', 'encoder': 'Lavf58.76.100'}, 'inputs': [{'streams': [{'input_number': 0, 'stream_number': 0, 'stream_type': 'video', 'language': None, 'default': True, 'size': [480, 360], 'bitrate': 454, 'fps': 30.0, 'codec_name': 'h264', 'profile': '(Main)', 'metadata': {'Metadata': '', 'handler_name': 'ISO Media file produced by Google Inc.', 'vendor_id': '[0][0][0][0]'}}], 'input_number': 0}], 'duration': 1.57, 'bitrate': 464, 'start': 0.0, 'default_video_input_number': 0, 'default_video_stream_number': 0, 'video_codec_name': 'h264', 'video_profile': '(Main)', 'video_size': [480, 360], 'video_bitrate': 454, 'video_fps': 30.0, 'video_duration': 1.57, 'video_n_frames': 47}\n",
            "c:\\Python312\\Lib\\site-packages\\imageio_ffmpeg\\binaries\\ffmpeg-win-x86_64-v7.1.exe -i N:\\CAI\\hackathon\\Olabs_Final\\Sign\\words\\alphabet_clips\\H.mp4 -loglevel error -f image2pipe -vf scale=480:360 -sws_flags bicubic -pix_fmt rgb24 -vcodec rawvideo -\n",
            "{'video_found': True, 'audio_found': False, 'metadata': {'major_brand': 'isom', 'minor_version': '512', 'compatible_brands': 'isomiso2avc1mp41', 'encoder': 'Lavf58.76.100'}, 'inputs': [{'streams': [{'input_number': 0, 'stream_number': 0, 'stream_type': 'video', 'language': None, 'default': True, 'size': [480, 360], 'bitrate': 662, 'fps': 30.0, 'codec_name': 'h264', 'profile': '(Main)', 'metadata': {'Metadata': '', 'handler_name': 'ISO Media file produced by Google Inc.', 'vendor_id': '[0][0][0][0]'}}], 'input_number': 0}], 'duration': 1.63, 'bitrate': 673, 'start': 0.0, 'default_video_input_number': 0, 'default_video_stream_number': 0, 'video_codec_name': 'h264', 'video_profile': '(Main)', 'video_size': [480, 360], 'video_bitrate': 662, 'video_fps': 30.0, 'video_duration': 1.63, 'video_n_frames': 48}\n",
            "c:\\Python312\\Lib\\site-packages\\imageio_ffmpeg\\binaries\\ffmpeg-win-x86_64-v7.1.exe -i N:\\CAI\\hackathon\\Olabs_Final\\Sign\\words\\alphabet_clips\\E.mp4 -loglevel error -f image2pipe -vf scale=480:360 -sws_flags bicubic -pix_fmt rgb24 -vcodec rawvideo -\n",
            "{'video_found': True, 'audio_found': False, 'metadata': {'major_brand': 'isom', 'minor_version': '512', 'compatible_brands': 'isomiso2avc1mp41', 'encoder': 'Lavf58.76.100'}, 'inputs': [{'streams': [{'input_number': 0, 'stream_number': 0, 'stream_type': 'video', 'language': None, 'default': True, 'size': [480, 360], 'bitrate': 721, 'fps': 30.0, 'codec_name': 'h264', 'profile': '(Main)', 'metadata': {'Metadata': '', 'handler_name': 'ISO Media file produced by Google Inc.', 'vendor_id': '[0][0][0][0]'}}], 'input_number': 0}], 'duration': 1.57, 'bitrate': 733, 'start': 0.0, 'default_video_input_number': 0, 'default_video_stream_number': 0, 'video_codec_name': 'h264', 'video_profile': '(Main)', 'video_size': [480, 360], 'video_bitrate': 721, 'video_fps': 30.0, 'video_duration': 1.57, 'video_n_frames': 47}\n",
            "c:\\Python312\\Lib\\site-packages\\imageio_ffmpeg\\binaries\\ffmpeg-win-x86_64-v7.1.exe -i N:\\CAI\\hackathon\\Olabs_Final\\Sign\\words\\alphabet_clips\\L.mp4 -loglevel error -f image2pipe -vf scale=480:360 -sws_flags bicubic -pix_fmt rgb24 -vcodec rawvideo -\n",
            "{'video_found': True, 'audio_found': False, 'metadata': {'major_brand': 'isom', 'minor_version': '512', 'compatible_brands': 'isomiso2avc1mp41', 'encoder': 'Lavf58.76.100'}, 'inputs': [{'streams': [{'input_number': 0, 'stream_number': 0, 'stream_type': 'video', 'language': None, 'default': True, 'size': [480, 360], 'bitrate': 721, 'fps': 30.0, 'codec_name': 'h264', 'profile': '(Main)', 'metadata': {'Metadata': '', 'handler_name': 'ISO Media file produced by Google Inc.', 'vendor_id': '[0][0][0][0]'}}], 'input_number': 0}], 'duration': 1.57, 'bitrate': 733, 'start': 0.0, 'default_video_input_number': 0, 'default_video_stream_number': 0, 'video_codec_name': 'h264', 'video_profile': '(Main)', 'video_size': [480, 360], 'video_bitrate': 721, 'video_fps': 30.0, 'video_duration': 1.57, 'video_n_frames': 47}\n",
            "c:\\Python312\\Lib\\site-packages\\imageio_ffmpeg\\binaries\\ffmpeg-win-x86_64-v7.1.exe -i N:\\CAI\\hackathon\\Olabs_Final\\Sign\\words\\alphabet_clips\\L.mp4 -loglevel error -f image2pipe -vf scale=480:360 -sws_flags bicubic -pix_fmt rgb24 -vcodec rawvideo -\n"
          ]
        },
        {
          "name": "stderr",
          "output_type": "stream",
          "text": [
            "[2025-03-01 14:57:04,932] INFO in 1940395012: Concatenating 5 clips\n"
          ]
        },
        {
          "name": "stdout",
          "output_type": "stream",
          "text": [
            "{'video_found': True, 'audio_found': False, 'metadata': {'major_brand': 'isom', 'minor_version': '512', 'compatible_brands': 'isomiso2avc1mp41', 'encoder': 'Lavf58.76.100'}, 'inputs': [{'streams': [{'input_number': 0, 'stream_number': 0, 'stream_type': 'video', 'language': None, 'default': True, 'size': [480, 360], 'bitrate': 480, 'fps': 30.0, 'codec_name': 'h264', 'profile': '(Main)', 'metadata': {'Metadata': '', 'handler_name': 'ISO Media file produced by Google Inc.', 'vendor_id': '[0][0][0][0]'}}], 'input_number': 0}], 'duration': 1.57, 'bitrate': 490, 'start': 0.0, 'default_video_input_number': 0, 'default_video_stream_number': 0, 'video_codec_name': 'h264', 'video_profile': '(Main)', 'video_size': [480, 360], 'video_bitrate': 480, 'video_fps': 30.0, 'video_duration': 1.57, 'video_n_frames': 47}\n",
            "c:\\Python312\\Lib\\site-packages\\imageio_ffmpeg\\binaries\\ffmpeg-win-x86_64-v7.1.exe -i N:\\CAI\\hackathon\\Olabs_Final\\Sign\\words\\alphabet_clips\\O.mp4 -loglevel error -f image2pipe -vf scale=480:360 -sws_flags bicubic -pix_fmt rgb24 -vcodec rawvideo -\n",
            "Concatenating 5 clips\n",
            "Concatenating 5 clips\n"
          ]
        },
        {
          "name": "stderr",
          "output_type": "stream",
          "text": [
            "[2025-03-01 14:57:04,941] INFO in 1940395012: Writing video to C:\\Users\\MATHAN\\AppData\\Local\\Temp\\isl_videos\\isl_3080a2ef5d554e739e1f1605917ddbb5.mp4\n"
          ]
        },
        {
          "name": "stdout",
          "output_type": "stream",
          "text": [
            "Writing video to C:\\Users\\MATHAN\\AppData\\Local\\Temp\\isl_videos\\isl_3080a2ef5d554e739e1f1605917ddbb5.mp4\n",
            "Writing video to C:\\Users\\MATHAN\\AppData\\Local\\Temp\\isl_videos\\isl_3080a2ef5d554e739e1f1605917ddbb5.mp4\n"
          ]
        },
        {
          "name": "stderr",
          "output_type": "stream",
          "text": [
            "[2025-03-01 14:57:06,180] INFO in 1940395012: Video created successfully\n"
          ]
        },
        {
          "name": "stdout",
          "output_type": "stream",
          "text": [
            "Video created successfully\n",
            "Video created successfully\n"
          ]
        },
        {
          "name": "stderr",
          "output_type": "stream",
          "text": [
            "127.0.0.1 - - [01/Mar/2025 14:57:06] \"POST /convert HTTP/1.1\" 200 -\n",
            "127.0.0.1 - - [01/Mar/2025 14:57:06] \"GET /video/isl_3080a2ef5d554e739e1f1605917ddbb5.mp4 HTTP/1.1\" 206 -\n"
          ]
        }
      ],
      "source": [
        "import os\n",
        "import sys\n",
        "import traceback\n",
        "from pathlib import Path\n",
        "import tempfile\n",
        "import uuid\n",
        "from datetime import datetime\n",
        "from flask import Flask, request, jsonify, render_template, send_from_directory\n",
        "\n",
        "# Check Flask installation\n",
        "try:\n",
        "    from flask import Flask, request, jsonify, render_template, send_from_directory\n",
        "except ImportError:\n",
        "    print(\"Flask is not installed. Please install it with: pip install flask\")\n",
        "    sys.exit(1)\n",
        "\n",
        "# Check moviepy installation\n",
        "try:\n",
        "    import moviepy\n",
        "except ImportError:\n",
        "    print(\"MoviePy is not installed. Please install it with: pip install moviepy\")\n",
        "    sys.exit(1)\n",
        "\n",
        "# Check spacy installation\n",
        "try:\n",
        "    import spacy\n",
        "    try:\n",
        "        nlp = spacy.load(\"en_core_web_sm\")\n",
        "    except OSError:\n",
        "        print(\"spaCy model 'en_core_web_sm' is not installed. Please install it with: python -m spacy download en_core_web_sm\")\n",
        "        sys.exit(1)\n",
        "except ImportError:\n",
        "    print(\"spaCy is not installed. Please install it with: pip install spacy\")\n",
        "    sys.exit(1)\n",
        "\n",
        "# Initialize Flask app\n",
        "app = Flask(__name__)\n",
        "\n",
        "# Set up logging to console\n",
        "import logging\n",
        "handler = logging.StreamHandler(sys.stdout)\n",
        "handler.setLevel(logging.DEBUG)\n",
        "app.logger.addHandler(handler)\n",
        "app.logger.setLevel(logging.DEBUG)\n",
        "\n",
        "# Update these paths to your video directories - use Path objects for cross-platform compatibility\n",
        "ISL_VIDEOS_PATH = Path(r\"N:\\CAI\\hackathon\\Olabs_Final\\Sign\\words\")\n",
        "ALPHABET_VIDEOS_PATH = Path(r\"N:\\CAI\\hackathon\\Olabs_Final\\Sign\\words\\alphabet_clips\")\n",
        "\n",
        "app.logger.info(f\"ISL_VIDEOS_PATH: {ISL_VIDEOS_PATH}, exists: {ISL_VIDEOS_PATH.exists()}\")\n",
        "app.logger.info(f\"ALPHABET_VIDEOS_PATH: {ALPHABET_VIDEOS_PATH}, exists: {ALPHABET_VIDEOS_PATH.exists()}\")\n",
        "\n",
        "# Create a temporary directory for output videos\n",
        "TEMP_DIR = Path(tempfile.gettempdir()) / \"isl_videos\"\n",
        "TEMP_DIR.mkdir(exist_ok=True)\n",
        "app.logger.info(f\"Temporary directory created at: {TEMP_DIR}\")\n",
        "\n",
        "def rule_based_srl(sentence):\n",
        "    \"\"\"\n",
        "    Extract key words for ISL mapping using dependency parsing.\n",
        "    Returns a list of lemmatized, lowercase words.\n",
        "    \"\"\"\n",
        "    try:\n",
        "        doc = nlp(sentence)\n",
        "        words = []\n",
        "        for token in doc:\n",
        "            if token.is_alpha and token.dep_ not in (\"det\", \"aux\", \"punct\"):\n",
        "                words.append(token.lemma_.lower())\n",
        "        if not words:\n",
        "            words = [token.lemma_.lower() for token in doc if token.is_alpha]\n",
        "        return words\n",
        "    except Exception as e:\n",
        "        app.logger.error(f\"Error in rule_based_srl: {e}\")\n",
        "        return [word.lower() for word in sentence.split() if word.isalpha()]\n",
        "\n",
        "def get_isl_clip(word):\n",
        "    \"\"\"Get video clip for a word if it exists.\"\"\"\n",
        "    try:\n",
        "        video_path = ISL_VIDEOS_PATH / f\"{word}.mp4\"\n",
        "        if video_path.exists():\n",
        "            return moviepy.VideoFileClip(str(video_path))\n",
        "        else:\n",
        "            app.logger.info(f\"Missing ISL clip for: {word}\")\n",
        "            return None\n",
        "    except Exception as e:\n",
        "        app.logger.error(f\"Error getting clip for word '{word}': {e}\")\n",
        "        return None\n",
        "\n",
        "def get_alphabet_clip(letter):\n",
        "    \"\"\"Get video clip for an alphabet letter if it exists.\"\"\"\n",
        "    try:\n",
        "        letter = letter.upper()\n",
        "        video_path = ALPHABET_VIDEOS_PATH / f\"{letter}.mp4\"\n",
        "        if video_path.exists():\n",
        "            return moviepy.VideoFileClip(str(video_path))\n",
        "        else:\n",
        "            app.logger.info(f\"Missing alphabet clip for: {letter}\")\n",
        "            return None\n",
        "    except Exception as e:\n",
        "        app.logger.error(f\"Error getting clip for letter '{letter}': {e}\")\n",
        "        return None\n",
        "\n",
        "def spell_word_with_alphabet(word):\n",
        "    \"\"\"Break a word into letters and get clips for each letter.\"\"\"\n",
        "    clips = []\n",
        "    for letter in word.lower():\n",
        "        if letter.isalpha():\n",
        "            clip = get_alphabet_clip(letter)\n",
        "            if clip:\n",
        "                clips.append(clip)\n",
        "    return clips\n",
        "\n",
        "def find_isl_clips(words):\n",
        "    \"\"\"Find video clips for words or spell them with alphabet clips.\"\"\"\n",
        "    all_clips = []\n",
        "    word_status = []\n",
        "    \n",
        "    for word in words:\n",
        "        clip = get_isl_clip(word)\n",
        "        if clip:\n",
        "            all_clips.append(clip)\n",
        "            word_status.append({\"word\": word, \"found\": True, \"spelled\": False})\n",
        "        else:\n",
        "            # If word not found, spell it using alphabet signs\n",
        "            alphabet_clips = spell_word_with_alphabet(word)\n",
        "            if alphabet_clips:\n",
        "                all_clips.extend(alphabet_clips)\n",
        "                word_status.append({\"word\": word, \"found\": False, \"spelled\": True})\n",
        "            else:\n",
        "                word_status.append({\"word\": word, \"found\": False, \"spelled\": False})\n",
        "    \n",
        "    return all_clips, word_status\n",
        "\n",
        "def create_isl_video(sentence):\n",
        "    \"\"\"Convert sentence to ISL video.\"\"\"\n",
        "    try:\n",
        "        isl_words = rule_based_srl(sentence)\n",
        "        app.logger.info(f\"Extracted words: {isl_words}\")\n",
        "        \n",
        "        clips, word_status = find_isl_clips(isl_words)\n",
        "        \n",
        "        if not clips:\n",
        "            app.logger.warning(\"No clips found for any words\")\n",
        "            return None, word_status\n",
        "        \n",
        "        # Create output video\n",
        "        output_filename = f\"isl_{uuid.uuid4().hex}.mp4\"\n",
        "        output_path = str(TEMP_DIR / output_filename)\n",
        "        \n",
        "        try:\n",
        "            app.logger.info(f\"Concatenating {len(clips)} clips\")\n",
        "            final_video = moviepy.concatenate_videoclips(clips, method=\"compose\")\n",
        "            app.logger.info(f\"Writing video to {output_path}\")\n",
        "            final_video.write_videofile(output_path, codec=\"libx264\", fps=24, logger=None)\n",
        "            app.logger.info(\"Video created successfully\")\n",
        "            return output_path, word_status\n",
        "        except Exception as e:\n",
        "            app.logger.error(f\"Error creating video: {str(e)}\")\n",
        "            app.logger.error(traceback.format_exc())\n",
        "            return None, word_status\n",
        "        finally:\n",
        "            # Release resources\n",
        "            for clip in clips:\n",
        "                try:\n",
        "                    clip.close()\n",
        "                except:\n",
        "                    pass\n",
        "    except Exception as e:\n",
        "        app.logger.error(f\"Error in create_isl_video: {str(e)}\")\n",
        "        app.logger.error(traceback.format_exc())\n",
        "        return None, []\n",
        "\n",
        "@app.route('/')\n",
        "def index():\n",
        "    \"\"\"Render the main HTML page\"\"\"\n",
        "    return render_template(\"index.html\")\n",
        "\n",
        "@app.route('/convert', methods=['POST'])\n",
        "def convert_text():\n",
        "    \"\"\"API endpoint to convert text to sign language video\"\"\"\n",
        "    try:\n",
        "        app.logger.info(\"Received conversion request\")\n",
        "        data = request.get_json()\n",
        "        \n",
        "        if not data or 'text' not in data:\n",
        "            return jsonify({'error': 'No text provided'}), 400\n",
        "        \n",
        "        text = data['text'].strip()\n",
        "        if not text:\n",
        "            return jsonify({'error': 'Empty text provided'}), 400\n",
        "        \n",
        "        app.logger.info(f\"Converting text: '{text}'\")\n",
        "        video_path, word_status = create_isl_video(text)\n",
        "        \n",
        "        if not video_path:\n",
        "            return jsonify({\n",
        "                'error': 'Could not create sign language video',\n",
        "                'word_status': word_status\n",
        "            }), 500\n",
        "        \n",
        "        # Generate URL for the video\n",
        "        video_url = f\"/video/{os.path.basename(video_path)}\"\n",
        "        \n",
        "        return jsonify({\n",
        "            'success': True,\n",
        "            'video_url': video_url,\n",
        "            'word_status': word_status\n",
        "        })\n",
        "    except Exception as e:\n",
        "        app.logger.error(f\"Error in convert_text: {str(e)}\")\n",
        "        app.logger.error(traceback.format_exc())\n",
        "        return jsonify({'error': f\"Server error: {str(e)}\"}), 500\n",
        "\n",
        "@app.route('/video/<filename>')\n",
        "def serve_video(filename):\n",
        "    \"\"\"Serve the generated video file\"\"\"\n",
        "    try:\n",
        "        return send_from_directory(TEMP_DIR, filename)\n",
        "    except Exception as e:\n",
        "        app.logger.error(f\"Error serving video {filename}: {str(e)}\")\n",
        "        return \"Video not found\", 404\n",
        "\n",
        "if __name__ == \"__main__\":\n",
        "    app.logger.info(\"Starting Flask application...\")\n",
        "    try:\n",
        "        app.run(host='127.0.0.1', port=5002)\n",
        "    except Exception as e:\n",
        "        print(f\"Error starting Flask app: {str(e)}\")\n",
        "        traceback.print_exc()\n"
      ]
    },
    {
      "cell_type": "code",
      "execution_count": 3,
      "metadata": {},
      "outputs": [
        {
          "name": "stdout",
          "output_type": "stream",
          "text": [
            "Audio extracted successfully to: audio.wav\n"
          ]
        }
      ],
      "source": [
        "import subprocess\n",
        "\n",
        "def extract_audio(video_path, audio_path='audio.wav'):\n",
        "    \"\"\"Extract audio from a video file and save it as a WAV file.\"\"\"\n",
        "    command = f\"ffmpeg -i {video_path} -ab 160k -ac 2 -ar 44100 -vn {audio_path}\"\n",
        "    subprocess.run(command, shell=True, check=True)\n",
        "    return audio_path\n",
        "\n",
        "# Predefined paths\n",
        "video_path = r\"N:\\CAI\\hackathon\\Olabs_Final\\video.mp4\"  # Change this to your desired input video path\n",
        "output_audio = extract_audio(video_path)\n",
        "print(f\"Audio extracted successfully to: {output_audio}\")"
      ]
    },
    {
      "cell_type": "code",
      "execution_count": null,
      "metadata": {},
      "outputs": [
        {
          "name": "stderr",
          "output_type": "stream",
          "text": [
            "[2025-03-01 16:19:45,873] INFO in 2111121185: ISL_VIDEOS_PATH: N:\\CAI\\hackathon\\Olabs_Final\\Sign\\words, exists: True\n"
          ]
        },
        {
          "name": "stdout",
          "output_type": "stream",
          "text": [
            "ISL_VIDEOS_PATH: N:\\CAI\\hackathon\\Olabs_Final\\Sign\\words, exists: True\n",
            "ISL_VIDEOS_PATH: N:\\CAI\\hackathon\\Olabs_Final\\Sign\\words, exists: True\n",
            "ISL_VIDEOS_PATH: N:\\CAI\\hackathon\\Olabs_Final\\Sign\\words, exists: True\n",
            "ISL_VIDEOS_PATH: N:\\CAI\\hackathon\\Olabs_Final\\Sign\\words, exists: True\n"
          ]
        },
        {
          "name": "stderr",
          "output_type": "stream",
          "text": [
            "[2025-03-01 16:19:45,873] INFO in 2111121185: ALPHABET_VIDEOS_PATH: N:\\CAI\\hackathon\\Olabs_Final\\Sign\\words\\alphabet_clips, exists: True\n"
          ]
        },
        {
          "name": "stdout",
          "output_type": "stream",
          "text": [
            "ALPHABET_VIDEOS_PATH: N:\\CAI\\hackathon\\Olabs_Final\\Sign\\words\\alphabet_clips, exists: True\n",
            "ALPHABET_VIDEOS_PATH: N:\\CAI\\hackathon\\Olabs_Final\\Sign\\words\\alphabet_clips, exists: True\n",
            "ALPHABET_VIDEOS_PATH: N:\\CAI\\hackathon\\Olabs_Final\\Sign\\words\\alphabet_clips, exists: True\n",
            "ALPHABET_VIDEOS_PATH: N:\\CAI\\hackathon\\Olabs_Final\\Sign\\words\\alphabet_clips, exists: True\n"
          ]
        },
        {
          "name": "stderr",
          "output_type": "stream",
          "text": [
            "[2025-03-01 16:19:45,873] INFO in 2111121185: Temporary directory created at: C:\\Users\\MATHAN\\AppData\\Local\\Temp\\isl_videos\n"
          ]
        },
        {
          "name": "stdout",
          "output_type": "stream",
          "text": [
            "Temporary directory created at: C:\\Users\\MATHAN\\AppData\\Local\\Temp\\isl_videos\n",
            "Temporary directory created at: C:\\Users\\MATHAN\\AppData\\Local\\Temp\\isl_videos\n",
            "Temporary directory created at: C:\\Users\\MATHAN\\AppData\\Local\\Temp\\isl_videos\n",
            "Temporary directory created at: C:\\Users\\MATHAN\\AppData\\Local\\Temp\\isl_videos\n"
          ]
        },
        {
          "name": "stderr",
          "output_type": "stream",
          "text": [
            "[2025-03-01 16:19:45,885] INFO in 2111121185: Upload directory created at: C:\\Users\\MATHAN\\AppData\\Local\\Temp\\isl_uploads\n"
          ]
        },
        {
          "name": "stdout",
          "output_type": "stream",
          "text": [
            "Upload directory created at: C:\\Users\\MATHAN\\AppData\\Local\\Temp\\isl_uploads\n",
            "Upload directory created at: C:\\Users\\MATHAN\\AppData\\Local\\Temp\\isl_uploads\n",
            "Upload directory created at: C:\\Users\\MATHAN\\AppData\\Local\\Temp\\isl_uploads\n",
            "Upload directory created at: C:\\Users\\MATHAN\\AppData\\Local\\Temp\\isl_uploads\n"
          ]
        },
        {
          "name": "stderr",
          "output_type": "stream",
          "text": [
            "[2025-03-01 16:19:45,885] INFO in 2111121185: Starting Flask application...\n"
          ]
        },
        {
          "name": "stdout",
          "output_type": "stream",
          "text": [
            "Starting Flask application...\n",
            "Starting Flask application...\n",
            "Starting Flask application...\n",
            "Starting Flask application...\n",
            " * Serving Flask app '__main__'\n",
            " * Debug mode: off\n"
          ]
        },
        {
          "name": "stderr",
          "output_type": "stream",
          "text": [
            "WARNING: This is a development server. Do not use it in a production deployment. Use a production WSGI server instead.\n",
            " * Running on http://127.0.0.1:5002\n",
            "Press CTRL+C to quit\n",
            "127.0.0.1 - - [01/Mar/2025 16:19:52] \"GET / HTTP/1.1\" 200 -\n",
            "127.0.0.1 - - [01/Mar/2025 16:19:52] \"GET /favicon.ico HTTP/1.1\" 404 -\n",
            "[2025-03-01 16:20:14,534] INFO in 2111121185: Received video upload request\n"
          ]
        },
        {
          "name": "stdout",
          "output_type": "stream",
          "text": [
            "Received video upload request\n",
            "Received video upload request\n",
            "Received video upload request\n",
            "Received video upload request\n"
          ]
        },
        {
          "name": "stderr",
          "output_type": "stream",
          "text": [
            "[2025-03-01 16:20:14,540] INFO in 2111121185: Video saved to C:\\Users\\MATHAN\\AppData\\Local\\Temp\\isl_uploads\\video_ef34e6f999374dde92faa6fa7bc29883.mp4\n"
          ]
        },
        {
          "name": "stdout",
          "output_type": "stream",
          "text": [
            "Video saved to C:\\Users\\MATHAN\\AppData\\Local\\Temp\\isl_uploads\\video_ef34e6f999374dde92faa6fa7bc29883.mp4\n",
            "Video saved to C:\\Users\\MATHAN\\AppData\\Local\\Temp\\isl_uploads\\video_ef34e6f999374dde92faa6fa7bc29883.mp4\n",
            "Video saved to C:\\Users\\MATHAN\\AppData\\Local\\Temp\\isl_uploads\\video_ef34e6f999374dde92faa6fa7bc29883.mp4\n",
            "Video saved to C:\\Users\\MATHAN\\AppData\\Local\\Temp\\isl_uploads\\video_ef34e6f999374dde92faa6fa7bc29883.mp4\n"
          ]
        },
        {
          "name": "stderr",
          "output_type": "stream",
          "text": [
            "[2025-03-01 16:20:14,550] INFO in 2111121185: Extracting audio from video: C:\\Users\\MATHAN\\AppData\\Local\\Temp\\isl_uploads\\video_ef34e6f999374dde92faa6fa7bc29883.mp4\n"
          ]
        },
        {
          "name": "stdout",
          "output_type": "stream",
          "text": [
            "Extracting audio from video: C:\\Users\\MATHAN\\AppData\\Local\\Temp\\isl_uploads\\video_ef34e6f999374dde92faa6fa7bc29883.mp4\n",
            "Extracting audio from video: C:\\Users\\MATHAN\\AppData\\Local\\Temp\\isl_uploads\\video_ef34e6f999374dde92faa6fa7bc29883.mp4\n",
            "Extracting audio from video: C:\\Users\\MATHAN\\AppData\\Local\\Temp\\isl_uploads\\video_ef34e6f999374dde92faa6fa7bc29883.mp4\n",
            "Extracting audio from video: C:\\Users\\MATHAN\\AppData\\Local\\Temp\\isl_uploads\\video_ef34e6f999374dde92faa6fa7bc29883.mp4\n",
            "{'video_found': True, 'audio_found': True, 'metadata': {'major_brand': 'mp42', 'minor_version': '0', 'compatible_brands': 'mp42isom'}, 'inputs': [{'streams': [{'input_number': 0, 'stream_number': 0, 'stream_type': 'video', 'language': None, 'default': True, 'size': [960, 544], 'bitrate': 2048, 'fps': 29.62, 'codec_name': 'h264', 'profile': '(Constrained Baseline)', 'metadata': {'Metadata': '', 'vendor_id': '[0][0][0][0]', 'encoder': 'AVC Coding'}}, {'input_number': 0, 'stream_number': 1, 'stream_type': 'audio', 'language': None, 'default': True, 'fps': 48000, 'bitrate': 192, 'metadata': {'Metadata': '', 'vendor_id': '[0][0][0][0]'}}], 'input_number': 0}], 'duration': 14.42, 'bitrate': 2243, 'start': 0.0, 'default_video_input_number': 0, 'default_video_stream_number': 0, 'video_codec_name': 'h264', 'video_profile': '(Constrained Baseline)', 'video_size': [960, 544], 'video_bitrate': 2048, 'video_fps': 29.62, 'default_audio_input_number': 0, 'default_audio_stream_number': 1, 'audio_fps': 48000, 'audio_bitrate': 192, 'video_duration': 14.42, 'video_n_frames': 427}\n",
            "c:\\Python312\\Lib\\site-packages\\imageio_ffmpeg\\binaries\\ffmpeg-win-x86_64-v7.1.exe -i C:\\Users\\MATHAN\\AppData\\Local\\Temp\\isl_uploads\\video_ef34e6f999374dde92faa6fa7bc29883.mp4 -loglevel error -f image2pipe -vf scale=960:544 -sws_flags bicubic -pix_fmt rgb24 -vcodec rawvideo -\n"
          ]
        },
        {
          "name": "stderr",
          "output_type": "stream",
          "text": [
            "[2025-03-01 16:20:14,896] INFO in 2111121185: Audio extracted to: C:\\Users\\MATHAN\\AppData\\Local\\Temp\\isl_videos\\audio_9813a0cc2e9e4a12be414dfbf8ee4619.wav\n"
          ]
        },
        {
          "name": "stdout",
          "output_type": "stream",
          "text": [
            "Audio extracted to: C:\\Users\\MATHAN\\AppData\\Local\\Temp\\isl_videos\\audio_9813a0cc2e9e4a12be414dfbf8ee4619.wav\n",
            "Audio extracted to: C:\\Users\\MATHAN\\AppData\\Local\\Temp\\isl_videos\\audio_9813a0cc2e9e4a12be414dfbf8ee4619.wav\n",
            "Audio extracted to: C:\\Users\\MATHAN\\AppData\\Local\\Temp\\isl_videos\\audio_9813a0cc2e9e4a12be414dfbf8ee4619.wav\n",
            "Audio extracted to: C:\\Users\\MATHAN\\AppData\\Local\\Temp\\isl_videos\\audio_9813a0cc2e9e4a12be414dfbf8ee4619.wav\n"
          ]
        },
        {
          "name": "stderr",
          "output_type": "stream",
          "text": [
            "127.0.0.1 - - [01/Mar/2025 16:20:14] \"POST /upload-video HTTP/1.1\" 200 -\n",
            "127.0.0.1 - - [01/Mar/2025 16:20:14] \"GET /audio/audio_9813a0cc2e9e4a12be414dfbf8ee4619.wav HTTP/1.1\" 206 -\n",
            "127.0.0.1 - - [01/Mar/2025 16:20:17] \"GET /audio/audio_9813a0cc2e9e4a12be414dfbf8ee4619.wav HTTP/1.1\" 206 -\n",
            "127.0.0.1 - - [01/Mar/2025 16:20:17] \"GET /audio/audio_9813a0cc2e9e4a12be414dfbf8ee4619.wav HTTP/1.1\" 200 -\n",
            "[2025-03-01 16:20:28,671] INFO in 2111121185: Received conversion request\n"
          ]
        },
        {
          "name": "stdout",
          "output_type": "stream",
          "text": [
            "Received conversion request\n",
            "Received conversion request\n",
            "Received conversion request\n",
            "Received conversion request\n"
          ]
        },
        {
          "name": "stderr",
          "output_type": "stream",
          "text": [
            "[2025-03-01 16:20:28,674] INFO in 2111121185: Converting text: 'She and her sister ride to school in the morning, play with their friends in the classroom, and watch television at home after finishing their homework.'\n"
          ]
        },
        {
          "name": "stdout",
          "output_type": "stream",
          "text": [
            "Converting text: 'She and her sister ride to school in the morning, play with their friends in the classroom, and watch television at home after finishing their homework.'\n",
            "Converting text: 'She and her sister ride to school in the morning, play with their friends in the classroom, and watch television at home after finishing their homework.'\n",
            "Converting text: 'She and her sister ride to school in the morning, play with their friends in the classroom, and watch television at home after finishing their homework.'\n",
            "Converting text: 'She and her sister ride to school in the morning, play with their friends in the classroom, and watch television at home after finishing their homework.'\n"
          ]
        },
        {
          "name": "stderr",
          "output_type": "stream",
          "text": [
            "[2025-03-01 16:20:28,684] INFO in 2111121185: Extracted words: ['she', 'and', 'her', 'sister', 'ride', 'to', 'school', 'in', 'morning', 'play', 'with', 'their', 'friend', 'in', 'classroom', 'and', 'watch', 'television', 'at', 'home', 'after', 'finish', 'their', 'homework']\n"
          ]
        },
        {
          "name": "stdout",
          "output_type": "stream",
          "text": [
            "Extracted words: ['she', 'and', 'her', 'sister', 'ride', 'to', 'school', 'in', 'morning', 'play', 'with', 'their', 'friend', 'in', 'classroom', 'and', 'watch', 'television', 'at', 'home', 'after', 'finish', 'their', 'homework']\n",
            "Extracted words: ['she', 'and', 'her', 'sister', 'ride', 'to', 'school', 'in', 'morning', 'play', 'with', 'their', 'friend', 'in', 'classroom', 'and', 'watch', 'television', 'at', 'home', 'after', 'finish', 'their', 'homework']\n",
            "Extracted words: ['she', 'and', 'her', 'sister', 'ride', 'to', 'school', 'in', 'morning', 'play', 'with', 'their', 'friend', 'in', 'classroom', 'and', 'watch', 'television', 'at', 'home', 'after', 'finish', 'their', 'homework']\n",
            "Extracted words: ['she', 'and', 'her', 'sister', 'ride', 'to', 'school', 'in', 'morning', 'play', 'with', 'their', 'friend', 'in', 'classroom', 'and', 'watch', 'television', 'at', 'home', 'after', 'finish', 'their', 'homework']\n"
          ]
        },
        {
          "name": "stderr",
          "output_type": "stream",
          "text": [
            "[2025-03-01 16:20:28,783] INFO in 2111121185: Missing ISL clip for: and\n"
          ]
        },
        {
          "name": "stdout",
          "output_type": "stream",
          "text": [
            "{'video_found': True, 'audio_found': False, 'metadata': {'major_brand': 'dash', 'minor_version': '0', 'compatible_brands': 'iso6avc1mp41', 'creation_time': '2023-09-18T21:15:12.000000Z'}, 'inputs': [{'streams': [{'input_number': 0, 'stream_number': 0, 'stream_type': 'video', 'language': None, 'default': True, 'size': [480, 360], 'bitrate': 147, 'fps': 25.0, 'codec_name': 'h264', 'profile': '(Main)', 'metadata': {'Metadata': '', 'creation_time': '2023-09-18T21:15:12.000000Z', 'handler_name': 'ISO Media file produced by Google Inc.', 'vendor_id': '[0][0][0][0]'}}], 'input_number': 0}], 'duration': 5.72, 'bitrate': 151, 'start': 0.0, 'default_video_input_number': 0, 'default_video_stream_number': 0, 'video_codec_name': 'h264', 'video_profile': '(Main)', 'video_size': [480, 360], 'video_bitrate': 147, 'video_fps': 25.0, 'video_duration': 5.72, 'video_n_frames': 143}\n",
            "c:\\Python312\\Lib\\site-packages\\imageio_ffmpeg\\binaries\\ffmpeg-win-x86_64-v7.1.exe -i N:\\CAI\\hackathon\\Olabs_Final\\Sign\\words\\she.mp4 -loglevel error -f image2pipe -vf scale=480:360 -sws_flags bicubic -pix_fmt rgb24 -vcodec rawvideo -\n",
            "Missing ISL clip for: and\n",
            "Missing ISL clip for: and\n",
            "Missing ISL clip for: and\n",
            "Missing ISL clip for: and\n",
            "{'video_found': True, 'audio_found': False, 'metadata': {'major_brand': 'isom', 'minor_version': '512', 'compatible_brands': 'isomiso2avc1mp41', 'encoder': 'Lavf58.76.100'}, 'inputs': [{'streams': [{'input_number': 0, 'stream_number': 0, 'stream_type': 'video', 'language': None, 'default': True, 'size': [480, 360], 'bitrate': 268, 'fps': 30.0, 'codec_name': 'h264', 'profile': '(Main)', 'metadata': {'Metadata': '', 'handler_name': 'ISO Media file produced by Google Inc.', 'vendor_id': '[0][0][0][0]'}}], 'input_number': 0}], 'duration': 2.03, 'bitrate': 274, 'start': 0.0, 'default_video_input_number': 0, 'default_video_stream_number': 0, 'video_codec_name': 'h264', 'video_profile': '(Main)', 'video_size': [480, 360], 'video_bitrate': 268, 'video_fps': 30.0, 'video_duration': 2.03, 'video_n_frames': 60}\n",
            "c:\\Python312\\Lib\\site-packages\\imageio_ffmpeg\\binaries\\ffmpeg-win-x86_64-v7.1.exe -i N:\\CAI\\hackathon\\Olabs_Final\\Sign\\words\\alphabet_clips\\A.mp4 -loglevel error -f image2pipe -vf scale=480:360 -sws_flags bicubic -pix_fmt rgb24 -vcodec rawvideo -\n",
            "{'video_found': True, 'audio_found': False, 'metadata': {'major_brand': 'isom', 'minor_version': '512', 'compatible_brands': 'isomiso2avc1mp41', 'encoder': 'Lavf58.76.100'}, 'inputs': [{'streams': [{'input_number': 0, 'stream_number': 0, 'stream_type': 'video', 'language': None, 'default': True, 'size': [480, 360], 'bitrate': 1033, 'fps': 30.0, 'codec_name': 'h264', 'profile': '(Main)', 'metadata': {'Metadata': '', 'handler_name': 'ISO Media file produced by Google Inc.', 'vendor_id': '[0][0][0][0]'}}], 'input_number': 0}], 'duration': 1.27, 'bitrate': 1050, 'start': 0.0, 'default_video_input_number': 0, 'default_video_stream_number': 0, 'video_codec_name': 'h264', 'video_profile': '(Main)', 'video_size': [480, 360], 'video_bitrate': 1033, 'video_fps': 30.0, 'video_duration': 1.27, 'video_n_frames': 38}\n",
            "c:\\Python312\\Lib\\site-packages\\imageio_ffmpeg\\binaries\\ffmpeg-win-x86_64-v7.1.exe -i N:\\CAI\\hackathon\\Olabs_Final\\Sign\\words\\alphabet_clips\\N.mp4 -loglevel error -f image2pipe -vf scale=480:360 -sws_flags bicubic -pix_fmt rgb24 -vcodec rawvideo -\n"
          ]
        },
        {
          "name": "stderr",
          "output_type": "stream",
          "text": [
            "[2025-03-01 16:20:29,083] INFO in 2111121185: Missing ISL clip for: her\n"
          ]
        },
        {
          "name": "stdout",
          "output_type": "stream",
          "text": [
            "{'video_found': True, 'audio_found': False, 'metadata': {'major_brand': 'isom', 'minor_version': '512', 'compatible_brands': 'isomiso2avc1mp41', 'encoder': 'Lavf58.76.100'}, 'inputs': [{'streams': [{'input_number': 0, 'stream_number': 0, 'stream_type': 'video', 'language': None, 'default': True, 'size': [480, 360], 'bitrate': 853, 'fps': 30.0, 'codec_name': 'h264', 'profile': '(Main)', 'metadata': {'Metadata': '', 'handler_name': 'ISO Media file produced by Google Inc.', 'vendor_id': '[0][0][0][0]'}}], 'input_number': 0}], 'duration': 1.83, 'bitrate': 866, 'start': 0.0, 'default_video_input_number': 0, 'default_video_stream_number': 0, 'video_codec_name': 'h264', 'video_profile': '(Main)', 'video_size': [480, 360], 'video_bitrate': 853, 'video_fps': 30.0, 'video_duration': 1.83, 'video_n_frames': 54}\n",
            "c:\\Python312\\Lib\\site-packages\\imageio_ffmpeg\\binaries\\ffmpeg-win-x86_64-v7.1.exe -i N:\\CAI\\hackathon\\Olabs_Final\\Sign\\words\\alphabet_clips\\D.mp4 -loglevel error -f image2pipe -vf scale=480:360 -sws_flags bicubic -pix_fmt rgb24 -vcodec rawvideo -\n",
            "Missing ISL clip for: her\n",
            "Missing ISL clip for: her\n",
            "Missing ISL clip for: her\n",
            "Missing ISL clip for: her\n",
            "{'video_found': True, 'audio_found': False, 'metadata': {'major_brand': 'isom', 'minor_version': '512', 'compatible_brands': 'isomiso2avc1mp41', 'encoder': 'Lavf58.76.100'}, 'inputs': [{'streams': [{'input_number': 0, 'stream_number': 0, 'stream_type': 'video', 'language': None, 'default': True, 'size': [480, 360], 'bitrate': 454, 'fps': 30.0, 'codec_name': 'h264', 'profile': '(Main)', 'metadata': {'Metadata': '', 'handler_name': 'ISO Media file produced by Google Inc.', 'vendor_id': '[0][0][0][0]'}}], 'input_number': 0}], 'duration': 1.57, 'bitrate': 464, 'start': 0.0, 'default_video_input_number': 0, 'default_video_stream_number': 0, 'video_codec_name': 'h264', 'video_profile': '(Main)', 'video_size': [480, 360], 'video_bitrate': 454, 'video_fps': 30.0, 'video_duration': 1.57, 'video_n_frames': 47}\n",
            "c:\\Python312\\Lib\\site-packages\\imageio_ffmpeg\\binaries\\ffmpeg-win-x86_64-v7.1.exe -i N:\\CAI\\hackathon\\Olabs_Final\\Sign\\words\\alphabet_clips\\H.mp4 -loglevel error -f image2pipe -vf scale=480:360 -sws_flags bicubic -pix_fmt rgb24 -vcodec rawvideo -\n",
            "{'video_found': True, 'audio_found': False, 'metadata': {'major_brand': 'isom', 'minor_version': '512', 'compatible_brands': 'isomiso2avc1mp41', 'encoder': 'Lavf58.76.100'}, 'inputs': [{'streams': [{'input_number': 0, 'stream_number': 0, 'stream_type': 'video', 'language': None, 'default': True, 'size': [480, 360], 'bitrate': 662, 'fps': 30.0, 'codec_name': 'h264', 'profile': '(Main)', 'metadata': {'Metadata': '', 'handler_name': 'ISO Media file produced by Google Inc.', 'vendor_id': '[0][0][0][0]'}}], 'input_number': 0}], 'duration': 1.63, 'bitrate': 673, 'start': 0.0, 'default_video_input_number': 0, 'default_video_stream_number': 0, 'video_codec_name': 'h264', 'video_profile': '(Main)', 'video_size': [480, 360], 'video_bitrate': 662, 'video_fps': 30.0, 'video_duration': 1.63, 'video_n_frames': 48}\n",
            "c:\\Python312\\Lib\\site-packages\\imageio_ffmpeg\\binaries\\ffmpeg-win-x86_64-v7.1.exe -i N:\\CAI\\hackathon\\Olabs_Final\\Sign\\words\\alphabet_clips\\E.mp4 -loglevel error -f image2pipe -vf scale=480:360 -sws_flags bicubic -pix_fmt rgb24 -vcodec rawvideo -\n",
            "{'video_found': True, 'audio_found': False, 'metadata': {'major_brand': 'isom', 'minor_version': '512', 'compatible_brands': 'isomiso2avc1mp41', 'encoder': 'Lavf58.76.100'}, 'inputs': [{'streams': [{'input_number': 0, 'stream_number': 0, 'stream_type': 'video', 'language': None, 'default': True, 'size': [480, 360], 'bitrate': 347, 'fps': 30.0, 'codec_name': 'h264', 'profile': '(Main)', 'metadata': {'Metadata': '', 'handler_name': 'ISO Media file produced by Google Inc.', 'vendor_id': '[0][0][0][0]'}}], 'input_number': 0}], 'duration': 1.63, 'bitrate': 354, 'start': 0.0, 'default_video_input_number': 0, 'default_video_stream_number': 0, 'video_codec_name': 'h264', 'video_profile': '(Main)', 'video_size': [480, 360], 'video_bitrate': 347, 'video_fps': 30.0, 'video_duration': 1.63, 'video_n_frames': 48}\n",
            "c:\\Python312\\Lib\\site-packages\\imageio_ffmpeg\\binaries\\ffmpeg-win-x86_64-v7.1.exe -i N:\\CAI\\hackathon\\Olabs_Final\\Sign\\words\\alphabet_clips\\R.mp4 -loglevel error -f image2pipe -vf scale=480:360 -sws_flags bicubic -pix_fmt rgb24 -vcodec rawvideo -\n",
            "{'video_found': True, 'audio_found': False, 'metadata': {'major_brand': 'dash', 'minor_version': '0', 'compatible_brands': 'iso6avc1mp41', 'creation_time': '2023-11-10T12:25:26.000000Z'}, 'inputs': [{'streams': [{'input_number': 0, 'stream_number': 0, 'stream_type': 'video', 'language': None, 'default': True, 'size': [480, 360], 'bitrate': 142, 'fps': 30.0, 'codec_name': 'h264', 'profile': '(Main)', 'metadata': {'Metadata': '', 'creation_time': '2023-11-10T12:25:26.000000Z', 'handler_name': 'ISO Media file produced by Google Inc.', 'vendor_id': '[0][0][0][0]'}}], 'input_number': 0}], 'duration': 10.57, 'bitrate': 151, 'start': 0.0, 'default_video_input_number': 0, 'default_video_stream_number': 0, 'video_codec_name': 'h264', 'video_profile': '(Main)', 'video_size': [480, 360], 'video_bitrate': 142, 'video_fps': 30.0, 'video_duration': 10.57, 'video_n_frames': 317}\n",
            "c:\\Python312\\Lib\\site-packages\\imageio_ffmpeg\\binaries\\ffmpeg-win-x86_64-v7.1.exe -i N:\\CAI\\hackathon\\Olabs_Final\\Sign\\words\\sister.mp4 -loglevel error -f image2pipe -vf scale=480:360 -sws_flags bicubic -pix_fmt rgb24 -vcodec rawvideo -\n",
            "{'video_found': True, 'audio_found': False, 'metadata': {'major_brand': 'dash', 'minor_version': '0', 'compatible_brands': 'iso6avc1mp41', 'creation_time': '2023-09-10T10:36:54.000000Z'}, 'inputs': [{'streams': [{'input_number': 0, 'stream_number': 0, 'stream_type': 'video', 'language': None, 'default': True, 'size': [480, 360], 'bitrate': 174, 'fps': 25.0, 'codec_name': 'h264', 'profile': '(Main)', 'metadata': {'Metadata': '', 'creation_time': '2023-09-10T10:36:54.000000Z', 'handler_name': 'ISO Media file produced by Google Inc.', 'vendor_id': '[0][0][0][0]'}}], 'input_number': 0}], 'duration': 7.16, 'bitrate': 179, 'start': 0.0, 'default_video_input_number': 0, 'default_video_stream_number': 0, 'video_codec_name': 'h264', 'video_profile': '(Main)', 'video_size': [480, 360], 'video_bitrate': 174, 'video_fps': 25.0, 'video_duration': 7.16, 'video_n_frames': 179}\n",
            "c:\\Python312\\Lib\\site-packages\\imageio_ffmpeg\\binaries\\ffmpeg-win-x86_64-v7.1.exe -i N:\\CAI\\hackathon\\Olabs_Final\\Sign\\words\\ride.mp4 -loglevel error -f image2pipe -vf scale=480:360 -sws_flags bicubic -pix_fmt rgb24 -vcodec rawvideo -\n"
          ]
        },
        {
          "name": "stderr",
          "output_type": "stream",
          "text": [
            "[2025-03-01 16:20:29,600] INFO in 2111121185: Missing ISL clip for: to\n"
          ]
        },
        {
          "name": "stdout",
          "output_type": "stream",
          "text": [
            "Missing ISL clip for: to\n",
            "Missing ISL clip for: to\n",
            "Missing ISL clip for: to\n",
            "Missing ISL clip for: to\n",
            "{'video_found': True, 'audio_found': False, 'metadata': {'major_brand': 'isom', 'minor_version': '512', 'compatible_brands': 'isomiso2avc1mp41', 'encoder': 'Lavf58.76.100'}, 'inputs': [{'streams': [{'input_number': 0, 'stream_number': 0, 'stream_type': 'video', 'language': None, 'default': True, 'size': [480, 360], 'bitrate': 419, 'fps': 30.0, 'codec_name': 'h264', 'profile': '(Main)', 'metadata': {'Metadata': '', 'handler_name': 'ISO Media file produced by Google Inc.', 'vendor_id': '[0][0][0][0]'}}], 'input_number': 0}], 'duration': 1.67, 'bitrate': 427, 'start': 0.0, 'default_video_input_number': 0, 'default_video_stream_number': 0, 'video_codec_name': 'h264', 'video_profile': '(Main)', 'video_size': [480, 360], 'video_bitrate': 419, 'video_fps': 30.0, 'video_duration': 1.67, 'video_n_frames': 50}\n",
            "c:\\Python312\\Lib\\site-packages\\imageio_ffmpeg\\binaries\\ffmpeg-win-x86_64-v7.1.exe -i N:\\CAI\\hackathon\\Olabs_Final\\Sign\\words\\alphabet_clips\\T.mp4 -loglevel error -f image2pipe -vf scale=480:360 -sws_flags bicubic -pix_fmt rgb24 -vcodec rawvideo -\n",
            "{'video_found': True, 'audio_found': False, 'metadata': {'major_brand': 'isom', 'minor_version': '512', 'compatible_brands': 'isomiso2avc1mp41', 'encoder': 'Lavf58.76.100'}, 'inputs': [{'streams': [{'input_number': 0, 'stream_number': 0, 'stream_type': 'video', 'language': None, 'default': True, 'size': [480, 360], 'bitrate': 480, 'fps': 30.0, 'codec_name': 'h264', 'profile': '(Main)', 'metadata': {'Metadata': '', 'handler_name': 'ISO Media file produced by Google Inc.', 'vendor_id': '[0][0][0][0]'}}], 'input_number': 0}], 'duration': 1.57, 'bitrate': 490, 'start': 0.0, 'default_video_input_number': 0, 'default_video_stream_number': 0, 'video_codec_name': 'h264', 'video_profile': '(Main)', 'video_size': [480, 360], 'video_bitrate': 480, 'video_fps': 30.0, 'video_duration': 1.57, 'video_n_frames': 47}\n",
            "c:\\Python312\\Lib\\site-packages\\imageio_ffmpeg\\binaries\\ffmpeg-win-x86_64-v7.1.exe -i N:\\CAI\\hackathon\\Olabs_Final\\Sign\\words\\alphabet_clips\\O.mp4 -loglevel error -f image2pipe -vf scale=480:360 -sws_flags bicubic -pix_fmt rgb24 -vcodec rawvideo -\n"
          ]
        },
        {
          "name": "stderr",
          "output_type": "stream",
          "text": [
            "[2025-03-01 16:20:29,901] INFO in 2111121185: Missing ISL clip for: in\n"
          ]
        },
        {
          "name": "stdout",
          "output_type": "stream",
          "text": [
            "{'video_found': True, 'audio_found': False, 'metadata': {'major_brand': 'dash', 'minor_version': '0', 'compatible_brands': 'iso6avc1mp41', 'creation_time': '2025-02-03T03:02:14.000000Z'}, 'inputs': [{'streams': [{'input_number': 0, 'stream_number': 0, 'stream_type': 'video', 'language': None, 'default': True, 'size': [480, 360], 'bitrate': 224, 'fps': 25.0, 'codec_name': 'h264', 'profile': '(Main)', 'metadata': {'Metadata': '', 'creation_time': '2025-02-03T03:02:14.000000Z', 'handler_name': 'ISO Media file produced by Google Inc.', 'vendor_id': '[0][0][0][0]'}}], 'input_number': 0}], 'duration': 5.96, 'bitrate': 227, 'start': 0.0, 'default_video_input_number': 0, 'default_video_stream_number': 0, 'video_codec_name': 'h264', 'video_profile': '(Main)', 'video_size': [480, 360], 'video_bitrate': 224, 'video_fps': 25.0, 'video_duration': 5.96, 'video_n_frames': 149}\n",
            "c:\\Python312\\Lib\\site-packages\\imageio_ffmpeg\\binaries\\ffmpeg-win-x86_64-v7.1.exe -i N:\\CAI\\hackathon\\Olabs_Final\\Sign\\words\\school.mp4 -loglevel error -f image2pipe -vf scale=480:360 -sws_flags bicubic -pix_fmt rgb24 -vcodec rawvideo -\n",
            "Missing ISL clip for: in\n",
            "Missing ISL clip for: in\n",
            "Missing ISL clip for: in\n",
            "Missing ISL clip for: in\n",
            "{'video_found': True, 'audio_found': False, 'metadata': {'major_brand': 'isom', 'minor_version': '512', 'compatible_brands': 'isomiso2avc1mp41', 'encoder': 'Lavf58.76.100'}, 'inputs': [{'streams': [{'input_number': 0, 'stream_number': 0, 'stream_type': 'video', 'language': None, 'default': True, 'size': [480, 360], 'bitrate': 860, 'fps': 30.0, 'codec_name': 'h264', 'profile': '(Main)', 'metadata': {'Metadata': '', 'handler_name': 'ISO Media file produced by Google Inc.', 'vendor_id': '[0][0][0][0]'}}], 'input_number': 0}], 'duration': 1.67, 'bitrate': 874, 'start': 0.0, 'default_video_input_number': 0, 'default_video_stream_number': 0, 'video_codec_name': 'h264', 'video_profile': '(Main)', 'video_size': [480, 360], 'video_bitrate': 860, 'video_fps': 30.0, 'video_duration': 1.67, 'video_n_frames': 50}\n",
            "c:\\Python312\\Lib\\site-packages\\imageio_ffmpeg\\binaries\\ffmpeg-win-x86_64-v7.1.exe -i N:\\CAI\\hackathon\\Olabs_Final\\Sign\\words\\alphabet_clips\\I.mp4 -loglevel error -f image2pipe -vf scale=480:360 -sws_flags bicubic -pix_fmt rgb24 -vcodec rawvideo -\n",
            "{'video_found': True, 'audio_found': False, 'metadata': {'major_brand': 'isom', 'minor_version': '512', 'compatible_brands': 'isomiso2avc1mp41', 'encoder': 'Lavf58.76.100'}, 'inputs': [{'streams': [{'input_number': 0, 'stream_number': 0, 'stream_type': 'video', 'language': None, 'default': True, 'size': [480, 360], 'bitrate': 1033, 'fps': 30.0, 'codec_name': 'h264', 'profile': '(Main)', 'metadata': {'Metadata': '', 'handler_name': 'ISO Media file produced by Google Inc.', 'vendor_id': '[0][0][0][0]'}}], 'input_number': 0}], 'duration': 1.27, 'bitrate': 1050, 'start': 0.0, 'default_video_input_number': 0, 'default_video_stream_number': 0, 'video_codec_name': 'h264', 'video_profile': '(Main)', 'video_size': [480, 360], 'video_bitrate': 1033, 'video_fps': 30.0, 'video_duration': 1.27, 'video_n_frames': 38}\n",
            "c:\\Python312\\Lib\\site-packages\\imageio_ffmpeg\\binaries\\ffmpeg-win-x86_64-v7.1.exe -i N:\\CAI\\hackathon\\Olabs_Final\\Sign\\words\\alphabet_clips\\N.mp4 -loglevel error -f image2pipe -vf scale=480:360 -sws_flags bicubic -pix_fmt rgb24 -vcodec rawvideo -\n",
            "{'video_found': True, 'audio_found': False, 'metadata': {'major_brand': 'dash', 'minor_version': '0', 'compatible_brands': 'iso6avc1mp41', 'creation_time': '2023-09-20T03:58:16.000000Z'}, 'inputs': [{'streams': [{'input_number': 0, 'stream_number': 0, 'stream_type': 'video', 'language': None, 'default': True, 'size': [480, 360], 'bitrate': 163, 'fps': 30.0, 'codec_name': 'h264', 'profile': '(Main)', 'metadata': {'Metadata': '', 'creation_time': '2023-09-20T03:58:16.000000Z', 'handler_name': 'ISO Media file produced by Google Inc.', 'vendor_id': '[0][0][0][0]'}}], 'input_number': 0}], 'duration': 6.1, 'bitrate': 167, 'start': 0.0, 'default_video_input_number': 0, 'default_video_stream_number': 0, 'video_codec_name': 'h264', 'video_profile': '(Main)', 'video_size': [480, 360], 'video_bitrate': 163, 'video_fps': 30.0, 'video_duration': 6.1, 'video_n_frames': 183}\n",
            "c:\\Python312\\Lib\\site-packages\\imageio_ffmpeg\\binaries\\ffmpeg-win-x86_64-v7.1.exe -i N:\\CAI\\hackathon\\Olabs_Final\\Sign\\words\\morning.mp4 -loglevel error -f image2pipe -vf scale=480:360 -sws_flags bicubic -pix_fmt rgb24 -vcodec rawvideo -\n"
          ]
        },
        {
          "name": "stderr",
          "output_type": "stream",
          "text": [
            "[2025-03-01 16:20:30,340] INFO in 2111121185: Missing ISL clip for: with\n"
          ]
        },
        {
          "name": "stdout",
          "output_type": "stream",
          "text": [
            "{'video_found': True, 'audio_found': False, 'metadata': {'major_brand': 'dash', 'minor_version': '0', 'compatible_brands': 'iso6avc1mp41', 'creation_time': '2023-11-08T10:24:12.000000Z'}, 'inputs': [{'streams': [{'input_number': 0, 'stream_number': 0, 'stream_type': 'video', 'language': None, 'default': True, 'size': [480, 360], 'bitrate': 172, 'fps': 25.0, 'codec_name': 'h264', 'profile': '(Main)', 'metadata': {'Metadata': '', 'creation_time': '2023-11-08T10:24:12.000000Z', 'handler_name': 'ISO Media file produced by Google Inc.', 'vendor_id': '[0][0][0][0]'}}], 'input_number': 0}], 'duration': 6.64, 'bitrate': 177, 'start': 0.0, 'default_video_input_number': 0, 'default_video_stream_number': 0, 'video_codec_name': 'h264', 'video_profile': '(Main)', 'video_size': [480, 360], 'video_bitrate': 172, 'video_fps': 25.0, 'video_duration': 6.64, 'video_n_frames': 166}\n",
            "c:\\Python312\\Lib\\site-packages\\imageio_ffmpeg\\binaries\\ffmpeg-win-x86_64-v7.1.exe -i N:\\CAI\\hackathon\\Olabs_Final\\Sign\\words\\play.mp4 -loglevel error -f image2pipe -vf scale=480:360 -sws_flags bicubic -pix_fmt rgb24 -vcodec rawvideo -\n",
            "Missing ISL clip for: with\n",
            "Missing ISL clip for: with\n",
            "Missing ISL clip for: with\n",
            "Missing ISL clip for: with\n",
            "{'video_found': True, 'audio_found': False, 'metadata': {'major_brand': 'isom', 'minor_version': '512', 'compatible_brands': 'isomiso2avc1mp41', 'encoder': 'Lavf58.76.100'}, 'inputs': [{'streams': [{'input_number': 0, 'stream_number': 0, 'stream_type': 'video', 'language': None, 'default': True, 'size': [480, 360], 'bitrate': 318, 'fps': 30.0, 'codec_name': 'h264', 'profile': '(Main)', 'metadata': {'Metadata': '', 'handler_name': 'ISO Media file produced by Google Inc.', 'vendor_id': '[0][0][0][0]'}}], 'input_number': 0}], 'duration': 1.67, 'bitrate': 326, 'start': 0.0, 'default_video_input_number': 0, 'default_video_stream_number': 0, 'video_codec_name': 'h264', 'video_profile': '(Main)', 'video_size': [480, 360], 'video_bitrate': 318, 'video_fps': 30.0, 'video_duration': 1.67, 'video_n_frames': 50}\n",
            "c:\\Python312\\Lib\\site-packages\\imageio_ffmpeg\\binaries\\ffmpeg-win-x86_64-v7.1.exe -i N:\\CAI\\hackathon\\Olabs_Final\\Sign\\words\\alphabet_clips\\W.mp4 -loglevel error -f image2pipe -vf scale=480:360 -sws_flags bicubic -pix_fmt rgb24 -vcodec rawvideo -\n",
            "{'video_found': True, 'audio_found': False, 'metadata': {'major_brand': 'isom', 'minor_version': '512', 'compatible_brands': 'isomiso2avc1mp41', 'encoder': 'Lavf58.76.100'}, 'inputs': [{'streams': [{'input_number': 0, 'stream_number': 0, 'stream_type': 'video', 'language': None, 'default': True, 'size': [480, 360], 'bitrate': 860, 'fps': 30.0, 'codec_name': 'h264', 'profile': '(Main)', 'metadata': {'Metadata': '', 'handler_name': 'ISO Media file produced by Google Inc.', 'vendor_id': '[0][0][0][0]'}}], 'input_number': 0}], 'duration': 1.67, 'bitrate': 874, 'start': 0.0, 'default_video_input_number': 0, 'default_video_stream_number': 0, 'video_codec_name': 'h264', 'video_profile': '(Main)', 'video_size': [480, 360], 'video_bitrate': 860, 'video_fps': 30.0, 'video_duration': 1.67, 'video_n_frames': 50}\n",
            "c:\\Python312\\Lib\\site-packages\\imageio_ffmpeg\\binaries\\ffmpeg-win-x86_64-v7.1.exe -i N:\\CAI\\hackathon\\Olabs_Final\\Sign\\words\\alphabet_clips\\I.mp4 -loglevel error -f image2pipe -vf scale=480:360 -sws_flags bicubic -pix_fmt rgb24 -vcodec rawvideo -\n"
          ]
        },
        {
          "name": "stderr",
          "output_type": "stream",
          "text": [
            "[2025-03-01 16:20:30,766] INFO in 2111121185: Missing ISL clip for: their\n"
          ]
        },
        {
          "name": "stdout",
          "output_type": "stream",
          "text": [
            "{'video_found': True, 'audio_found': False, 'metadata': {'major_brand': 'isom', 'minor_version': '512', 'compatible_brands': 'isomiso2avc1mp41', 'encoder': 'Lavf58.76.100'}, 'inputs': [{'streams': [{'input_number': 0, 'stream_number': 0, 'stream_type': 'video', 'language': None, 'default': True, 'size': [480, 360], 'bitrate': 419, 'fps': 30.0, 'codec_name': 'h264', 'profile': '(Main)', 'metadata': {'Metadata': '', 'handler_name': 'ISO Media file produced by Google Inc.', 'vendor_id': '[0][0][0][0]'}}], 'input_number': 0}], 'duration': 1.67, 'bitrate': 427, 'start': 0.0, 'default_video_input_number': 0, 'default_video_stream_number': 0, 'video_codec_name': 'h264', 'video_profile': '(Main)', 'video_size': [480, 360], 'video_bitrate': 419, 'video_fps': 30.0, 'video_duration': 1.67, 'video_n_frames': 50}\n",
            "c:\\Python312\\Lib\\site-packages\\imageio_ffmpeg\\binaries\\ffmpeg-win-x86_64-v7.1.exe -i N:\\CAI\\hackathon\\Olabs_Final\\Sign\\words\\alphabet_clips\\T.mp4 -loglevel error -f image2pipe -vf scale=480:360 -sws_flags bicubic -pix_fmt rgb24 -vcodec rawvideo -\n",
            "{'video_found': True, 'audio_found': False, 'metadata': {'major_brand': 'isom', 'minor_version': '512', 'compatible_brands': 'isomiso2avc1mp41', 'encoder': 'Lavf58.76.100'}, 'inputs': [{'streams': [{'input_number': 0, 'stream_number': 0, 'stream_type': 'video', 'language': None, 'default': True, 'size': [480, 360], 'bitrate': 454, 'fps': 30.0, 'codec_name': 'h264', 'profile': '(Main)', 'metadata': {'Metadata': '', 'handler_name': 'ISO Media file produced by Google Inc.', 'vendor_id': '[0][0][0][0]'}}], 'input_number': 0}], 'duration': 1.57, 'bitrate': 464, 'start': 0.0, 'default_video_input_number': 0, 'default_video_stream_number': 0, 'video_codec_name': 'h264', 'video_profile': '(Main)', 'video_size': [480, 360], 'video_bitrate': 454, 'video_fps': 30.0, 'video_duration': 1.57, 'video_n_frames': 47}\n",
            "c:\\Python312\\Lib\\site-packages\\imageio_ffmpeg\\binaries\\ffmpeg-win-x86_64-v7.1.exe -i N:\\CAI\\hackathon\\Olabs_Final\\Sign\\words\\alphabet_clips\\H.mp4 -loglevel error -f image2pipe -vf scale=480:360 -sws_flags bicubic -pix_fmt rgb24 -vcodec rawvideo -\n",
            "Missing ISL clip for: their\n",
            "Missing ISL clip for: their\n",
            "Missing ISL clip for: their\n",
            "Missing ISL clip for: their\n",
            "{'video_found': True, 'audio_found': False, 'metadata': {'major_brand': 'isom', 'minor_version': '512', 'compatible_brands': 'isomiso2avc1mp41', 'encoder': 'Lavf58.76.100'}, 'inputs': [{'streams': [{'input_number': 0, 'stream_number': 0, 'stream_type': 'video', 'language': None, 'default': True, 'size': [480, 360], 'bitrate': 419, 'fps': 30.0, 'codec_name': 'h264', 'profile': '(Main)', 'metadata': {'Metadata': '', 'handler_name': 'ISO Media file produced by Google Inc.', 'vendor_id': '[0][0][0][0]'}}], 'input_number': 0}], 'duration': 1.67, 'bitrate': 427, 'start': 0.0, 'default_video_input_number': 0, 'default_video_stream_number': 0, 'video_codec_name': 'h264', 'video_profile': '(Main)', 'video_size': [480, 360], 'video_bitrate': 419, 'video_fps': 30.0, 'video_duration': 1.67, 'video_n_frames': 50}\n",
            "c:\\Python312\\Lib\\site-packages\\imageio_ffmpeg\\binaries\\ffmpeg-win-x86_64-v7.1.exe -i N:\\CAI\\hackathon\\Olabs_Final\\Sign\\words\\alphabet_clips\\T.mp4 -loglevel error -f image2pipe -vf scale=480:360 -sws_flags bicubic -pix_fmt rgb24 -vcodec rawvideo -\n",
            "{'video_found': True, 'audio_found': False, 'metadata': {'major_brand': 'isom', 'minor_version': '512', 'compatible_brands': 'isomiso2avc1mp41', 'encoder': 'Lavf58.76.100'}, 'inputs': [{'streams': [{'input_number': 0, 'stream_number': 0, 'stream_type': 'video', 'language': None, 'default': True, 'size': [480, 360], 'bitrate': 454, 'fps': 30.0, 'codec_name': 'h264', 'profile': '(Main)', 'metadata': {'Metadata': '', 'handler_name': 'ISO Media file produced by Google Inc.', 'vendor_id': '[0][0][0][0]'}}], 'input_number': 0}], 'duration': 1.57, 'bitrate': 464, 'start': 0.0, 'default_video_input_number': 0, 'default_video_stream_number': 0, 'video_codec_name': 'h264', 'video_profile': '(Main)', 'video_size': [480, 360], 'video_bitrate': 454, 'video_fps': 30.0, 'video_duration': 1.57, 'video_n_frames': 47}\n",
            "c:\\Python312\\Lib\\site-packages\\imageio_ffmpeg\\binaries\\ffmpeg-win-x86_64-v7.1.exe -i N:\\CAI\\hackathon\\Olabs_Final\\Sign\\words\\alphabet_clips\\H.mp4 -loglevel error -f image2pipe -vf scale=480:360 -sws_flags bicubic -pix_fmt rgb24 -vcodec rawvideo -\n",
            "{'video_found': True, 'audio_found': False, 'metadata': {'major_brand': 'isom', 'minor_version': '512', 'compatible_brands': 'isomiso2avc1mp41', 'encoder': 'Lavf58.76.100'}, 'inputs': [{'streams': [{'input_number': 0, 'stream_number': 0, 'stream_type': 'video', 'language': None, 'default': True, 'size': [480, 360], 'bitrate': 662, 'fps': 30.0, 'codec_name': 'h264', 'profile': '(Main)', 'metadata': {'Metadata': '', 'handler_name': 'ISO Media file produced by Google Inc.', 'vendor_id': '[0][0][0][0]'}}], 'input_number': 0}], 'duration': 1.63, 'bitrate': 673, 'start': 0.0, 'default_video_input_number': 0, 'default_video_stream_number': 0, 'video_codec_name': 'h264', 'video_profile': '(Main)', 'video_size': [480, 360], 'video_bitrate': 662, 'video_fps': 30.0, 'video_duration': 1.63, 'video_n_frames': 48}\n",
            "c:\\Python312\\Lib\\site-packages\\imageio_ffmpeg\\binaries\\ffmpeg-win-x86_64-v7.1.exe -i N:\\CAI\\hackathon\\Olabs_Final\\Sign\\words\\alphabet_clips\\E.mp4 -loglevel error -f image2pipe -vf scale=480:360 -sws_flags bicubic -pix_fmt rgb24 -vcodec rawvideo -\n",
            "{'video_found': True, 'audio_found': False, 'metadata': {'major_brand': 'isom', 'minor_version': '512', 'compatible_brands': 'isomiso2avc1mp41', 'encoder': 'Lavf58.76.100'}, 'inputs': [{'streams': [{'input_number': 0, 'stream_number': 0, 'stream_type': 'video', 'language': None, 'default': True, 'size': [480, 360], 'bitrate': 860, 'fps': 30.0, 'codec_name': 'h264', 'profile': '(Main)', 'metadata': {'Metadata': '', 'handler_name': 'ISO Media file produced by Google Inc.', 'vendor_id': '[0][0][0][0]'}}], 'input_number': 0}], 'duration': 1.67, 'bitrate': 874, 'start': 0.0, 'default_video_input_number': 0, 'default_video_stream_number': 0, 'video_codec_name': 'h264', 'video_profile': '(Main)', 'video_size': [480, 360], 'video_bitrate': 860, 'video_fps': 30.0, 'video_duration': 1.67, 'video_n_frames': 50}\n",
            "c:\\Python312\\Lib\\site-packages\\imageio_ffmpeg\\binaries\\ffmpeg-win-x86_64-v7.1.exe -i N:\\CAI\\hackathon\\Olabs_Final\\Sign\\words\\alphabet_clips\\I.mp4 -loglevel error -f image2pipe -vf scale=480:360 -sws_flags bicubic -pix_fmt rgb24 -vcodec rawvideo -\n"
          ]
        },
        {
          "name": "stderr",
          "output_type": "stream",
          "text": [
            "[2025-03-01 16:20:31,300] INFO in 2111121185: Missing ISL clip for: friend\n"
          ]
        },
        {
          "name": "stdout",
          "output_type": "stream",
          "text": [
            "{'video_found': True, 'audio_found': False, 'metadata': {'major_brand': 'isom', 'minor_version': '512', 'compatible_brands': 'isomiso2avc1mp41', 'encoder': 'Lavf58.76.100'}, 'inputs': [{'streams': [{'input_number': 0, 'stream_number': 0, 'stream_type': 'video', 'language': None, 'default': True, 'size': [480, 360], 'bitrate': 347, 'fps': 30.0, 'codec_name': 'h264', 'profile': '(Main)', 'metadata': {'Metadata': '', 'handler_name': 'ISO Media file produced by Google Inc.', 'vendor_id': '[0][0][0][0]'}}], 'input_number': 0}], 'duration': 1.63, 'bitrate': 354, 'start': 0.0, 'default_video_input_number': 0, 'default_video_stream_number': 0, 'video_codec_name': 'h264', 'video_profile': '(Main)', 'video_size': [480, 360], 'video_bitrate': 347, 'video_fps': 30.0, 'video_duration': 1.63, 'video_n_frames': 48}\n",
            "c:\\Python312\\Lib\\site-packages\\imageio_ffmpeg\\binaries\\ffmpeg-win-x86_64-v7.1.exe -i N:\\CAI\\hackathon\\Olabs_Final\\Sign\\words\\alphabet_clips\\R.mp4 -loglevel error -f image2pipe -vf scale=480:360 -sws_flags bicubic -pix_fmt rgb24 -vcodec rawvideo -\n",
            "Missing ISL clip for: friend\n",
            "Missing ISL clip for: friend\n",
            "Missing ISL clip for: friend\n",
            "Missing ISL clip for: friend\n",
            "{'video_found': True, 'audio_found': False, 'metadata': {'major_brand': 'isom', 'minor_version': '512', 'compatible_brands': 'isomiso2avc1mp41', 'encoder': 'Lavf58.76.100'}, 'inputs': [{'streams': [{'input_number': 0, 'stream_number': 0, 'stream_type': 'video', 'language': None, 'default': True, 'size': [480, 360], 'bitrate': 468, 'fps': 30.0, 'codec_name': 'h264', 'profile': '(Main)', 'metadata': {'Metadata': '', 'handler_name': 'ISO Media file produced by Google Inc.', 'vendor_id': '[0][0][0][0]'}}], 'input_number': 0}], 'duration': 1.53, 'bitrate': 477, 'start': 0.0, 'default_video_input_number': 0, 'default_video_stream_number': 0, 'video_codec_name': 'h264', 'video_profile': '(Main)', 'video_size': [480, 360], 'video_bitrate': 468, 'video_fps': 30.0, 'video_duration': 1.53, 'video_n_frames': 45}\n",
            "c:\\Python312\\Lib\\site-packages\\imageio_ffmpeg\\binaries\\ffmpeg-win-x86_64-v7.1.exe -i N:\\CAI\\hackathon\\Olabs_Final\\Sign\\words\\alphabet_clips\\F.mp4 -loglevel error -f image2pipe -vf scale=480:360 -sws_flags bicubic -pix_fmt rgb24 -vcodec rawvideo -\n",
            "{'video_found': True, 'audio_found': False, 'metadata': {'major_brand': 'isom', 'minor_version': '512', 'compatible_brands': 'isomiso2avc1mp41', 'encoder': 'Lavf58.76.100'}, 'inputs': [{'streams': [{'input_number': 0, 'stream_number': 0, 'stream_type': 'video', 'language': None, 'default': True, 'size': [480, 360], 'bitrate': 347, 'fps': 30.0, 'codec_name': 'h264', 'profile': '(Main)', 'metadata': {'Metadata': '', 'handler_name': 'ISO Media file produced by Google Inc.', 'vendor_id': '[0][0][0][0]'}}], 'input_number': 0}], 'duration': 1.63, 'bitrate': 354, 'start': 0.0, 'default_video_input_number': 0, 'default_video_stream_number': 0, 'video_codec_name': 'h264', 'video_profile': '(Main)', 'video_size': [480, 360], 'video_bitrate': 347, 'video_fps': 30.0, 'video_duration': 1.63, 'video_n_frames': 48}\n",
            "c:\\Python312\\Lib\\site-packages\\imageio_ffmpeg\\binaries\\ffmpeg-win-x86_64-v7.1.exe -i N:\\CAI\\hackathon\\Olabs_Final\\Sign\\words\\alphabet_clips\\R.mp4 -loglevel error -f image2pipe -vf scale=480:360 -sws_flags bicubic -pix_fmt rgb24 -vcodec rawvideo -\n",
            "{'video_found': True, 'audio_found': False, 'metadata': {'major_brand': 'isom', 'minor_version': '512', 'compatible_brands': 'isomiso2avc1mp41', 'encoder': 'Lavf58.76.100'}, 'inputs': [{'streams': [{'input_number': 0, 'stream_number': 0, 'stream_type': 'video', 'language': None, 'default': True, 'size': [480, 360], 'bitrate': 860, 'fps': 30.0, 'codec_name': 'h264', 'profile': '(Main)', 'metadata': {'Metadata': '', 'handler_name': 'ISO Media file produced by Google Inc.', 'vendor_id': '[0][0][0][0]'}}], 'input_number': 0}], 'duration': 1.67, 'bitrate': 874, 'start': 0.0, 'default_video_input_number': 0, 'default_video_stream_number': 0, 'video_codec_name': 'h264', 'video_profile': '(Main)', 'video_size': [480, 360], 'video_bitrate': 860, 'video_fps': 30.0, 'video_duration': 1.67, 'video_n_frames': 50}\n",
            "c:\\Python312\\Lib\\site-packages\\imageio_ffmpeg\\binaries\\ffmpeg-win-x86_64-v7.1.exe -i N:\\CAI\\hackathon\\Olabs_Final\\Sign\\words\\alphabet_clips\\I.mp4 -loglevel error -f image2pipe -vf scale=480:360 -sws_flags bicubic -pix_fmt rgb24 -vcodec rawvideo -\n",
            "{'video_found': True, 'audio_found': False, 'metadata': {'major_brand': 'isom', 'minor_version': '512', 'compatible_brands': 'isomiso2avc1mp41', 'encoder': 'Lavf58.76.100'}, 'inputs': [{'streams': [{'input_number': 0, 'stream_number': 0, 'stream_type': 'video', 'language': None, 'default': True, 'size': [480, 360], 'bitrate': 662, 'fps': 30.0, 'codec_name': 'h264', 'profile': '(Main)', 'metadata': {'Metadata': '', 'handler_name': 'ISO Media file produced by Google Inc.', 'vendor_id': '[0][0][0][0]'}}], 'input_number': 0}], 'duration': 1.63, 'bitrate': 673, 'start': 0.0, 'default_video_input_number': 0, 'default_video_stream_number': 0, 'video_codec_name': 'h264', 'video_profile': '(Main)', 'video_size': [480, 360], 'video_bitrate': 662, 'video_fps': 30.0, 'video_duration': 1.63, 'video_n_frames': 48}\n",
            "c:\\Python312\\Lib\\site-packages\\imageio_ffmpeg\\binaries\\ffmpeg-win-x86_64-v7.1.exe -i N:\\CAI\\hackathon\\Olabs_Final\\Sign\\words\\alphabet_clips\\E.mp4 -loglevel error -f image2pipe -vf scale=480:360 -sws_flags bicubic -pix_fmt rgb24 -vcodec rawvideo -\n",
            "{'video_found': True, 'audio_found': False, 'metadata': {'major_brand': 'isom', 'minor_version': '512', 'compatible_brands': 'isomiso2avc1mp41', 'encoder': 'Lavf58.76.100'}, 'inputs': [{'streams': [{'input_number': 0, 'stream_number': 0, 'stream_type': 'video', 'language': None, 'default': True, 'size': [480, 360], 'bitrate': 1033, 'fps': 30.0, 'codec_name': 'h264', 'profile': '(Main)', 'metadata': {'Metadata': '', 'handler_name': 'ISO Media file produced by Google Inc.', 'vendor_id': '[0][0][0][0]'}}], 'input_number': 0}], 'duration': 1.27, 'bitrate': 1050, 'start': 0.0, 'default_video_input_number': 0, 'default_video_stream_number': 0, 'video_codec_name': 'h264', 'video_profile': '(Main)', 'video_size': [480, 360], 'video_bitrate': 1033, 'video_fps': 30.0, 'video_duration': 1.27, 'video_n_frames': 38}\n",
            "c:\\Python312\\Lib\\site-packages\\imageio_ffmpeg\\binaries\\ffmpeg-win-x86_64-v7.1.exe -i N:\\CAI\\hackathon\\Olabs_Final\\Sign\\words\\alphabet_clips\\N.mp4 -loglevel error -f image2pipe -vf scale=480:360 -sws_flags bicubic -pix_fmt rgb24 -vcodec rawvideo -\n",
            "{'video_found': True, 'audio_found': False, 'metadata': {'major_brand': 'isom', 'minor_version': '512', 'compatible_brands': 'isomiso2avc1mp41', 'encoder': 'Lavf58.76.100'}, 'inputs': [{'streams': [{'input_number': 0, 'stream_number': 0, 'stream_type': 'video', 'language': None, 'default': True, 'size': [480, 360], 'bitrate': 853, 'fps': 30.0, 'codec_name': 'h264', 'profile': '(Main)', 'metadata': {'Metadata': '', 'handler_name': 'ISO Media file produced by Google Inc.', 'vendor_id': '[0][0][0][0]'}}], 'input_number': 0}], 'duration': 1.83, 'bitrate': 866, 'start': 0.0, 'default_video_input_number': 0, 'default_video_stream_number': 0, 'video_codec_name': 'h264', 'video_profile': '(Main)', 'video_size': [480, 360], 'video_bitrate': 853, 'video_fps': 30.0, 'video_duration': 1.83, 'video_n_frames': 54}\n",
            "c:\\Python312\\Lib\\site-packages\\imageio_ffmpeg\\binaries\\ffmpeg-win-x86_64-v7.1.exe -i N:\\CAI\\hackathon\\Olabs_Final\\Sign\\words\\alphabet_clips\\D.mp4 -loglevel error -f image2pipe -vf scale=480:360 -sws_flags bicubic -pix_fmt rgb24 -vcodec rawvideo -\n"
          ]
        },
        {
          "name": "stderr",
          "output_type": "stream",
          "text": [
            "[2025-03-01 16:20:31,983] INFO in 2111121185: Missing ISL clip for: in\n"
          ]
        },
        {
          "name": "stdout",
          "output_type": "stream",
          "text": [
            "Missing ISL clip for: in\n",
            "Missing ISL clip for: in\n",
            "Missing ISL clip for: in\n",
            "Missing ISL clip for: in\n",
            "{'video_found': True, 'audio_found': False, 'metadata': {'major_brand': 'isom', 'minor_version': '512', 'compatible_brands': 'isomiso2avc1mp41', 'encoder': 'Lavf58.76.100'}, 'inputs': [{'streams': [{'input_number': 0, 'stream_number': 0, 'stream_type': 'video', 'language': None, 'default': True, 'size': [480, 360], 'bitrate': 860, 'fps': 30.0, 'codec_name': 'h264', 'profile': '(Main)', 'metadata': {'Metadata': '', 'handler_name': 'ISO Media file produced by Google Inc.', 'vendor_id': '[0][0][0][0]'}}], 'input_number': 0}], 'duration': 1.67, 'bitrate': 874, 'start': 0.0, 'default_video_input_number': 0, 'default_video_stream_number': 0, 'video_codec_name': 'h264', 'video_profile': '(Main)', 'video_size': [480, 360], 'video_bitrate': 860, 'video_fps': 30.0, 'video_duration': 1.67, 'video_n_frames': 50}\n",
            "c:\\Python312\\Lib\\site-packages\\imageio_ffmpeg\\binaries\\ffmpeg-win-x86_64-v7.1.exe -i N:\\CAI\\hackathon\\Olabs_Final\\Sign\\words\\alphabet_clips\\I.mp4 -loglevel error -f image2pipe -vf scale=480:360 -sws_flags bicubic -pix_fmt rgb24 -vcodec rawvideo -\n",
            "{'video_found': True, 'audio_found': False, 'metadata': {'major_brand': 'isom', 'minor_version': '512', 'compatible_brands': 'isomiso2avc1mp41', 'encoder': 'Lavf58.76.100'}, 'inputs': [{'streams': [{'input_number': 0, 'stream_number': 0, 'stream_type': 'video', 'language': None, 'default': True, 'size': [480, 360], 'bitrate': 1033, 'fps': 30.0, 'codec_name': 'h264', 'profile': '(Main)', 'metadata': {'Metadata': '', 'handler_name': 'ISO Media file produced by Google Inc.', 'vendor_id': '[0][0][0][0]'}}], 'input_number': 0}], 'duration': 1.27, 'bitrate': 1050, 'start': 0.0, 'default_video_input_number': 0, 'default_video_stream_number': 0, 'video_codec_name': 'h264', 'video_profile': '(Main)', 'video_size': [480, 360], 'video_bitrate': 1033, 'video_fps': 30.0, 'video_duration': 1.27, 'video_n_frames': 38}\n",
            "c:\\Python312\\Lib\\site-packages\\imageio_ffmpeg\\binaries\\ffmpeg-win-x86_64-v7.1.exe -i N:\\CAI\\hackathon\\Olabs_Final\\Sign\\words\\alphabet_clips\\N.mp4 -loglevel error -f image2pipe -vf scale=480:360 -sws_flags bicubic -pix_fmt rgb24 -vcodec rawvideo -\n"
          ]
        },
        {
          "name": "stderr",
          "output_type": "stream",
          "text": [
            "[2025-03-01 16:20:32,216] INFO in 2111121185: Missing ISL clip for: classroom\n"
          ]
        },
        {
          "name": "stdout",
          "output_type": "stream",
          "text": [
            "Missing ISL clip for: classroom\n",
            "Missing ISL clip for: classroom\n",
            "Missing ISL clip for: classroom\n",
            "Missing ISL clip for: classroom\n",
            "{'video_found': True, 'audio_found': False, 'metadata': {'major_brand': 'isom', 'minor_version': '512', 'compatible_brands': 'isomiso2avc1mp41', 'encoder': 'Lavf58.76.100'}, 'inputs': [{'streams': [{'input_number': 0, 'stream_number': 0, 'stream_type': 'video', 'language': None, 'default': True, 'size': [480, 360], 'bitrate': 601, 'fps': 30.0, 'codec_name': 'h264', 'profile': '(Main)', 'metadata': {'Metadata': '', 'handler_name': 'ISO Media file produced by Google Inc.', 'vendor_id': '[0][0][0][0]'}}], 'input_number': 0}], 'duration': 1.27, 'bitrate': 612, 'start': 0.0, 'default_video_input_number': 0, 'default_video_stream_number': 0, 'video_codec_name': 'h264', 'video_profile': '(Main)', 'video_size': [480, 360], 'video_bitrate': 601, 'video_fps': 30.0, 'video_duration': 1.27, 'video_n_frames': 38}\n",
            "c:\\Python312\\Lib\\site-packages\\imageio_ffmpeg\\binaries\\ffmpeg-win-x86_64-v7.1.exe -i N:\\CAI\\hackathon\\Olabs_Final\\Sign\\words\\alphabet_clips\\C.mp4 -loglevel error -f image2pipe -vf scale=480:360 -sws_flags bicubic -pix_fmt rgb24 -vcodec rawvideo -\n",
            "{'video_found': True, 'audio_found': False, 'metadata': {'major_brand': 'isom', 'minor_version': '512', 'compatible_brands': 'isomiso2avc1mp41', 'encoder': 'Lavf58.76.100'}, 'inputs': [{'streams': [{'input_number': 0, 'stream_number': 0, 'stream_type': 'video', 'language': None, 'default': True, 'size': [480, 360], 'bitrate': 721, 'fps': 30.0, 'codec_name': 'h264', 'profile': '(Main)', 'metadata': {'Metadata': '', 'handler_name': 'ISO Media file produced by Google Inc.', 'vendor_id': '[0][0][0][0]'}}], 'input_number': 0}], 'duration': 1.57, 'bitrate': 733, 'start': 0.0, 'default_video_input_number': 0, 'default_video_stream_number': 0, 'video_codec_name': 'h264', 'video_profile': '(Main)', 'video_size': [480, 360], 'video_bitrate': 721, 'video_fps': 30.0, 'video_duration': 1.57, 'video_n_frames': 47}\n",
            "c:\\Python312\\Lib\\site-packages\\imageio_ffmpeg\\binaries\\ffmpeg-win-x86_64-v7.1.exe -i N:\\CAI\\hackathon\\Olabs_Final\\Sign\\words\\alphabet_clips\\L.mp4 -loglevel error -f image2pipe -vf scale=480:360 -sws_flags bicubic -pix_fmt rgb24 -vcodec rawvideo -\n",
            "{'video_found': True, 'audio_found': False, 'metadata': {'major_brand': 'isom', 'minor_version': '512', 'compatible_brands': 'isomiso2avc1mp41', 'encoder': 'Lavf58.76.100'}, 'inputs': [{'streams': [{'input_number': 0, 'stream_number': 0, 'stream_type': 'video', 'language': None, 'default': True, 'size': [480, 360], 'bitrate': 268, 'fps': 30.0, 'codec_name': 'h264', 'profile': '(Main)', 'metadata': {'Metadata': '', 'handler_name': 'ISO Media file produced by Google Inc.', 'vendor_id': '[0][0][0][0]'}}], 'input_number': 0}], 'duration': 2.03, 'bitrate': 274, 'start': 0.0, 'default_video_input_number': 0, 'default_video_stream_number': 0, 'video_codec_name': 'h264', 'video_profile': '(Main)', 'video_size': [480, 360], 'video_bitrate': 268, 'video_fps': 30.0, 'video_duration': 2.03, 'video_n_frames': 60}\n",
            "c:\\Python312\\Lib\\site-packages\\imageio_ffmpeg\\binaries\\ffmpeg-win-x86_64-v7.1.exe -i N:\\CAI\\hackathon\\Olabs_Final\\Sign\\words\\alphabet_clips\\A.mp4 -loglevel error -f image2pipe -vf scale=480:360 -sws_flags bicubic -pix_fmt rgb24 -vcodec rawvideo -\n",
            "{'video_found': True, 'audio_found': False, 'metadata': {'major_brand': 'isom', 'minor_version': '512', 'compatible_brands': 'isomiso2avc1mp41', 'encoder': 'Lavf58.76.100'}, 'inputs': [{'streams': [{'input_number': 0, 'stream_number': 0, 'stream_type': 'video', 'language': None, 'default': True, 'size': [480, 360], 'bitrate': 704, 'fps': 30.0, 'codec_name': 'h264', 'profile': '(Main)', 'metadata': {'Metadata': '', 'handler_name': 'ISO Media file produced by Google Inc.', 'vendor_id': '[0][0][0][0]'}}], 'input_number': 0}], 'duration': 1.67, 'bitrate': 716, 'start': 0.0, 'default_video_input_number': 0, 'default_video_stream_number': 0, 'video_codec_name': 'h264', 'video_profile': '(Main)', 'video_size': [480, 360], 'video_bitrate': 704, 'video_fps': 30.0, 'video_duration': 1.67, 'video_n_frames': 50}\n",
            "c:\\Python312\\Lib\\site-packages\\imageio_ffmpeg\\binaries\\ffmpeg-win-x86_64-v7.1.exe -i N:\\CAI\\hackathon\\Olabs_Final\\Sign\\words\\alphabet_clips\\S.mp4 -loglevel error -f image2pipe -vf scale=480:360 -sws_flags bicubic -pix_fmt rgb24 -vcodec rawvideo -\n",
            "{'video_found': True, 'audio_found': False, 'metadata': {'major_brand': 'isom', 'minor_version': '512', 'compatible_brands': 'isomiso2avc1mp41', 'encoder': 'Lavf58.76.100'}, 'inputs': [{'streams': [{'input_number': 0, 'stream_number': 0, 'stream_type': 'video', 'language': None, 'default': True, 'size': [480, 360], 'bitrate': 704, 'fps': 30.0, 'codec_name': 'h264', 'profile': '(Main)', 'metadata': {'Metadata': '', 'handler_name': 'ISO Media file produced by Google Inc.', 'vendor_id': '[0][0][0][0]'}}], 'input_number': 0}], 'duration': 1.67, 'bitrate': 716, 'start': 0.0, 'default_video_input_number': 0, 'default_video_stream_number': 0, 'video_codec_name': 'h264', 'video_profile': '(Main)', 'video_size': [480, 360], 'video_bitrate': 704, 'video_fps': 30.0, 'video_duration': 1.67, 'video_n_frames': 50}\n",
            "c:\\Python312\\Lib\\site-packages\\imageio_ffmpeg\\binaries\\ffmpeg-win-x86_64-v7.1.exe -i N:\\CAI\\hackathon\\Olabs_Final\\Sign\\words\\alphabet_clips\\S.mp4 -loglevel error -f image2pipe -vf scale=480:360 -sws_flags bicubic -pix_fmt rgb24 -vcodec rawvideo -\n",
            "{'video_found': True, 'audio_found': False, 'metadata': {'major_brand': 'isom', 'minor_version': '512', 'compatible_brands': 'isomiso2avc1mp41', 'encoder': 'Lavf58.76.100'}, 'inputs': [{'streams': [{'input_number': 0, 'stream_number': 0, 'stream_type': 'video', 'language': None, 'default': True, 'size': [480, 360], 'bitrate': 347, 'fps': 30.0, 'codec_name': 'h264', 'profile': '(Main)', 'metadata': {'Metadata': '', 'handler_name': 'ISO Media file produced by Google Inc.', 'vendor_id': '[0][0][0][0]'}}], 'input_number': 0}], 'duration': 1.63, 'bitrate': 354, 'start': 0.0, 'default_video_input_number': 0, 'default_video_stream_number': 0, 'video_codec_name': 'h264', 'video_profile': '(Main)', 'video_size': [480, 360], 'video_bitrate': 347, 'video_fps': 30.0, 'video_duration': 1.63, 'video_n_frames': 48}\n",
            "c:\\Python312\\Lib\\site-packages\\imageio_ffmpeg\\binaries\\ffmpeg-win-x86_64-v7.1.exe -i N:\\CAI\\hackathon\\Olabs_Final\\Sign\\words\\alphabet_clips\\R.mp4 -loglevel error -f image2pipe -vf scale=480:360 -sws_flags bicubic -pix_fmt rgb24 -vcodec rawvideo -\n",
            "{'video_found': True, 'audio_found': False, 'metadata': {'major_brand': 'isom', 'minor_version': '512', 'compatible_brands': 'isomiso2avc1mp41', 'encoder': 'Lavf58.76.100'}, 'inputs': [{'streams': [{'input_number': 0, 'stream_number': 0, 'stream_type': 'video', 'language': None, 'default': True, 'size': [480, 360], 'bitrate': 480, 'fps': 30.0, 'codec_name': 'h264', 'profile': '(Main)', 'metadata': {'Metadata': '', 'handler_name': 'ISO Media file produced by Google Inc.', 'vendor_id': '[0][0][0][0]'}}], 'input_number': 0}], 'duration': 1.57, 'bitrate': 490, 'start': 0.0, 'default_video_input_number': 0, 'default_video_stream_number': 0, 'video_codec_name': 'h264', 'video_profile': '(Main)', 'video_size': [480, 360], 'video_bitrate': 480, 'video_fps': 30.0, 'video_duration': 1.57, 'video_n_frames': 47}\n",
            "c:\\Python312\\Lib\\site-packages\\imageio_ffmpeg\\binaries\\ffmpeg-win-x86_64-v7.1.exe -i N:\\CAI\\hackathon\\Olabs_Final\\Sign\\words\\alphabet_clips\\O.mp4 -loglevel error -f image2pipe -vf scale=480:360 -sws_flags bicubic -pix_fmt rgb24 -vcodec rawvideo -\n",
            "{'video_found': True, 'audio_found': False, 'metadata': {'major_brand': 'isom', 'minor_version': '512', 'compatible_brands': 'isomiso2avc1mp41', 'encoder': 'Lavf58.76.100'}, 'inputs': [{'streams': [{'input_number': 0, 'stream_number': 0, 'stream_type': 'video', 'language': None, 'default': True, 'size': [480, 360], 'bitrate': 480, 'fps': 30.0, 'codec_name': 'h264', 'profile': '(Main)', 'metadata': {'Metadata': '', 'handler_name': 'ISO Media file produced by Google Inc.', 'vendor_id': '[0][0][0][0]'}}], 'input_number': 0}], 'duration': 1.57, 'bitrate': 490, 'start': 0.0, 'default_video_input_number': 0, 'default_video_stream_number': 0, 'video_codec_name': 'h264', 'video_profile': '(Main)', 'video_size': [480, 360], 'video_bitrate': 480, 'video_fps': 30.0, 'video_duration': 1.57, 'video_n_frames': 47}\n",
            "c:\\Python312\\Lib\\site-packages\\imageio_ffmpeg\\binaries\\ffmpeg-win-x86_64-v7.1.exe -i N:\\CAI\\hackathon\\Olabs_Final\\Sign\\words\\alphabet_clips\\O.mp4 -loglevel error -f image2pipe -vf scale=480:360 -sws_flags bicubic -pix_fmt rgb24 -vcodec rawvideo -\n"
          ]
        },
        {
          "name": "stderr",
          "output_type": "stream",
          "text": [
            "[2025-03-01 16:20:33,202] INFO in 2111121185: Missing ISL clip for: and\n"
          ]
        },
        {
          "name": "stdout",
          "output_type": "stream",
          "text": [
            "{'video_found': True, 'audio_found': False, 'metadata': {'major_brand': 'isom', 'minor_version': '512', 'compatible_brands': 'isomiso2avc1mp41', 'encoder': 'Lavf58.76.100'}, 'inputs': [{'streams': [{'input_number': 0, 'stream_number': 0, 'stream_type': 'video', 'language': None, 'default': True, 'size': [480, 360], 'bitrate': 454, 'fps': 30.0, 'codec_name': 'h264', 'profile': '(Main)', 'metadata': {'Metadata': '', 'handler_name': 'ISO Media file produced by Google Inc.', 'vendor_id': '[0][0][0][0]'}}], 'input_number': 0}], 'duration': 1.67, 'bitrate': 463, 'start': 0.0, 'default_video_input_number': 0, 'default_video_stream_number': 0, 'video_codec_name': 'h264', 'video_profile': '(Main)', 'video_size': [480, 360], 'video_bitrate': 454, 'video_fps': 30.0, 'video_duration': 1.67, 'video_n_frames': 50}\n",
            "c:\\Python312\\Lib\\site-packages\\imageio_ffmpeg\\binaries\\ffmpeg-win-x86_64-v7.1.exe -i N:\\CAI\\hackathon\\Olabs_Final\\Sign\\words\\alphabet_clips\\M.mp4 -loglevel error -f image2pipe -vf scale=480:360 -sws_flags bicubic -pix_fmt rgb24 -vcodec rawvideo -\n",
            "Missing ISL clip for: and\n",
            "Missing ISL clip for: and\n",
            "Missing ISL clip for: and\n",
            "Missing ISL clip for: and\n",
            "{'video_found': True, 'audio_found': False, 'metadata': {'major_brand': 'isom', 'minor_version': '512', 'compatible_brands': 'isomiso2avc1mp41', 'encoder': 'Lavf58.76.100'}, 'inputs': [{'streams': [{'input_number': 0, 'stream_number': 0, 'stream_type': 'video', 'language': None, 'default': True, 'size': [480, 360], 'bitrate': 268, 'fps': 30.0, 'codec_name': 'h264', 'profile': '(Main)', 'metadata': {'Metadata': '', 'handler_name': 'ISO Media file produced by Google Inc.', 'vendor_id': '[0][0][0][0]'}}], 'input_number': 0}], 'duration': 2.03, 'bitrate': 274, 'start': 0.0, 'default_video_input_number': 0, 'default_video_stream_number': 0, 'video_codec_name': 'h264', 'video_profile': '(Main)', 'video_size': [480, 360], 'video_bitrate': 268, 'video_fps': 30.0, 'video_duration': 2.03, 'video_n_frames': 60}\n",
            "c:\\Python312\\Lib\\site-packages\\imageio_ffmpeg\\binaries\\ffmpeg-win-x86_64-v7.1.exe -i N:\\CAI\\hackathon\\Olabs_Final\\Sign\\words\\alphabet_clips\\A.mp4 -loglevel error -f image2pipe -vf scale=480:360 -sws_flags bicubic -pix_fmt rgb24 -vcodec rawvideo -\n",
            "{'video_found': True, 'audio_found': False, 'metadata': {'major_brand': 'isom', 'minor_version': '512', 'compatible_brands': 'isomiso2avc1mp41', 'encoder': 'Lavf58.76.100'}, 'inputs': [{'streams': [{'input_number': 0, 'stream_number': 0, 'stream_type': 'video', 'language': None, 'default': True, 'size': [480, 360], 'bitrate': 1033, 'fps': 30.0, 'codec_name': 'h264', 'profile': '(Main)', 'metadata': {'Metadata': '', 'handler_name': 'ISO Media file produced by Google Inc.', 'vendor_id': '[0][0][0][0]'}}], 'input_number': 0}], 'duration': 1.27, 'bitrate': 1050, 'start': 0.0, 'default_video_input_number': 0, 'default_video_stream_number': 0, 'video_codec_name': 'h264', 'video_profile': '(Main)', 'video_size': [480, 360], 'video_bitrate': 1033, 'video_fps': 30.0, 'video_duration': 1.27, 'video_n_frames': 38}\n",
            "c:\\Python312\\Lib\\site-packages\\imageio_ffmpeg\\binaries\\ffmpeg-win-x86_64-v7.1.exe -i N:\\CAI\\hackathon\\Olabs_Final\\Sign\\words\\alphabet_clips\\N.mp4 -loglevel error -f image2pipe -vf scale=480:360 -sws_flags bicubic -pix_fmt rgb24 -vcodec rawvideo -\n",
            "{'video_found': True, 'audio_found': False, 'metadata': {'major_brand': 'isom', 'minor_version': '512', 'compatible_brands': 'isomiso2avc1mp41', 'encoder': 'Lavf58.76.100'}, 'inputs': [{'streams': [{'input_number': 0, 'stream_number': 0, 'stream_type': 'video', 'language': None, 'default': True, 'size': [480, 360], 'bitrate': 853, 'fps': 30.0, 'codec_name': 'h264', 'profile': '(Main)', 'metadata': {'Metadata': '', 'handler_name': 'ISO Media file produced by Google Inc.', 'vendor_id': '[0][0][0][0]'}}], 'input_number': 0}], 'duration': 1.83, 'bitrate': 866, 'start': 0.0, 'default_video_input_number': 0, 'default_video_stream_number': 0, 'video_codec_name': 'h264', 'video_profile': '(Main)', 'video_size': [480, 360], 'video_bitrate': 853, 'video_fps': 30.0, 'video_duration': 1.83, 'video_n_frames': 54}\n",
            "c:\\Python312\\Lib\\site-packages\\imageio_ffmpeg\\binaries\\ffmpeg-win-x86_64-v7.1.exe -i N:\\CAI\\hackathon\\Olabs_Final\\Sign\\words\\alphabet_clips\\D.mp4 -loglevel error -f image2pipe -vf scale=480:360 -sws_flags bicubic -pix_fmt rgb24 -vcodec rawvideo -\n",
            "{'video_found': True, 'audio_found': False, 'metadata': {'major_brand': 'dash', 'minor_version': '0', 'compatible_brands': 'iso6avc1mp41', 'creation_time': '2023-02-05T21:14:03.000000Z'}, 'inputs': [{'streams': [{'input_number': 0, 'stream_number': 0, 'stream_type': 'video', 'language': None, 'default': True, 'size': [480, 360], 'bitrate': 188, 'fps': 30.0, 'codec_name': 'h264', 'profile': '(Main)', 'metadata': {'Metadata': '', 'creation_time': '2023-02-05T21:14:03.000000Z', 'handler_name': 'ISO Media file produced by Google Inc.', 'vendor_id': '[0][0][0][0]'}}], 'input_number': 0}], 'duration': 7.3, 'bitrate': 195, 'start': 0.0, 'default_video_input_number': 0, 'default_video_stream_number': 0, 'video_codec_name': 'h264', 'video_profile': '(Main)', 'video_size': [480, 360], 'video_bitrate': 188, 'video_fps': 30.0, 'video_duration': 7.3, 'video_n_frames': 219}\n",
            "c:\\Python312\\Lib\\site-packages\\imageio_ffmpeg\\binaries\\ffmpeg-win-x86_64-v7.1.exe -i N:\\CAI\\hackathon\\Olabs_Final\\Sign\\words\\watch.mp4 -loglevel error -f image2pipe -vf scale=480:360 -sws_flags bicubic -pix_fmt rgb24 -vcodec rawvideo -\n"
          ]
        },
        {
          "name": "stderr",
          "output_type": "stream",
          "text": [
            "[2025-03-01 16:20:33,767] INFO in 2111121185: Missing ISL clip for: at\n"
          ]
        },
        {
          "name": "stdout",
          "output_type": "stream",
          "text": [
            "{'video_found': True, 'audio_found': False, 'metadata': {'major_brand': 'dash', 'minor_version': '0', 'compatible_brands': 'iso6avc1mp41', 'creation_time': '2024-01-09T00:31:34.000000Z'}, 'inputs': [{'streams': [{'input_number': 0, 'stream_number': 0, 'stream_type': 'video', 'language': None, 'default': True, 'size': [480, 360], 'bitrate': 160, 'fps': 30.0, 'codec_name': 'h264', 'profile': '(Main)', 'metadata': {'Metadata': '', 'creation_time': '2024-01-09T00:31:34.000000Z', 'handler_name': 'ISO Media file produced by Google Inc.', 'vendor_id': '[0][0][0][0]'}}], 'input_number': 0}], 'duration': 6.13, 'bitrate': 164, 'start': 0.0, 'default_video_input_number': 0, 'default_video_stream_number': 0, 'video_codec_name': 'h264', 'video_profile': '(Main)', 'video_size': [480, 360], 'video_bitrate': 160, 'video_fps': 30.0, 'video_duration': 6.13, 'video_n_frames': 183}\n",
            "c:\\Python312\\Lib\\site-packages\\imageio_ffmpeg\\binaries\\ffmpeg-win-x86_64-v7.1.exe -i N:\\CAI\\hackathon\\Olabs_Final\\Sign\\words\\television.mp4 -loglevel error -f image2pipe -vf scale=480:360 -sws_flags bicubic -pix_fmt rgb24 -vcodec rawvideo -\n",
            "Missing ISL clip for: at\n",
            "Missing ISL clip for: at\n",
            "Missing ISL clip for: at\n",
            "Missing ISL clip for: at\n",
            "{'video_found': True, 'audio_found': False, 'metadata': {'major_brand': 'isom', 'minor_version': '512', 'compatible_brands': 'isomiso2avc1mp41', 'encoder': 'Lavf58.76.100'}, 'inputs': [{'streams': [{'input_number': 0, 'stream_number': 0, 'stream_type': 'video', 'language': None, 'default': True, 'size': [480, 360], 'bitrate': 268, 'fps': 30.0, 'codec_name': 'h264', 'profile': '(Main)', 'metadata': {'Metadata': '', 'handler_name': 'ISO Media file produced by Google Inc.', 'vendor_id': '[0][0][0][0]'}}], 'input_number': 0}], 'duration': 2.03, 'bitrate': 274, 'start': 0.0, 'default_video_input_number': 0, 'default_video_stream_number': 0, 'video_codec_name': 'h264', 'video_profile': '(Main)', 'video_size': [480, 360], 'video_bitrate': 268, 'video_fps': 30.0, 'video_duration': 2.03, 'video_n_frames': 60}\n",
            "c:\\Python312\\Lib\\site-packages\\imageio_ffmpeg\\binaries\\ffmpeg-win-x86_64-v7.1.exe -i N:\\CAI\\hackathon\\Olabs_Final\\Sign\\words\\alphabet_clips\\A.mp4 -loglevel error -f image2pipe -vf scale=480:360 -sws_flags bicubic -pix_fmt rgb24 -vcodec rawvideo -\n",
            "{'video_found': True, 'audio_found': False, 'metadata': {'major_brand': 'isom', 'minor_version': '512', 'compatible_brands': 'isomiso2avc1mp41', 'encoder': 'Lavf58.76.100'}, 'inputs': [{'streams': [{'input_number': 0, 'stream_number': 0, 'stream_type': 'video', 'language': None, 'default': True, 'size': [480, 360], 'bitrate': 419, 'fps': 30.0, 'codec_name': 'h264', 'profile': '(Main)', 'metadata': {'Metadata': '', 'handler_name': 'ISO Media file produced by Google Inc.', 'vendor_id': '[0][0][0][0]'}}], 'input_number': 0}], 'duration': 1.67, 'bitrate': 427, 'start': 0.0, 'default_video_input_number': 0, 'default_video_stream_number': 0, 'video_codec_name': 'h264', 'video_profile': '(Main)', 'video_size': [480, 360], 'video_bitrate': 419, 'video_fps': 30.0, 'video_duration': 1.67, 'video_n_frames': 50}\n",
            "c:\\Python312\\Lib\\site-packages\\imageio_ffmpeg\\binaries\\ffmpeg-win-x86_64-v7.1.exe -i N:\\CAI\\hackathon\\Olabs_Final\\Sign\\words\\alphabet_clips\\T.mp4 -loglevel error -f image2pipe -vf scale=480:360 -sws_flags bicubic -pix_fmt rgb24 -vcodec rawvideo -\n"
          ]
        },
        {
          "name": "stderr",
          "output_type": "stream",
          "text": [
            "[2025-03-01 16:20:34,113] INFO in 2111121185: Missing ISL clip for: after\n"
          ]
        },
        {
          "name": "stdout",
          "output_type": "stream",
          "text": [
            "{'video_found': True, 'audio_found': False, 'metadata': {'major_brand': 'dash', 'minor_version': '0', 'compatible_brands': 'iso6avc1mp41', 'creation_time': '2023-01-23T21:05:36.000000Z'}, 'inputs': [{'streams': [{'input_number': 0, 'stream_number': 0, 'stream_type': 'video', 'language': None, 'default': True, 'size': [480, 360], 'bitrate': 210, 'fps': 30.0, 'codec_name': 'h264', 'profile': '(Main)', 'metadata': {'Metadata': '', 'creation_time': '2023-01-23T21:05:36.000000Z', 'handler_name': 'ISO Media file produced by Google Inc.', 'vendor_id': '[0][0][0][0]'}}], 'input_number': 0}], 'duration': 7.6, 'bitrate': 213, 'start': 0.0, 'default_video_input_number': 0, 'default_video_stream_number': 0, 'video_codec_name': 'h264', 'video_profile': '(Main)', 'video_size': [480, 360], 'video_bitrate': 210, 'video_fps': 30.0, 'video_duration': 7.6, 'video_n_frames': 228}\n",
            "c:\\Python312\\Lib\\site-packages\\imageio_ffmpeg\\binaries\\ffmpeg-win-x86_64-v7.1.exe -i N:\\CAI\\hackathon\\Olabs_Final\\Sign\\words\\home.mp4 -loglevel error -f image2pipe -vf scale=480:360 -sws_flags bicubic -pix_fmt rgb24 -vcodec rawvideo -\n",
            "Missing ISL clip for: after\n",
            "Missing ISL clip for: after\n",
            "Missing ISL clip for: after\n",
            "Missing ISL clip for: after\n",
            "{'video_found': True, 'audio_found': False, 'metadata': {'major_brand': 'isom', 'minor_version': '512', 'compatible_brands': 'isomiso2avc1mp41', 'encoder': 'Lavf58.76.100'}, 'inputs': [{'streams': [{'input_number': 0, 'stream_number': 0, 'stream_type': 'video', 'language': None, 'default': True, 'size': [480, 360], 'bitrate': 268, 'fps': 30.0, 'codec_name': 'h264', 'profile': '(Main)', 'metadata': {'Metadata': '', 'handler_name': 'ISO Media file produced by Google Inc.', 'vendor_id': '[0][0][0][0]'}}], 'input_number': 0}], 'duration': 2.03, 'bitrate': 274, 'start': 0.0, 'default_video_input_number': 0, 'default_video_stream_number': 0, 'video_codec_name': 'h264', 'video_profile': '(Main)', 'video_size': [480, 360], 'video_bitrate': 268, 'video_fps': 30.0, 'video_duration': 2.03, 'video_n_frames': 60}\n",
            "c:\\Python312\\Lib\\site-packages\\imageio_ffmpeg\\binaries\\ffmpeg-win-x86_64-v7.1.exe -i N:\\CAI\\hackathon\\Olabs_Final\\Sign\\words\\alphabet_clips\\A.mp4 -loglevel error -f image2pipe -vf scale=480:360 -sws_flags bicubic -pix_fmt rgb24 -vcodec rawvideo -\n",
            "{'video_found': True, 'audio_found': False, 'metadata': {'major_brand': 'isom', 'minor_version': '512', 'compatible_brands': 'isomiso2avc1mp41', 'encoder': 'Lavf58.76.100'}, 'inputs': [{'streams': [{'input_number': 0, 'stream_number': 0, 'stream_type': 'video', 'language': None, 'default': True, 'size': [480, 360], 'bitrate': 468, 'fps': 30.0, 'codec_name': 'h264', 'profile': '(Main)', 'metadata': {'Metadata': '', 'handler_name': 'ISO Media file produced by Google Inc.', 'vendor_id': '[0][0][0][0]'}}], 'input_number': 0}], 'duration': 1.53, 'bitrate': 477, 'start': 0.0, 'default_video_input_number': 0, 'default_video_stream_number': 0, 'video_codec_name': 'h264', 'video_profile': '(Main)', 'video_size': [480, 360], 'video_bitrate': 468, 'video_fps': 30.0, 'video_duration': 1.53, 'video_n_frames': 45}\n",
            "c:\\Python312\\Lib\\site-packages\\imageio_ffmpeg\\binaries\\ffmpeg-win-x86_64-v7.1.exe -i N:\\CAI\\hackathon\\Olabs_Final\\Sign\\words\\alphabet_clips\\F.mp4 -loglevel error -f image2pipe -vf scale=480:360 -sws_flags bicubic -pix_fmt rgb24 -vcodec rawvideo -\n",
            "{'video_found': True, 'audio_found': False, 'metadata': {'major_brand': 'isom', 'minor_version': '512', 'compatible_brands': 'isomiso2avc1mp41', 'encoder': 'Lavf58.76.100'}, 'inputs': [{'streams': [{'input_number': 0, 'stream_number': 0, 'stream_type': 'video', 'language': None, 'default': True, 'size': [480, 360], 'bitrate': 419, 'fps': 30.0, 'codec_name': 'h264', 'profile': '(Main)', 'metadata': {'Metadata': '', 'handler_name': 'ISO Media file produced by Google Inc.', 'vendor_id': '[0][0][0][0]'}}], 'input_number': 0}], 'duration': 1.67, 'bitrate': 427, 'start': 0.0, 'default_video_input_number': 0, 'default_video_stream_number': 0, 'video_codec_name': 'h264', 'video_profile': '(Main)', 'video_size': [480, 360], 'video_bitrate': 419, 'video_fps': 30.0, 'video_duration': 1.67, 'video_n_frames': 50}\n",
            "c:\\Python312\\Lib\\site-packages\\imageio_ffmpeg\\binaries\\ffmpeg-win-x86_64-v7.1.exe -i N:\\CAI\\hackathon\\Olabs_Final\\Sign\\words\\alphabet_clips\\T.mp4 -loglevel error -f image2pipe -vf scale=480:360 -sws_flags bicubic -pix_fmt rgb24 -vcodec rawvideo -\n",
            "{'video_found': True, 'audio_found': False, 'metadata': {'major_brand': 'isom', 'minor_version': '512', 'compatible_brands': 'isomiso2avc1mp41', 'encoder': 'Lavf58.76.100'}, 'inputs': [{'streams': [{'input_number': 0, 'stream_number': 0, 'stream_type': 'video', 'language': None, 'default': True, 'size': [480, 360], 'bitrate': 662, 'fps': 30.0, 'codec_name': 'h264', 'profile': '(Main)', 'metadata': {'Metadata': '', 'handler_name': 'ISO Media file produced by Google Inc.', 'vendor_id': '[0][0][0][0]'}}], 'input_number': 0}], 'duration': 1.63, 'bitrate': 673, 'start': 0.0, 'default_video_input_number': 0, 'default_video_stream_number': 0, 'video_codec_name': 'h264', 'video_profile': '(Main)', 'video_size': [480, 360], 'video_bitrate': 662, 'video_fps': 30.0, 'video_duration': 1.63, 'video_n_frames': 48}\n",
            "c:\\Python312\\Lib\\site-packages\\imageio_ffmpeg\\binaries\\ffmpeg-win-x86_64-v7.1.exe -i N:\\CAI\\hackathon\\Olabs_Final\\Sign\\words\\alphabet_clips\\E.mp4 -loglevel error -f image2pipe -vf scale=480:360 -sws_flags bicubic -pix_fmt rgb24 -vcodec rawvideo -\n"
          ]
        },
        {
          "name": "stderr",
          "output_type": "stream",
          "text": [
            "[2025-03-01 16:20:34,671] INFO in 2111121185: Missing ISL clip for: finish\n"
          ]
        },
        {
          "name": "stdout",
          "output_type": "stream",
          "text": [
            "{'video_found': True, 'audio_found': False, 'metadata': {'major_brand': 'isom', 'minor_version': '512', 'compatible_brands': 'isomiso2avc1mp41', 'encoder': 'Lavf58.76.100'}, 'inputs': [{'streams': [{'input_number': 0, 'stream_number': 0, 'stream_type': 'video', 'language': None, 'default': True, 'size': [480, 360], 'bitrate': 347, 'fps': 30.0, 'codec_name': 'h264', 'profile': '(Main)', 'metadata': {'Metadata': '', 'handler_name': 'ISO Media file produced by Google Inc.', 'vendor_id': '[0][0][0][0]'}}], 'input_number': 0}], 'duration': 1.63, 'bitrate': 354, 'start': 0.0, 'default_video_input_number': 0, 'default_video_stream_number': 0, 'video_codec_name': 'h264', 'video_profile': '(Main)', 'video_size': [480, 360], 'video_bitrate': 347, 'video_fps': 30.0, 'video_duration': 1.63, 'video_n_frames': 48}\n",
            "c:\\Python312\\Lib\\site-packages\\imageio_ffmpeg\\binaries\\ffmpeg-win-x86_64-v7.1.exe -i N:\\CAI\\hackathon\\Olabs_Final\\Sign\\words\\alphabet_clips\\R.mp4 -loglevel error -f image2pipe -vf scale=480:360 -sws_flags bicubic -pix_fmt rgb24 -vcodec rawvideo -\n",
            "Missing ISL clip for: finish\n",
            "Missing ISL clip for: finish\n",
            "Missing ISL clip for: finish\n",
            "Missing ISL clip for: finish\n",
            "{'video_found': True, 'audio_found': False, 'metadata': {'major_brand': 'isom', 'minor_version': '512', 'compatible_brands': 'isomiso2avc1mp41', 'encoder': 'Lavf58.76.100'}, 'inputs': [{'streams': [{'input_number': 0, 'stream_number': 0, 'stream_type': 'video', 'language': None, 'default': True, 'size': [480, 360], 'bitrate': 468, 'fps': 30.0, 'codec_name': 'h264', 'profile': '(Main)', 'metadata': {'Metadata': '', 'handler_name': 'ISO Media file produced by Google Inc.', 'vendor_id': '[0][0][0][0]'}}], 'input_number': 0}], 'duration': 1.53, 'bitrate': 477, 'start': 0.0, 'default_video_input_number': 0, 'default_video_stream_number': 0, 'video_codec_name': 'h264', 'video_profile': '(Main)', 'video_size': [480, 360], 'video_bitrate': 468, 'video_fps': 30.0, 'video_duration': 1.53, 'video_n_frames': 45}\n",
            "c:\\Python312\\Lib\\site-packages\\imageio_ffmpeg\\binaries\\ffmpeg-win-x86_64-v7.1.exe -i N:\\CAI\\hackathon\\Olabs_Final\\Sign\\words\\alphabet_clips\\F.mp4 -loglevel error -f image2pipe -vf scale=480:360 -sws_flags bicubic -pix_fmt rgb24 -vcodec rawvideo -\n",
            "{'video_found': True, 'audio_found': False, 'metadata': {'major_brand': 'isom', 'minor_version': '512', 'compatible_brands': 'isomiso2avc1mp41', 'encoder': 'Lavf58.76.100'}, 'inputs': [{'streams': [{'input_number': 0, 'stream_number': 0, 'stream_type': 'video', 'language': None, 'default': True, 'size': [480, 360], 'bitrate': 860, 'fps': 30.0, 'codec_name': 'h264', 'profile': '(Main)', 'metadata': {'Metadata': '', 'handler_name': 'ISO Media file produced by Google Inc.', 'vendor_id': '[0][0][0][0]'}}], 'input_number': 0}], 'duration': 1.67, 'bitrate': 874, 'start': 0.0, 'default_video_input_number': 0, 'default_video_stream_number': 0, 'video_codec_name': 'h264', 'video_profile': '(Main)', 'video_size': [480, 360], 'video_bitrate': 860, 'video_fps': 30.0, 'video_duration': 1.67, 'video_n_frames': 50}\n",
            "c:\\Python312\\Lib\\site-packages\\imageio_ffmpeg\\binaries\\ffmpeg-win-x86_64-v7.1.exe -i N:\\CAI\\hackathon\\Olabs_Final\\Sign\\words\\alphabet_clips\\I.mp4 -loglevel error -f image2pipe -vf scale=480:360 -sws_flags bicubic -pix_fmt rgb24 -vcodec rawvideo -\n",
            "{'video_found': True, 'audio_found': False, 'metadata': {'major_brand': 'isom', 'minor_version': '512', 'compatible_brands': 'isomiso2avc1mp41', 'encoder': 'Lavf58.76.100'}, 'inputs': [{'streams': [{'input_number': 0, 'stream_number': 0, 'stream_type': 'video', 'language': None, 'default': True, 'size': [480, 360], 'bitrate': 1033, 'fps': 30.0, 'codec_name': 'h264', 'profile': '(Main)', 'metadata': {'Metadata': '', 'handler_name': 'ISO Media file produced by Google Inc.', 'vendor_id': '[0][0][0][0]'}}], 'input_number': 0}], 'duration': 1.27, 'bitrate': 1050, 'start': 0.0, 'default_video_input_number': 0, 'default_video_stream_number': 0, 'video_codec_name': 'h264', 'video_profile': '(Main)', 'video_size': [480, 360], 'video_bitrate': 1033, 'video_fps': 30.0, 'video_duration': 1.27, 'video_n_frames': 38}\n",
            "c:\\Python312\\Lib\\site-packages\\imageio_ffmpeg\\binaries\\ffmpeg-win-x86_64-v7.1.exe -i N:\\CAI\\hackathon\\Olabs_Final\\Sign\\words\\alphabet_clips\\N.mp4 -loglevel error -f image2pipe -vf scale=480:360 -sws_flags bicubic -pix_fmt rgb24 -vcodec rawvideo -\n",
            "{'video_found': True, 'audio_found': False, 'metadata': {'major_brand': 'isom', 'minor_version': '512', 'compatible_brands': 'isomiso2avc1mp41', 'encoder': 'Lavf58.76.100'}, 'inputs': [{'streams': [{'input_number': 0, 'stream_number': 0, 'stream_type': 'video', 'language': None, 'default': True, 'size': [480, 360], 'bitrate': 860, 'fps': 30.0, 'codec_name': 'h264', 'profile': '(Main)', 'metadata': {'Metadata': '', 'handler_name': 'ISO Media file produced by Google Inc.', 'vendor_id': '[0][0][0][0]'}}], 'input_number': 0}], 'duration': 1.67, 'bitrate': 874, 'start': 0.0, 'default_video_input_number': 0, 'default_video_stream_number': 0, 'video_codec_name': 'h264', 'video_profile': '(Main)', 'video_size': [480, 360], 'video_bitrate': 860, 'video_fps': 30.0, 'video_duration': 1.67, 'video_n_frames': 50}\n",
            "c:\\Python312\\Lib\\site-packages\\imageio_ffmpeg\\binaries\\ffmpeg-win-x86_64-v7.1.exe -i N:\\CAI\\hackathon\\Olabs_Final\\Sign\\words\\alphabet_clips\\I.mp4 -loglevel error -f image2pipe -vf scale=480:360 -sws_flags bicubic -pix_fmt rgb24 -vcodec rawvideo -\n",
            "{'video_found': True, 'audio_found': False, 'metadata': {'major_brand': 'isom', 'minor_version': '512', 'compatible_brands': 'isomiso2avc1mp41', 'encoder': 'Lavf58.76.100'}, 'inputs': [{'streams': [{'input_number': 0, 'stream_number': 0, 'stream_type': 'video', 'language': None, 'default': True, 'size': [480, 360], 'bitrate': 704, 'fps': 30.0, 'codec_name': 'h264', 'profile': '(Main)', 'metadata': {'Metadata': '', 'handler_name': 'ISO Media file produced by Google Inc.', 'vendor_id': '[0][0][0][0]'}}], 'input_number': 0}], 'duration': 1.67, 'bitrate': 716, 'start': 0.0, 'default_video_input_number': 0, 'default_video_stream_number': 0, 'video_codec_name': 'h264', 'video_profile': '(Main)', 'video_size': [480, 360], 'video_bitrate': 704, 'video_fps': 30.0, 'video_duration': 1.67, 'video_n_frames': 50}\n",
            "c:\\Python312\\Lib\\site-packages\\imageio_ffmpeg\\binaries\\ffmpeg-win-x86_64-v7.1.exe -i N:\\CAI\\hackathon\\Olabs_Final\\Sign\\words\\alphabet_clips\\S.mp4 -loglevel error -f image2pipe -vf scale=480:360 -sws_flags bicubic -pix_fmt rgb24 -vcodec rawvideo -\n",
            "{'video_found': True, 'audio_found': False, 'metadata': {'major_brand': 'isom', 'minor_version': '512', 'compatible_brands': 'isomiso2avc1mp41', 'encoder': 'Lavf58.76.100'}, 'inputs': [{'streams': [{'input_number': 0, 'stream_number': 0, 'stream_type': 'video', 'language': None, 'default': True, 'size': [480, 360], 'bitrate': 454, 'fps': 30.0, 'codec_name': 'h264', 'profile': '(Main)', 'metadata': {'Metadata': '', 'handler_name': 'ISO Media file produced by Google Inc.', 'vendor_id': '[0][0][0][0]'}}], 'input_number': 0}], 'duration': 1.57, 'bitrate': 464, 'start': 0.0, 'default_video_input_number': 0, 'default_video_stream_number': 0, 'video_codec_name': 'h264', 'video_profile': '(Main)', 'video_size': [480, 360], 'video_bitrate': 454, 'video_fps': 30.0, 'video_duration': 1.57, 'video_n_frames': 47}\n",
            "c:\\Python312\\Lib\\site-packages\\imageio_ffmpeg\\binaries\\ffmpeg-win-x86_64-v7.1.exe -i N:\\CAI\\hackathon\\Olabs_Final\\Sign\\words\\alphabet_clips\\H.mp4 -loglevel error -f image2pipe -vf scale=480:360 -sws_flags bicubic -pix_fmt rgb24 -vcodec rawvideo -\n"
          ]
        },
        {
          "name": "stderr",
          "output_type": "stream",
          "text": [
            "[2025-03-01 16:20:35,390] INFO in 2111121185: Missing ISL clip for: their\n"
          ]
        },
        {
          "name": "stdout",
          "output_type": "stream",
          "text": [
            "Missing ISL clip for: their\n",
            "Missing ISL clip for: their\n",
            "Missing ISL clip for: their\n",
            "Missing ISL clip for: their\n",
            "{'video_found': True, 'audio_found': False, 'metadata': {'major_brand': 'isom', 'minor_version': '512', 'compatible_brands': 'isomiso2avc1mp41', 'encoder': 'Lavf58.76.100'}, 'inputs': [{'streams': [{'input_number': 0, 'stream_number': 0, 'stream_type': 'video', 'language': None, 'default': True, 'size': [480, 360], 'bitrate': 419, 'fps': 30.0, 'codec_name': 'h264', 'profile': '(Main)', 'metadata': {'Metadata': '', 'handler_name': 'ISO Media file produced by Google Inc.', 'vendor_id': '[0][0][0][0]'}}], 'input_number': 0}], 'duration': 1.67, 'bitrate': 427, 'start': 0.0, 'default_video_input_number': 0, 'default_video_stream_number': 0, 'video_codec_name': 'h264', 'video_profile': '(Main)', 'video_size': [480, 360], 'video_bitrate': 419, 'video_fps': 30.0, 'video_duration': 1.67, 'video_n_frames': 50}\n",
            "c:\\Python312\\Lib\\site-packages\\imageio_ffmpeg\\binaries\\ffmpeg-win-x86_64-v7.1.exe -i N:\\CAI\\hackathon\\Olabs_Final\\Sign\\words\\alphabet_clips\\T.mp4 -loglevel error -f image2pipe -vf scale=480:360 -sws_flags bicubic -pix_fmt rgb24 -vcodec rawvideo -\n",
            "{'video_found': True, 'audio_found': False, 'metadata': {'major_brand': 'isom', 'minor_version': '512', 'compatible_brands': 'isomiso2avc1mp41', 'encoder': 'Lavf58.76.100'}, 'inputs': [{'streams': [{'input_number': 0, 'stream_number': 0, 'stream_type': 'video', 'language': None, 'default': True, 'size': [480, 360], 'bitrate': 454, 'fps': 30.0, 'codec_name': 'h264', 'profile': '(Main)', 'metadata': {'Metadata': '', 'handler_name': 'ISO Media file produced by Google Inc.', 'vendor_id': '[0][0][0][0]'}}], 'input_number': 0}], 'duration': 1.57, 'bitrate': 464, 'start': 0.0, 'default_video_input_number': 0, 'default_video_stream_number': 0, 'video_codec_name': 'h264', 'video_profile': '(Main)', 'video_size': [480, 360], 'video_bitrate': 454, 'video_fps': 30.0, 'video_duration': 1.57, 'video_n_frames': 47}\n",
            "c:\\Python312\\Lib\\site-packages\\imageio_ffmpeg\\binaries\\ffmpeg-win-x86_64-v7.1.exe -i N:\\CAI\\hackathon\\Olabs_Final\\Sign\\words\\alphabet_clips\\H.mp4 -loglevel error -f image2pipe -vf scale=480:360 -sws_flags bicubic -pix_fmt rgb24 -vcodec rawvideo -\n",
            "{'video_found': True, 'audio_found': False, 'metadata': {'major_brand': 'isom', 'minor_version': '512', 'compatible_brands': 'isomiso2avc1mp41', 'encoder': 'Lavf58.76.100'}, 'inputs': [{'streams': [{'input_number': 0, 'stream_number': 0, 'stream_type': 'video', 'language': None, 'default': True, 'size': [480, 360], 'bitrate': 662, 'fps': 30.0, 'codec_name': 'h264', 'profile': '(Main)', 'metadata': {'Metadata': '', 'handler_name': 'ISO Media file produced by Google Inc.', 'vendor_id': '[0][0][0][0]'}}], 'input_number': 0}], 'duration': 1.63, 'bitrate': 673, 'start': 0.0, 'default_video_input_number': 0, 'default_video_stream_number': 0, 'video_codec_name': 'h264', 'video_profile': '(Main)', 'video_size': [480, 360], 'video_bitrate': 662, 'video_fps': 30.0, 'video_duration': 1.63, 'video_n_frames': 48}\n",
            "c:\\Python312\\Lib\\site-packages\\imageio_ffmpeg\\binaries\\ffmpeg-win-x86_64-v7.1.exe -i N:\\CAI\\hackathon\\Olabs_Final\\Sign\\words\\alphabet_clips\\E.mp4 -loglevel error -f image2pipe -vf scale=480:360 -sws_flags bicubic -pix_fmt rgb24 -vcodec rawvideo -\n",
            "{'video_found': True, 'audio_found': False, 'metadata': {'major_brand': 'isom', 'minor_version': '512', 'compatible_brands': 'isomiso2avc1mp41', 'encoder': 'Lavf58.76.100'}, 'inputs': [{'streams': [{'input_number': 0, 'stream_number': 0, 'stream_type': 'video', 'language': None, 'default': True, 'size': [480, 360], 'bitrate': 860, 'fps': 30.0, 'codec_name': 'h264', 'profile': '(Main)', 'metadata': {'Metadata': '', 'handler_name': 'ISO Media file produced by Google Inc.', 'vendor_id': '[0][0][0][0]'}}], 'input_number': 0}], 'duration': 1.67, 'bitrate': 874, 'start': 0.0, 'default_video_input_number': 0, 'default_video_stream_number': 0, 'video_codec_name': 'h264', 'video_profile': '(Main)', 'video_size': [480, 360], 'video_bitrate': 860, 'video_fps': 30.0, 'video_duration': 1.67, 'video_n_frames': 50}\n",
            "c:\\Python312\\Lib\\site-packages\\imageio_ffmpeg\\binaries\\ffmpeg-win-x86_64-v7.1.exe -i N:\\CAI\\hackathon\\Olabs_Final\\Sign\\words\\alphabet_clips\\I.mp4 -loglevel error -f image2pipe -vf scale=480:360 -sws_flags bicubic -pix_fmt rgb24 -vcodec rawvideo -\n",
            "{'video_found': True, 'audio_found': False, 'metadata': {'major_brand': 'isom', 'minor_version': '512', 'compatible_brands': 'isomiso2avc1mp41', 'encoder': 'Lavf58.76.100'}, 'inputs': [{'streams': [{'input_number': 0, 'stream_number': 0, 'stream_type': 'video', 'language': None, 'default': True, 'size': [480, 360], 'bitrate': 347, 'fps': 30.0, 'codec_name': 'h264', 'profile': '(Main)', 'metadata': {'Metadata': '', 'handler_name': 'ISO Media file produced by Google Inc.', 'vendor_id': '[0][0][0][0]'}}], 'input_number': 0}], 'duration': 1.63, 'bitrate': 354, 'start': 0.0, 'default_video_input_number': 0, 'default_video_stream_number': 0, 'video_codec_name': 'h264', 'video_profile': '(Main)', 'video_size': [480, 360], 'video_bitrate': 347, 'video_fps': 30.0, 'video_duration': 1.63, 'video_n_frames': 48}\n",
            "c:\\Python312\\Lib\\site-packages\\imageio_ffmpeg\\binaries\\ffmpeg-win-x86_64-v7.1.exe -i N:\\CAI\\hackathon\\Olabs_Final\\Sign\\words\\alphabet_clips\\R.mp4 -loglevel error -f image2pipe -vf scale=480:360 -sws_flags bicubic -pix_fmt rgb24 -vcodec rawvideo -\n"
          ]
        },
        {
          "name": "stderr",
          "output_type": "stream",
          "text": [
            "[2025-03-01 16:20:35,983] INFO in 2111121185: Missing ISL clip for: homework\n"
          ]
        },
        {
          "name": "stdout",
          "output_type": "stream",
          "text": [
            "Missing ISL clip for: homework\n",
            "Missing ISL clip for: homework\n",
            "Missing ISL clip for: homework\n",
            "Missing ISL clip for: homework\n",
            "{'video_found': True, 'audio_found': False, 'metadata': {'major_brand': 'isom', 'minor_version': '512', 'compatible_brands': 'isomiso2avc1mp41', 'encoder': 'Lavf58.76.100'}, 'inputs': [{'streams': [{'input_number': 0, 'stream_number': 0, 'stream_type': 'video', 'language': None, 'default': True, 'size': [480, 360], 'bitrate': 454, 'fps': 30.0, 'codec_name': 'h264', 'profile': '(Main)', 'metadata': {'Metadata': '', 'handler_name': 'ISO Media file produced by Google Inc.', 'vendor_id': '[0][0][0][0]'}}], 'input_number': 0}], 'duration': 1.57, 'bitrate': 464, 'start': 0.0, 'default_video_input_number': 0, 'default_video_stream_number': 0, 'video_codec_name': 'h264', 'video_profile': '(Main)', 'video_size': [480, 360], 'video_bitrate': 454, 'video_fps': 30.0, 'video_duration': 1.57, 'video_n_frames': 47}\n",
            "c:\\Python312\\Lib\\site-packages\\imageio_ffmpeg\\binaries\\ffmpeg-win-x86_64-v7.1.exe -i N:\\CAI\\hackathon\\Olabs_Final\\Sign\\words\\alphabet_clips\\H.mp4 -loglevel error -f image2pipe -vf scale=480:360 -sws_flags bicubic -pix_fmt rgb24 -vcodec rawvideo -\n",
            "{'video_found': True, 'audio_found': False, 'metadata': {'major_brand': 'isom', 'minor_version': '512', 'compatible_brands': 'isomiso2avc1mp41', 'encoder': 'Lavf58.76.100'}, 'inputs': [{'streams': [{'input_number': 0, 'stream_number': 0, 'stream_type': 'video', 'language': None, 'default': True, 'size': [480, 360], 'bitrate': 480, 'fps': 30.0, 'codec_name': 'h264', 'profile': '(Main)', 'metadata': {'Metadata': '', 'handler_name': 'ISO Media file produced by Google Inc.', 'vendor_id': '[0][0][0][0]'}}], 'input_number': 0}], 'duration': 1.57, 'bitrate': 490, 'start': 0.0, 'default_video_input_number': 0, 'default_video_stream_number': 0, 'video_codec_name': 'h264', 'video_profile': '(Main)', 'video_size': [480, 360], 'video_bitrate': 480, 'video_fps': 30.0, 'video_duration': 1.57, 'video_n_frames': 47}\n",
            "c:\\Python312\\Lib\\site-packages\\imageio_ffmpeg\\binaries\\ffmpeg-win-x86_64-v7.1.exe -i N:\\CAI\\hackathon\\Olabs_Final\\Sign\\words\\alphabet_clips\\O.mp4 -loglevel error -f image2pipe -vf scale=480:360 -sws_flags bicubic -pix_fmt rgb24 -vcodec rawvideo -\n",
            "{'video_found': True, 'audio_found': False, 'metadata': {'major_brand': 'isom', 'minor_version': '512', 'compatible_brands': 'isomiso2avc1mp41', 'encoder': 'Lavf58.76.100'}, 'inputs': [{'streams': [{'input_number': 0, 'stream_number': 0, 'stream_type': 'video', 'language': None, 'default': True, 'size': [480, 360], 'bitrate': 454, 'fps': 30.0, 'codec_name': 'h264', 'profile': '(Main)', 'metadata': {'Metadata': '', 'handler_name': 'ISO Media file produced by Google Inc.', 'vendor_id': '[0][0][0][0]'}}], 'input_number': 0}], 'duration': 1.67, 'bitrate': 463, 'start': 0.0, 'default_video_input_number': 0, 'default_video_stream_number': 0, 'video_codec_name': 'h264', 'video_profile': '(Main)', 'video_size': [480, 360], 'video_bitrate': 454, 'video_fps': 30.0, 'video_duration': 1.67, 'video_n_frames': 50}\n",
            "c:\\Python312\\Lib\\site-packages\\imageio_ffmpeg\\binaries\\ffmpeg-win-x86_64-v7.1.exe -i N:\\CAI\\hackathon\\Olabs_Final\\Sign\\words\\alphabet_clips\\M.mp4 -loglevel error -f image2pipe -vf scale=480:360 -sws_flags bicubic -pix_fmt rgb24 -vcodec rawvideo -\n",
            "{'video_found': True, 'audio_found': False, 'metadata': {'major_brand': 'isom', 'minor_version': '512', 'compatible_brands': 'isomiso2avc1mp41', 'encoder': 'Lavf58.76.100'}, 'inputs': [{'streams': [{'input_number': 0, 'stream_number': 0, 'stream_type': 'video', 'language': None, 'default': True, 'size': [480, 360], 'bitrate': 662, 'fps': 30.0, 'codec_name': 'h264', 'profile': '(Main)', 'metadata': {'Metadata': '', 'handler_name': 'ISO Media file produced by Google Inc.', 'vendor_id': '[0][0][0][0]'}}], 'input_number': 0}], 'duration': 1.63, 'bitrate': 673, 'start': 0.0, 'default_video_input_number': 0, 'default_video_stream_number': 0, 'video_codec_name': 'h264', 'video_profile': '(Main)', 'video_size': [480, 360], 'video_bitrate': 662, 'video_fps': 30.0, 'video_duration': 1.63, 'video_n_frames': 48}\n",
            "c:\\Python312\\Lib\\site-packages\\imageio_ffmpeg\\binaries\\ffmpeg-win-x86_64-v7.1.exe -i N:\\CAI\\hackathon\\Olabs_Final\\Sign\\words\\alphabet_clips\\E.mp4 -loglevel error -f image2pipe -vf scale=480:360 -sws_flags bicubic -pix_fmt rgb24 -vcodec rawvideo -\n",
            "{'video_found': True, 'audio_found': False, 'metadata': {'major_brand': 'isom', 'minor_version': '512', 'compatible_brands': 'isomiso2avc1mp41', 'encoder': 'Lavf58.76.100'}, 'inputs': [{'streams': [{'input_number': 0, 'stream_number': 0, 'stream_type': 'video', 'language': None, 'default': True, 'size': [480, 360], 'bitrate': 318, 'fps': 30.0, 'codec_name': 'h264', 'profile': '(Main)', 'metadata': {'Metadata': '', 'handler_name': 'ISO Media file produced by Google Inc.', 'vendor_id': '[0][0][0][0]'}}], 'input_number': 0}], 'duration': 1.67, 'bitrate': 326, 'start': 0.0, 'default_video_input_number': 0, 'default_video_stream_number': 0, 'video_codec_name': 'h264', 'video_profile': '(Main)', 'video_size': [480, 360], 'video_bitrate': 318, 'video_fps': 30.0, 'video_duration': 1.67, 'video_n_frames': 50}\n",
            "c:\\Python312\\Lib\\site-packages\\imageio_ffmpeg\\binaries\\ffmpeg-win-x86_64-v7.1.exe -i N:\\CAI\\hackathon\\Olabs_Final\\Sign\\words\\alphabet_clips\\W.mp4 -loglevel error -f image2pipe -vf scale=480:360 -sws_flags bicubic -pix_fmt rgb24 -vcodec rawvideo -\n",
            "{'video_found': True, 'audio_found': False, 'metadata': {'major_brand': 'isom', 'minor_version': '512', 'compatible_brands': 'isomiso2avc1mp41', 'encoder': 'Lavf58.76.100'}, 'inputs': [{'streams': [{'input_number': 0, 'stream_number': 0, 'stream_type': 'video', 'language': None, 'default': True, 'size': [480, 360], 'bitrate': 480, 'fps': 30.0, 'codec_name': 'h264', 'profile': '(Main)', 'metadata': {'Metadata': '', 'handler_name': 'ISO Media file produced by Google Inc.', 'vendor_id': '[0][0][0][0]'}}], 'input_number': 0}], 'duration': 1.57, 'bitrate': 490, 'start': 0.0, 'default_video_input_number': 0, 'default_video_stream_number': 0, 'video_codec_name': 'h264', 'video_profile': '(Main)', 'video_size': [480, 360], 'video_bitrate': 480, 'video_fps': 30.0, 'video_duration': 1.57, 'video_n_frames': 47}\n",
            "c:\\Python312\\Lib\\site-packages\\imageio_ffmpeg\\binaries\\ffmpeg-win-x86_64-v7.1.exe -i N:\\CAI\\hackathon\\Olabs_Final\\Sign\\words\\alphabet_clips\\O.mp4 -loglevel error -f image2pipe -vf scale=480:360 -sws_flags bicubic -pix_fmt rgb24 -vcodec rawvideo -\n",
            "{'video_found': True, 'audio_found': False, 'metadata': {'major_brand': 'isom', 'minor_version': '512', 'compatible_brands': 'isomiso2avc1mp41', 'encoder': 'Lavf58.76.100'}, 'inputs': [{'streams': [{'input_number': 0, 'stream_number': 0, 'stream_type': 'video', 'language': None, 'default': True, 'size': [480, 360], 'bitrate': 347, 'fps': 30.0, 'codec_name': 'h264', 'profile': '(Main)', 'metadata': {'Metadata': '', 'handler_name': 'ISO Media file produced by Google Inc.', 'vendor_id': '[0][0][0][0]'}}], 'input_number': 0}], 'duration': 1.63, 'bitrate': 354, 'start': 0.0, 'default_video_input_number': 0, 'default_video_stream_number': 0, 'video_codec_name': 'h264', 'video_profile': '(Main)', 'video_size': [480, 360], 'video_bitrate': 347, 'video_fps': 30.0, 'video_duration': 1.63, 'video_n_frames': 48}\n",
            "c:\\Python312\\Lib\\site-packages\\imageio_ffmpeg\\binaries\\ffmpeg-win-x86_64-v7.1.exe -i N:\\CAI\\hackathon\\Olabs_Final\\Sign\\words\\alphabet_clips\\R.mp4 -loglevel error -f image2pipe -vf scale=480:360 -sws_flags bicubic -pix_fmt rgb24 -vcodec rawvideo -\n"
          ]
        },
        {
          "name": "stderr",
          "output_type": "stream",
          "text": [
            "[2025-03-01 16:20:36,900] INFO in 2111121185: Concatenating 74 clips\n"
          ]
        },
        {
          "name": "stdout",
          "output_type": "stream",
          "text": [
            "{'video_found': True, 'audio_found': False, 'metadata': {'major_brand': 'isom', 'minor_version': '512', 'compatible_brands': 'isomiso2avc1mp41', 'encoder': 'Lavf58.76.100'}, 'inputs': [{'streams': [{'input_number': 0, 'stream_number': 0, 'stream_type': 'video', 'language': None, 'default': True, 'size': [480, 360], 'bitrate': 683, 'fps': 30.0, 'codec_name': 'h264', 'profile': '(Main)', 'metadata': {'Metadata': '', 'handler_name': 'ISO Media file produced by Google Inc.', 'vendor_id': '[0][0][0][0]'}}], 'input_number': 0}], 'duration': 0.6, 'bitrate': 699, 'start': 0.0, 'default_video_input_number': 0, 'default_video_stream_number': 0, 'video_codec_name': 'h264', 'video_profile': '(Main)', 'video_size': [480, 360], 'video_bitrate': 683, 'video_fps': 30.0, 'video_duration': 0.6, 'video_n_frames': 18}\n",
            "c:\\Python312\\Lib\\site-packages\\imageio_ffmpeg\\binaries\\ffmpeg-win-x86_64-v7.1.exe -i N:\\CAI\\hackathon\\Olabs_Final\\Sign\\words\\alphabet_clips\\K.mp4 -loglevel error -f image2pipe -vf scale=480:360 -sws_flags bicubic -pix_fmt rgb24 -vcodec rawvideo -\n",
            "Concatenating 74 clips\n",
            "Concatenating 74 clips\n",
            "Concatenating 74 clips\n",
            "Concatenating 74 clips\n"
          ]
        },
        {
          "name": "stderr",
          "output_type": "stream",
          "text": [
            "[2025-03-01 16:20:36,983] INFO in 2111121185: Writing video to C:\\Users\\MATHAN\\AppData\\Local\\Temp\\isl_videos\\isl_af312953cd7644b8887097cbf7e79259.mp4\n"
          ]
        },
        {
          "name": "stdout",
          "output_type": "stream",
          "text": [
            "Writing video to C:\\Users\\MATHAN\\AppData\\Local\\Temp\\isl_videos\\isl_af312953cd7644b8887097cbf7e79259.mp4\n",
            "Writing video to C:\\Users\\MATHAN\\AppData\\Local\\Temp\\isl_videos\\isl_af312953cd7644b8887097cbf7e79259.mp4\n",
            "Writing video to C:\\Users\\MATHAN\\AppData\\Local\\Temp\\isl_videos\\isl_af312953cd7644b8887097cbf7e79259.mp4\n",
            "Writing video to C:\\Users\\MATHAN\\AppData\\Local\\Temp\\isl_videos\\isl_af312953cd7644b8887097cbf7e79259.mp4\n"
          ]
        }
      ],
      "source": [
        "import os\n",
        "import sys\n",
        "import traceback\n",
        "from pathlib import Path\n",
        "import tempfile\n",
        "import uuid\n",
        "from datetime import datetime\n",
        "import subprocess\n",
        "from flask import Flask, request, jsonify, render_template, send_from_directory, send_file\n",
        "\n",
        "# Check Flask installation\n",
        "try:\n",
        "    from flask import Flask, request, jsonify, render_template, send_from_directory, send_file\n",
        "except ImportError:\n",
        "    print(\"Flask is not installed. Please install it with: pip install flask\")\n",
        "    sys.exit(1)\n",
        "\n",
        "# Check moviepy installation\n",
        "try:\n",
        "    import moviepy\n",
        "    from moviepy import VideoFileClip\n",
        "except ImportError:\n",
        "    print(\"MoviePy is not installed. Please install it with: pip install moviepy\")\n",
        "    sys.exit(1)\n",
        "\n",
        "# Check spacy installation\n",
        "try:\n",
        "    import spacy\n",
        "    try:\n",
        "        nlp = spacy.load(\"en_core_web_sm\")\n",
        "    except OSError:\n",
        "        print(\"spaCy model 'en_core_web_sm' is not installed. Please install it with: python -m spacy download en_core_web_sm\")\n",
        "        sys.exit(1)\n",
        "except ImportError:\n",
        "    print(\"spaCy is not installed. Please install it with: pip install spacy\")\n",
        "    sys.exit(1)\n",
        "\n",
        "# Initialize Flask app\n",
        "app = Flask(__name__, static_folder='static')\n",
        "\n",
        "# Set up logging to console\n",
        "import logging\n",
        "handler = logging.StreamHandler(sys.stdout)\n",
        "handler.setLevel(logging.DEBUG)\n",
        "app.logger.addHandler(handler)\n",
        "app.logger.setLevel(logging.DEBUG)\n",
        "\n",
        "# Update these paths to your video directories - use Path objects for cross-platform compatibility\n",
        "ISL_VIDEOS_PATH = Path(r\"N:\\CAI\\hackathon\\Olabs_Final\\Sign\\words\")\n",
        "ALPHABET_VIDEOS_PATH = Path(r\"N:\\CAI\\hackathon\\Olabs_Final\\Sign\\words\\alphabet_clips\")\n",
        "\n",
        "app.logger.info(f\"ISL_VIDEOS_PATH: {ISL_VIDEOS_PATH}, exists: {ISL_VIDEOS_PATH.exists()}\")\n",
        "app.logger.info(f\"ALPHABET_VIDEOS_PATH: {ALPHABET_VIDEOS_PATH}, exists: {ALPHABET_VIDEOS_PATH.exists()}\")\n",
        "\n",
        "# Create temporary directories for output videos and uploaded files\n",
        "TEMP_DIR = Path(tempfile.gettempdir()) / \"isl_videos\"\n",
        "UPLOAD_DIR = Path(tempfile.gettempdir()) / \"isl_uploads\"\n",
        "TEMP_DIR.mkdir(exist_ok=True)\n",
        "UPLOAD_DIR.mkdir(exist_ok=True)\n",
        "app.logger.info(f\"Temporary directory created at: {TEMP_DIR}\")\n",
        "app.logger.info(f\"Upload directory created at: {UPLOAD_DIR}\")\n",
        "\n",
        "def rule_based_srl(sentence):\n",
        "    \"\"\"\n",
        "    Extract key words for ISL mapping using dependency parsing.\n",
        "    Returns a list of lemmatized, lowercase words.\n",
        "    \"\"\"\n",
        "    try:\n",
        "        doc = nlp(sentence)\n",
        "        words = []\n",
        "        for token in doc:\n",
        "            if token.is_alpha and token.dep_ not in (\"det\", \"aux\", \"punct\"):\n",
        "                words.append(token.lemma_.lower())\n",
        "        if not words:\n",
        "            words = [token.lemma_.lower() for token in doc if token.is_alpha]\n",
        "        return words\n",
        "    except Exception as e:\n",
        "        app.logger.error(f\"Error in rule_based_srl: {e}\")\n",
        "        return [word.lower() for word in sentence.split() if word.isalpha()]\n",
        "\n",
        "def get_isl_clip(word):\n",
        "    \"\"\"Get video clip for a word if it exists.\"\"\"\n",
        "    try:\n",
        "        video_path = ISL_VIDEOS_PATH / f\"{word}.mp4\"\n",
        "        if video_path.exists():\n",
        "            return moviepy.VideoFileClip(str(video_path))\n",
        "        else:\n",
        "            app.logger.info(f\"Missing ISL clip for: {word}\")\n",
        "            return None\n",
        "    except Exception as e:\n",
        "        app.logger.error(f\"Error getting clip for word '{word}': {e}\")\n",
        "        return None\n",
        "\n",
        "def get_alphabet_clip(letter):\n",
        "    \"\"\"Get video clip for an alphabet letter if it exists.\"\"\"\n",
        "    try:\n",
        "        letter = letter.upper()\n",
        "        video_path = ALPHABET_VIDEOS_PATH / f\"{letter}.mp4\"\n",
        "        if video_path.exists():\n",
        "            return moviepy.VideoFileClip(str(video_path))\n",
        "        else:\n",
        "            app.logger.info(f\"Missing alphabet clip for: {letter}\")\n",
        "            return None\n",
        "    except Exception as e:\n",
        "        app.logger.error(f\"Error getting clip for letter '{letter}': {e}\")\n",
        "        return None\n",
        "\n",
        "def spell_word_with_alphabet(word):\n",
        "    \"\"\"Break a word into letters and get clips for each letter.\"\"\"\n",
        "    clips = []\n",
        "    for letter in word.lower():\n",
        "        if letter.isalpha():\n",
        "            clip = get_alphabet_clip(letter)\n",
        "            if clip:\n",
        "                clips.append(clip)\n",
        "    return clips\n",
        "\n",
        "def find_isl_clips(words):\n",
        "    \"\"\"Find video clips for words or spell them with alphabet clips.\"\"\"\n",
        "    all_clips = []\n",
        "    word_status = []\n",
        "    \n",
        "    for word in words:\n",
        "        clip = get_isl_clip(word)\n",
        "        if clip:\n",
        "            all_clips.append(clip)\n",
        "            word_status.append({\"word\": word, \"found\": True, \"spelled\": False})\n",
        "        else:\n",
        "            # If word not found, spell it using alphabet signs\n",
        "            alphabet_clips = spell_word_with_alphabet(word)\n",
        "            if alphabet_clips:\n",
        "                all_clips.extend(alphabet_clips)\n",
        "                word_status.append({\"word\": word, \"found\": False, \"spelled\": True})\n",
        "            else:\n",
        "                word_status.append({\"word\": word, \"found\": False, \"spelled\": False})\n",
        "    \n",
        "    return all_clips, word_status\n",
        "\n",
        "def create_isl_video(sentence):\n",
        "    \"\"\"Convert sentence to ISL video.\"\"\"\n",
        "    try:\n",
        "        isl_words = rule_based_srl(sentence)\n",
        "        app.logger.info(f\"Extracted words: {isl_words}\")\n",
        "        \n",
        "        clips, word_status = find_isl_clips(isl_words)\n",
        "        \n",
        "        if not clips:\n",
        "            app.logger.warning(\"No clips found for any words\")\n",
        "            return None, word_status\n",
        "        \n",
        "        # Create output video\n",
        "        output_filename = f\"isl_{uuid.uuid4().hex}.mp4\"\n",
        "        output_path = str(TEMP_DIR / output_filename)\n",
        "        \n",
        "        try:\n",
        "            app.logger.info(f\"Concatenating {len(clips)} clips\")\n",
        "            final_video = moviepy.concatenate_videoclips(clips, method=\"compose\")\n",
        "            app.logger.info(f\"Writing video to {output_path}\")\n",
        "            final_video.write_videofile(output_path, codec=\"libx264\", fps=24, logger=None)\n",
        "            app.logger.info(\"Video created successfully\")\n",
        "            return output_path, word_status\n",
        "        except Exception as e:\n",
        "            app.logger.error(f\"Error creating video: {str(e)}\")\n",
        "            app.logger.error(traceback.format_exc())\n",
        "            return None, word_status\n",
        "        finally:\n",
        "            # Release resources\n",
        "            for clip in clips:\n",
        "                try:\n",
        "                    clip.close()\n",
        "                except:\n",
        "                    pass\n",
        "    except Exception as e:\n",
        "        app.logger.error(f\"Error in create_isl_video: {str(e)}\")\n",
        "        app.logger.error(traceback.format_exc())\n",
        "        return None, []\n",
        "\n",
        "def extract_audio(video_path):\n",
        "    \"\"\"Extract audio from a video file using moviepy.\"\"\"\n",
        "    try:\n",
        "        app.logger.info(f\"Extracting audio from video: {video_path}\")\n",
        "        output_filename = f\"audio_{uuid.uuid4().hex}.wav\"\n",
        "        output_path = str(TEMP_DIR / output_filename)\n",
        "        \n",
        "        # Use moviepy to extract audio\n",
        "        video = VideoFileClip(video_path)\n",
        "        audio = video.audio\n",
        "        if audio is None:\n",
        "            app.logger.warning(\"No audio track found in video\")\n",
        "            return None\n",
        "            \n",
        "        audio.write_audiofile(output_path, codec='pcm_s16le', fps=44100, nbytes=2, logger=None)\n",
        "        video.close()\n",
        "        \n",
        "        app.logger.info(f\"Audio extracted to: {output_path}\")\n",
        "        return output_path\n",
        "    except Exception as e:\n",
        "        app.logger.error(f\"Error extracting audio: {str(e)}\")\n",
        "        app.logger.error(traceback.format_exc())\n",
        "        return None\n",
        "\n",
        "@app.route('/')\n",
        "def index():\n",
        "    \"\"\"Render the main HTML page\"\"\"\n",
        "    return render_template(\"index.html\")\n",
        "\n",
        "@app.route('/convert', methods=['POST'])\n",
        "def convert_text():\n",
        "    \"\"\"API endpoint to convert text to sign language video\"\"\"\n",
        "    try:\n",
        "        app.logger.info(\"Received conversion request\")\n",
        "        data = request.get_json()\n",
        "        \n",
        "        if not data or 'text' not in data:\n",
        "            return jsonify({'error': 'No text provided'}), 400\n",
        "        \n",
        "        text = data['text'].strip()\n",
        "        if not text:\n",
        "            return jsonify({'error': 'Empty text provided'}), 400\n",
        "        \n",
        "        app.logger.info(f\"Converting text: '{text}'\")\n",
        "        video_path, word_status = create_isl_video(text)\n",
        "        \n",
        "        if not video_path:\n",
        "            return jsonify({\n",
        "                'error': 'Could not create sign language video',\n",
        "                'word_status': word_status\n",
        "            }), 500\n",
        "        \n",
        "        # Generate URL for the video\n",
        "        video_url = f\"/video/{os.path.basename(video_path)}\"\n",
        "        \n",
        "        return jsonify({\n",
        "            'success': True,\n",
        "            'video_url': video_url,\n",
        "            'word_status': word_status\n",
        "        })\n",
        "    except Exception as e:\n",
        "        app.logger.error(f\"Error in convert_text: {str(e)}\")\n",
        "        app.logger.error(traceback.format_exc())\n",
        "        return jsonify({'error': f\"Server error: {str(e)}\"}), 500\n",
        "\n",
        "@app.route('/upload-video', methods=['POST'])\n",
        "def upload_video():\n",
        "    \"\"\"Handle video upload and extract audio\"\"\"\n",
        "    try:\n",
        "        app.logger.info(\"Received video upload request\")\n",
        "        \n",
        "        # Check if the request has a file part\n",
        "        if 'video' not in request.files:\n",
        "            return jsonify({'error': 'No video file in request'}), 400\n",
        "            \n",
        "        video_file = request.files['video']\n",
        "        \n",
        "        # Check if a file was actually selected\n",
        "        if video_file.filename == '':\n",
        "            return jsonify({'error': 'No video file selected'}), 400\n",
        "            \n",
        "        # Save the uploaded file temporarily\n",
        "        filename = f\"video_{uuid.uuid4().hex}{os.path.splitext(video_file.filename)[1]}\"\n",
        "        video_path = str(UPLOAD_DIR / filename)\n",
        "        video_file.save(video_path)\n",
        "        \n",
        "        app.logger.info(f\"Video saved to {video_path}\")\n",
        "        \n",
        "        # Extract audio from the video\n",
        "        audio_path = extract_audio(video_path)\n",
        "        \n",
        "        if not audio_path:\n",
        "            return jsonify({'error': 'Failed to extract audio from video'}), 500\n",
        "            \n",
        "        # Generate URL for the audio file\n",
        "        audio_url = f\"/audio/{os.path.basename(audio_path)}\"\n",
        "        \n",
        "        return jsonify({\n",
        "            'success': True,\n",
        "            'audio_url': audio_url,\n",
        "            'message': 'Audio extracted successfully'\n",
        "        })\n",
        "    except Exception as e:\n",
        "        app.logger.error(f\"Error in upload_video: {str(e)}\")\n",
        "        app.logger.error(traceback.format_exc())\n",
        "        return jsonify({'error': f\"Server error: {str(e)}\"}), 500\n",
        "\n",
        "@app.route('/video/<filename>')\n",
        "def serve_video(filename):\n",
        "    \"\"\"Serve the generated video file\"\"\"\n",
        "    try:\n",
        "        return send_from_directory(TEMP_DIR, filename)\n",
        "    except Exception as e:\n",
        "        app.logger.error(f\"Error serving video {filename}: {str(e)}\")\n",
        "        return \"Video not found\", 404\n",
        "\n",
        "@app.route('/audio/<filename>')\n",
        "def serve_audio(filename):\n",
        "    \"\"\"Serve the extracted audio file\"\"\"\n",
        "    try:\n",
        "        return send_from_directory(TEMP_DIR, filename)\n",
        "    except Exception as e:\n",
        "        app.logger.error(f\"Error serving audio {filename}: {str(e)}\")\n",
        "        return \"Audio not found\", 404\n",
        "\n",
        "# Clean up temporary files periodically (consider adding a scheduled task)\n",
        "def cleanup_temp_files():\n",
        "    \"\"\"Remove temporary files older than 1 hour\"\"\"\n",
        "    try:\n",
        "        current_time = datetime.now()\n",
        "        for dir_path in [TEMP_DIR, UPLOAD_DIR]:\n",
        "            for file_path in dir_path.glob('*'):\n",
        "                file_age = current_time - datetime.fromtimestamp(file_path.stat().st_mtime)\n",
        "                if file_age.total_seconds() > 3600:  # 1 hour\n",
        "                    file_path.unlink()\n",
        "                    app.logger.info(f\"Removed old temporary file: {file_path}\")\n",
        "    except Exception as e:\n",
        "        app.logger.error(f\"Error cleaning up temporary files: {str(e)}\")\n",
        "\n",
        "if __name__ == \"__main__\":\n",
        "    app.logger.info(\"Starting Flask application...\")\n",
        "    try:\n",
        "        # Schedule cleanup task or run at startup\n",
        "        cleanup_temp_files()\n",
        "        app.run(host='127.0.0.1', port=5002)\n",
        "    except Exception as e:\n",
        "        print(f\"Error starting Flask app: {str(e)}\")\n",
        "        traceback.print_exc()"
      ]
    },
    {
      "cell_type": "code",
      "execution_count": null,
      "metadata": {},
      "outputs": [],
      "source": []
    }
  ],
  "metadata": {
    "colab": {
      "provenance": []
    },
    "kernelspec": {
      "display_name": "Python 3",
      "name": "python3"
    },
    "language_info": {
      "codemirror_mode": {
        "name": "ipython",
        "version": 3
      },
      "file_extension": ".py",
      "mimetype": "text/x-python",
      "name": "python",
      "nbconvert_exporter": "python",
      "pygments_lexer": "ipython3",
      "version": "3.12.4"
    }
  },
  "nbformat": 4,
  "nbformat_minor": 0
}
